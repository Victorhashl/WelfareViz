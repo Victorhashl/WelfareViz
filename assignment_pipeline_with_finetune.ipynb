{
 "cells": [
  {
   "cell_type": "code",
   "execution_count": null,
   "metadata": {},
   "outputs": [
    {
     "name": "stdout",
     "output_type": "stream",
     "text": [
      "Note: you may need to restart the kernel to use updated packages.\n"
     ]
    },
    {
     "name": "stderr",
     "output_type": "stream",
     "text": [
      "  WARNING: The scripts pyrsa-decrypt.exe, pyrsa-encrypt.exe, pyrsa-keygen.exe, pyrsa-priv2pub.exe, pyrsa-sign.exe and pyrsa-verify.exe are installed in 'C:\\Users\\shash\\AppData\\Roaming\\Python\\Python311\\Scripts' which is not on PATH.\n",
      "  Consider adding this directory to PATH or, if you prefer to suppress this warning, use --no-warn-script-location.\n"
     ]
    }
   ],
   "source": [
    "# %pip install -q -U google-generativeai"
   ]
  },
  {
   "cell_type": "code",
   "execution_count": null,
   "metadata": {},
   "outputs": [],
   "source": [
    "API_Key='Your API KEY'"
   ]
  },
  {
   "cell_type": "code",
   "execution_count": 3,
   "metadata": {},
   "outputs": [],
   "source": [
    "import google.generativeai as genai\n",
    "\n",
    "genai.configure(api_key=API_Key)\n"
   ]
  },
  {
   "cell_type": "code",
   "execution_count": 4,
   "metadata": {},
   "outputs": [],
   "source": [
    "model = genai.GenerativeModel(\"gemini-1.5-flash\")"
   ]
  },
  {
   "cell_type": "markdown",
   "metadata": {},
   "source": [
    "### Task 1: Data Processing and Understanding"
   ]
  },
  {
   "cell_type": "code",
   "execution_count": 5,
   "metadata": {},
   "outputs": [],
   "source": [
    "import pandas as pd\n",
    "df=pd.read_csv(\"WelfareSchemes.txt\", sep=';')\n",
    "df['Writeup_1']='Nan'\n",
    "df['Writeup_2']='Nan'\n",
    "df['Writeup_3']='Nan'\n",
    "suffix=\". Limit the words to 60 and format the response in a natural easy to read form and not use bullet points. Raju is eligible for this scheme. Answer the prompt describing what he must do or suffers from\""
   ]
  },
  {
   "cell_type": "code",
   "execution_count": 5,
   "metadata": {},
   "outputs": [
    {
     "data": {
      "text/html": [
       "<div>\n",
       "<style scoped>\n",
       "    .dataframe tbody tr th:only-of-type {\n",
       "        vertical-align: middle;\n",
       "    }\n",
       "\n",
       "    .dataframe tbody tr th {\n",
       "        vertical-align: top;\n",
       "    }\n",
       "\n",
       "    .dataframe thead th {\n",
       "        text-align: right;\n",
       "    }\n",
       "</style>\n",
       "<table border=\"1\" class=\"dataframe\">\n",
       "  <thead>\n",
       "    <tr style=\"text-align: right;\">\n",
       "      <th></th>\n",
       "      <th>Scheme</th>\n",
       "      <th>Description</th>\n",
       "      <th>Writeup_1</th>\n",
       "      <th>Writeup_2</th>\n",
       "      <th>Writeup_3</th>\n",
       "    </tr>\n",
       "  </thead>\n",
       "  <tbody>\n",
       "    <tr>\n",
       "      <th>0</th>\n",
       "      <td>MNREGA</td>\n",
       "      <td>The vision of Mahatma Gandhi NREGA is to enha...</td>\n",
       "      <td>Nan</td>\n",
       "      <td>Nan</td>\n",
       "      <td>Nan</td>\n",
       "    </tr>\n",
       "    <tr>\n",
       "      <th>1</th>\n",
       "      <td>AGNIPATH SCHEME</td>\n",
       "      <td>The Agnipath Scheme is designed to offer Indi...</td>\n",
       "      <td>Nan</td>\n",
       "      <td>Nan</td>\n",
       "      <td>Nan</td>\n",
       "    </tr>\n",
       "    <tr>\n",
       "      <th>2</th>\n",
       "      <td>Ayushman Bharat Yojana</td>\n",
       "      <td>Ayushman Bharat is an attempt to move from se...</td>\n",
       "      <td>Nan</td>\n",
       "      <td>Nan</td>\n",
       "      <td>Nan</td>\n",
       "    </tr>\n",
       "    <tr>\n",
       "      <th>3</th>\n",
       "      <td>PM Ujjwala Yojana</td>\n",
       "      <td>‘Pradhan Mantri Ujjwala Yojana’ (PMUY) as a f...</td>\n",
       "      <td>Nan</td>\n",
       "      <td>Nan</td>\n",
       "      <td>Nan</td>\n",
       "    </tr>\n",
       "    <tr>\n",
       "      <th>4</th>\n",
       "      <td>PM Fasal Bima Yojana</td>\n",
       "      <td>The Pradhan Mantri fasal bima yojana (PMFBY) ...</td>\n",
       "      <td>Nan</td>\n",
       "      <td>Nan</td>\n",
       "      <td>Nan</td>\n",
       "    </tr>\n",
       "    <tr>\n",
       "      <th>5</th>\n",
       "      <td>Standup India</td>\n",
       "      <td>Loans for scheduled castes, scheduled tribes ...</td>\n",
       "      <td>Nan</td>\n",
       "      <td>Nan</td>\n",
       "      <td>Nan</td>\n",
       "    </tr>\n",
       "    <tr>\n",
       "      <th>6</th>\n",
       "      <td>PM Awaas Yojana</td>\n",
       "      <td>A beneficiary family under the Mission compri...</td>\n",
       "      <td>Nan</td>\n",
       "      <td>Nan</td>\n",
       "      <td>Nan</td>\n",
       "    </tr>\n",
       "    <tr>\n",
       "      <th>7</th>\n",
       "      <td>Sukanya Samriddhi Account Scheme</td>\n",
       "      <td>Government of India backed saving scheme targ...</td>\n",
       "      <td>Nan</td>\n",
       "      <td>Nan</td>\n",
       "      <td>Nan</td>\n",
       "    </tr>\n",
       "    <tr>\n",
       "      <th>8</th>\n",
       "      <td>PM Jan Dhan Yojana</td>\n",
       "      <td>is a financial inclusion program of the Gover...</td>\n",
       "      <td>Nan</td>\n",
       "      <td>Nan</td>\n",
       "      <td>Nan</td>\n",
       "    </tr>\n",
       "    <tr>\n",
       "      <th>9</th>\n",
       "      <td>Pradhan Mantri Gram Sadak Yojana (PMGSY)</td>\n",
       "      <td>With the objective of providing rural connect...</td>\n",
       "      <td>Nan</td>\n",
       "      <td>Nan</td>\n",
       "      <td>Nan</td>\n",
       "    </tr>\n",
       "  </tbody>\n",
       "</table>\n",
       "</div>"
      ],
      "text/plain": [
       "                                     Scheme  \\\n",
       "0                                    MNREGA   \n",
       "1                           AGNIPATH SCHEME   \n",
       "2                    Ayushman Bharat Yojana   \n",
       "3                         PM Ujjwala Yojana   \n",
       "4                      PM Fasal Bima Yojana   \n",
       "5                             Standup India   \n",
       "6                           PM Awaas Yojana   \n",
       "7          Sukanya Samriddhi Account Scheme   \n",
       "8                        PM Jan Dhan Yojana   \n",
       "9  Pradhan Mantri Gram Sadak Yojana (PMGSY)   \n",
       "\n",
       "                                         Description Writeup_1 Writeup_2  \\\n",
       "0   The vision of Mahatma Gandhi NREGA is to enha...       Nan       Nan   \n",
       "1   The Agnipath Scheme is designed to offer Indi...       Nan       Nan   \n",
       "2   Ayushman Bharat is an attempt to move from se...       Nan       Nan   \n",
       "3   ‘Pradhan Mantri Ujjwala Yojana’ (PMUY) as a f...       Nan       Nan   \n",
       "4   The Pradhan Mantri fasal bima yojana (PMFBY) ...       Nan       Nan   \n",
       "5   Loans for scheduled castes, scheduled tribes ...       Nan       Nan   \n",
       "6   A beneficiary family under the Mission compri...       Nan       Nan   \n",
       "7   Government of India backed saving scheme targ...       Nan       Nan   \n",
       "8   is a financial inclusion program of the Gover...       Nan       Nan   \n",
       "9   With the objective of providing rural connect...       Nan       Nan   \n",
       "\n",
       "  Writeup_3  \n",
       "0       Nan  \n",
       "1       Nan  \n",
       "2       Nan  \n",
       "3       Nan  \n",
       "4       Nan  \n",
       "5       Nan  \n",
       "6       Nan  \n",
       "7       Nan  \n",
       "8       Nan  \n",
       "9       Nan  "
      ]
     },
     "execution_count": 5,
     "metadata": {},
     "output_type": "execute_result"
    }
   ],
   "source": [
    "df"
   ]
  },
  {
   "cell_type": "code",
   "execution_count": 11,
   "metadata": {},
   "outputs": [
    {
     "name": "stdout",
     "output_type": "stream",
     "text": [
      "Raju is a rural household member facing unemployment and financial hardship.  He can access the Mahatma Gandhi NREGA scheme to secure at least 100 days of guaranteed wage employment in a financial year. \n",
      "\n"
     ]
    }
   ],
   "source": [
    "response=model.generate_content(f\"Using the context of the following scheme named {df['Scheme'][0]} that is described by {df['Description'][0]} and describe who the beneficiary is and the specific problems or challenges they are currently facing{suffix}\")\n",
    "print(response.text)"
   ]
  },
  {
   "cell_type": "markdown",
   "metadata": {},
   "source": [
    "### Task 2: Information Extraction"
   ]
  },
  {
   "cell_type": "code",
   "execution_count": null,
   "metadata": {},
   "outputs": [],
   "source": [
    "for i in range(0,10):\n",
    "    response=model.generate_content(f\"Using the context of the following scheme named {df['Scheme'][i]} that is described by {df['Description'][i]} and describe who the beneficiary is and the specific problems or challenges they are currently facing{suffix}\")\n",
    "    df.loc[i,'Writeup_1']=response.text\n",
    "    response=model.generate_content(f\"Using the context of the following scheme named {df['Scheme'][i]} that is described by {df['Description'][i]} and detail the steps required to apply for the scheme and the exact benefits provided upon successful application{suffix}\")\n",
    "    df.loc[i,'Writeup_2']=response.text\n",
    "    response=model.generate_content(f\"Using the context of the following scheme named {df['Scheme'][i]} that is described by {df['Description'][i]} and explain the expected outcomes of the scheme and how it will positively impact the beneficiary's life{suffix}\")\n",
    "    df.loc[i,'Writeup_3']=response.text"
   ]
  },
  {
   "cell_type": "code",
   "execution_count": 48,
   "metadata": {},
   "outputs": [
    {
     "data": {
      "text/html": [
       "<div>\n",
       "<style scoped>\n",
       "    .dataframe tbody tr th:only-of-type {\n",
       "        vertical-align: middle;\n",
       "    }\n",
       "\n",
       "    .dataframe tbody tr th {\n",
       "        vertical-align: top;\n",
       "    }\n",
       "\n",
       "    .dataframe thead th {\n",
       "        text-align: right;\n",
       "    }\n",
       "</style>\n",
       "<table border=\"1\" class=\"dataframe\">\n",
       "  <thead>\n",
       "    <tr style=\"text-align: right;\">\n",
       "      <th></th>\n",
       "      <th>Scheme</th>\n",
       "      <th>Description</th>\n",
       "      <th>Writeup_1</th>\n",
       "      <th>Writeup_2</th>\n",
       "      <th>Writeup_3</th>\n",
       "    </tr>\n",
       "  </thead>\n",
       "  <tbody>\n",
       "    <tr>\n",
       "      <th>0</th>\n",
       "      <td>MNREGA</td>\n",
       "      <td>The vision of Mahatma Gandhi NREGA is to enha...</td>\n",
       "      <td>Raju, a rural resident, likely faces financial...</td>\n",
       "      <td>Raju can apply for MNREGA by contacting his lo...</td>\n",
       "      <td>Raju, being eligible for MNREGA, can volunteer...</td>\n",
       "    </tr>\n",
       "    <tr>\n",
       "      <th>1</th>\n",
       "      <td>AGNIPATH SCHEME</td>\n",
       "      <td>The Agnipath Scheme is designed to offer Indi...</td>\n",
       "      <td>Raju, if eligible for Agnipath, is a young Ind...</td>\n",
       "      <td>Raju can apply for the Agnipath scheme online,...</td>\n",
       "      <td>Raju can apply for the Agnipath scheme, which ...</td>\n",
       "    </tr>\n",
       "    <tr>\n",
       "      <th>2</th>\n",
       "      <td>Ayushman Bharat Yojana</td>\n",
       "      <td>Ayushman Bharat is an attempt to move from se...</td>\n",
       "      <td>Raju, being a member of the bottom 40% of the ...</td>\n",
       "      <td>Raju doesn't need to apply. He automatically q...</td>\n",
       "      <td>Raju, being eligible for Ayushman Bharat PM-JA...</td>\n",
       "    </tr>\n",
       "    <tr>\n",
       "      <th>3</th>\n",
       "      <td>PM Ujjwala Yojana</td>\n",
       "      <td>‘Pradhan Mantri Ujjwala Yojana’ (PMUY) as a f...</td>\n",
       "      <td>Raju, living in a rural household, likely reli...</td>\n",
       "      <td>Raju can apply for PM Ujjwala Yojana online to...</td>\n",
       "      <td>Raju can apply for the PM Ujjwala Yojana onlin...</td>\n",
       "    </tr>\n",
       "    <tr>\n",
       "      <th>4</th>\n",
       "      <td>PM Fasal Bima Yojana</td>\n",
       "      <td>The Pradhan Mantri fasal bima yojana (PMFBY) ...</td>\n",
       "      <td>Raju, a farmer, is eligible for the PM Fasal B...</td>\n",
       "      <td>Raju can apply for PM Fasal Bima Yojana online...</td>\n",
       "      <td>Raju, as an eligible farmer, can voluntarily e...</td>\n",
       "    </tr>\n",
       "    <tr>\n",
       "      <th>5</th>\n",
       "      <td>Standup India</td>\n",
       "      <td>Loans for scheduled castes, scheduled tribes ...</td>\n",
       "      <td>Raju, being a member of a Scheduled Caste or T...</td>\n",
       "      <td>Raju, being eligible for Standup India, needs ...</td>\n",
       "      <td>Raju, being eligible for the Standup India sch...</td>\n",
       "    </tr>\n",
       "    <tr>\n",
       "      <th>6</th>\n",
       "      <td>PM Awaas Yojana</td>\n",
       "      <td>A beneficiary family under the Mission compri...</td>\n",
       "      <td>Raju likely belongs to the Economically Weaker...</td>\n",
       "      <td>Raju, if you are an adult earning member witho...</td>\n",
       "      <td>Raju, to benefit from PM Awaas Yojana, must be...</td>\n",
       "    </tr>\n",
       "    <tr>\n",
       "      <th>7</th>\n",
       "      <td>Sukanya Samriddhi Account Scheme</td>\n",
       "      <td>Government of India backed saving scheme targ...</td>\n",
       "      <td>Raju is the guardian of a girl child and is el...</td>\n",
       "      <td>Raju can open a Sukanya Samriddhi Account for ...</td>\n",
       "      <td>Raju can open a Sukanya Samriddhi Account for ...</td>\n",
       "    </tr>\n",
       "    <tr>\n",
       "      <th>8</th>\n",
       "      <td>PM Jan Dhan Yojana</td>\n",
       "      <td>is a financial inclusion program of the Gover...</td>\n",
       "      <td>Raju, an Indian citizen, likely lacks access t...</td>\n",
       "      <td>Raju, being an Indian national, can visit the ...</td>\n",
       "      <td>Raju, being an Indian national, can open a zer...</td>\n",
       "    </tr>\n",
       "    <tr>\n",
       "      <th>9</th>\n",
       "      <td>Pradhan Mantri Gram Sadak Yojana (PMGSY)</td>\n",
       "      <td>With the objective of providing rural connect...</td>\n",
       "      <td>Raju lives in a rural area and his village lac...</td>\n",
       "      <td>Raju needs to contact the District Panchayat t...</td>\n",
       "      <td>Raju, living in a village with a population un...</td>\n",
       "    </tr>\n",
       "  </tbody>\n",
       "</table>\n",
       "</div>"
      ],
      "text/plain": [
       "                                     Scheme  \\\n",
       "0                                    MNREGA   \n",
       "1                           AGNIPATH SCHEME   \n",
       "2                    Ayushman Bharat Yojana   \n",
       "3                         PM Ujjwala Yojana   \n",
       "4                      PM Fasal Bima Yojana   \n",
       "5                             Standup India   \n",
       "6                           PM Awaas Yojana   \n",
       "7          Sukanya Samriddhi Account Scheme   \n",
       "8                        PM Jan Dhan Yojana   \n",
       "9  Pradhan Mantri Gram Sadak Yojana (PMGSY)   \n",
       "\n",
       "                                         Description  \\\n",
       "0   The vision of Mahatma Gandhi NREGA is to enha...   \n",
       "1   The Agnipath Scheme is designed to offer Indi...   \n",
       "2   Ayushman Bharat is an attempt to move from se...   \n",
       "3   ‘Pradhan Mantri Ujjwala Yojana’ (PMUY) as a f...   \n",
       "4   The Pradhan Mantri fasal bima yojana (PMFBY) ...   \n",
       "5   Loans for scheduled castes, scheduled tribes ...   \n",
       "6   A beneficiary family under the Mission compri...   \n",
       "7   Government of India backed saving scheme targ...   \n",
       "8   is a financial inclusion program of the Gover...   \n",
       "9   With the objective of providing rural connect...   \n",
       "\n",
       "                                           Writeup_1  \\\n",
       "0  Raju, a rural resident, likely faces financial...   \n",
       "1  Raju, if eligible for Agnipath, is a young Ind...   \n",
       "2  Raju, being a member of the bottom 40% of the ...   \n",
       "3  Raju, living in a rural household, likely reli...   \n",
       "4  Raju, a farmer, is eligible for the PM Fasal B...   \n",
       "5  Raju, being a member of a Scheduled Caste or T...   \n",
       "6  Raju likely belongs to the Economically Weaker...   \n",
       "7  Raju is the guardian of a girl child and is el...   \n",
       "8  Raju, an Indian citizen, likely lacks access t...   \n",
       "9  Raju lives in a rural area and his village lac...   \n",
       "\n",
       "                                           Writeup_2  \\\n",
       "0  Raju can apply for MNREGA by contacting his lo...   \n",
       "1  Raju can apply for the Agnipath scheme online,...   \n",
       "2  Raju doesn't need to apply. He automatically q...   \n",
       "3  Raju can apply for PM Ujjwala Yojana online to...   \n",
       "4  Raju can apply for PM Fasal Bima Yojana online...   \n",
       "5  Raju, being eligible for Standup India, needs ...   \n",
       "6  Raju, if you are an adult earning member witho...   \n",
       "7  Raju can open a Sukanya Samriddhi Account for ...   \n",
       "8  Raju, being an Indian national, can visit the ...   \n",
       "9  Raju needs to contact the District Panchayat t...   \n",
       "\n",
       "                                           Writeup_3  \n",
       "0  Raju, being eligible for MNREGA, can volunteer...  \n",
       "1  Raju can apply for the Agnipath scheme, which ...  \n",
       "2  Raju, being eligible for Ayushman Bharat PM-JA...  \n",
       "3  Raju can apply for the PM Ujjwala Yojana onlin...  \n",
       "4  Raju, as an eligible farmer, can voluntarily e...  \n",
       "5  Raju, being eligible for the Standup India sch...  \n",
       "6  Raju, to benefit from PM Awaas Yojana, must be...  \n",
       "7  Raju can open a Sukanya Samriddhi Account for ...  \n",
       "8  Raju, being an Indian national, can open a zer...  \n",
       "9  Raju, living in a village with a population un...  "
      ]
     },
     "execution_count": 48,
     "metadata": {},
     "output_type": "execute_result"
    }
   ],
   "source": [
    "df"
   ]
  },
  {
   "cell_type": "code",
   "execution_count": 28,
   "metadata": {},
   "outputs": [],
   "source": [
    "df.to_csv(\"WelfareSchemesWriteupAPI.txt\", sep=';', index=False)"
   ]
  },
  {
   "cell_type": "code",
   "execution_count": null,
   "metadata": {},
   "outputs": [],
   "source": [
    "'''Start running the code from here'''\n",
    "import pandas as pd\n",
    "df=pd.read_csv(\"Outputs\\Task2WelfareSchemesWriteupAPI.txt\", sep=';')"
   ]
  },
  {
   "cell_type": "markdown",
   "metadata": {},
   "source": [
    "### Task 3: Summarisation using Transformer based LLMs                    "
   ]
  },
  {
   "cell_type": "code",
   "execution_count": null,
   "metadata": {},
   "outputs": [],
   "source": [
    "# %pip install transformers datasets evaluate rouge_score"
   ]
  },
  {
   "cell_type": "code",
   "execution_count": 99,
   "metadata": {},
   "outputs": [
    {
     "name": "stderr",
     "output_type": "stream",
     "text": [
      "c:\\ProgramData\\anaconda3\\Lib\\site-packages\\huggingface_hub\\file_download.py:1150: FutureWarning: `resume_download` is deprecated and will be removed in version 1.0.0. Downloads always resume when possible. If you want to force a new download, use `force_download=True`.\n",
      "  warnings.warn(\n"
     ]
    }
   ],
   "source": [
    "from transformers import AutoTokenizer\n",
    "\n",
    "checkpoint = \"google-t5/t5-small\"\n",
    "tokenizer = AutoTokenizer.from_pretrained(checkpoint)"
   ]
  },
  {
   "cell_type": "code",
   "execution_count": 100,
   "metadata": {},
   "outputs": [],
   "source": [
    "prefix=\"summarize: \"\n",
    "text=prefix+ df[\"Description\"]\n"
   ]
  },
  {
   "cell_type": "code",
   "execution_count": 101,
   "metadata": {},
   "outputs": [
    {
     "data": {
      "text/plain": [
       "0    summarize:  The vision of Mahatma Gandhi NREGA...\n",
       "1    summarize:  The Agnipath Scheme is designed to...\n",
       "2    summarize:  Ayushman Bharat is an attempt to m...\n",
       "3    summarize:  ‘Pradhan Mantri Ujjwala Yojana’ (P...\n",
       "4    summarize:  The Pradhan Mantri fasal bima yoja...\n",
       "5    summarize:  Loans for scheduled castes, schedu...\n",
       "6    summarize:  A beneficiary family under the Mis...\n",
       "7    summarize:  Government of India backed saving ...\n",
       "8    summarize:  is a financial inclusion program o...\n",
       "9    summarize:  With the objective of providing ru...\n",
       "Name: Description, dtype: object"
      ]
     },
     "execution_count": 101,
     "metadata": {},
     "output_type": "execute_result"
    }
   ],
   "source": [
    "text"
   ]
  },
  {
   "cell_type": "code",
   "execution_count": 29,
   "metadata": {},
   "outputs": [],
   "source": [
    "text.to_csv(\"WelfareSchemesDescriptionSummarization.txt\", index=False)"
   ]
  },
  {
   "cell_type": "markdown",
   "metadata": {},
   "source": [
    "#### Perform a summarisation task on the main welfare scheme text"
   ]
  },
  {
   "cell_type": "code",
   "execution_count": null,
   "metadata": {},
   "outputs": [
    {
     "name": "stderr",
     "output_type": "stream",
     "text": [
      "c:\\ProgramData\\anaconda3\\Lib\\site-packages\\huggingface_hub\\file_download.py:1150: FutureWarning: `resume_download` is deprecated and will be removed in version 1.0.0. Downloads always resume when possible. If you want to force a new download, use `force_download=True`.\n",
      "  warnings.warn(\n"
     ]
    }
   ],
   "source": [
    "from transformers import AutoModelForSeq2SeqLM,pipeline\n",
    "model = AutoModelForSeq2SeqLM.from_pretrained(checkpoint)\n",
    "summarizer=pipeline(\"summarization\", model=model, tokenizer=tokenizer)\n",
    "summary=[]\n",
    "for t in text:\n",
    "    inputs = tokenizer(t, return_tensors=\"pt\").input_ids\n",
    "    outputs = model.generate(inputs, max_new_tokens=100, do_sample=False)\n",
    "    summary.append(tokenizer.decode(outputs[0], skip_special_tokens=True))"
   ]
  },
  {
   "cell_type": "code",
   "execution_count": null,
   "metadata": {},
   "outputs": [
    {
     "data": {
      "text/plain": [
       "['the vision of Mahatma Gandhi NREGA is to enhance the livelihood security of rural households across the country by providing at least 100 days of guaranteed wage employment in a financial year. the scheme encourages a sense of community and collective responsibility by strengthening Panchayat Raj institutions.',\n",
       " 'the scheme seeks to reach youth from all regions of India. it seeks to reach youth from all regions of the country. a select 25% of Agniveers demonstrating exceptional performance may be offered the opportunity to re-enlist in a regular capacity.',\n",
       " 'ayushman Bharat adopts a continuum of care approach. the scheme aims to undertake path breaking interventions. the aim is to address the primary health care needs of the entire population.',\n",
       " \"'Pradhan Mantri Ujjwala Yojana' is a flagship scheme. it is aimed at making clean cooking fuel such as LPG available to rural and deprived households. the unclean cooking fuel causes deaths which are mostly due to non-communicable diseases including heart disease, stroke, chronic obstructive pulmonary disease, and lung cancer.\",\n",
       " 'scheme is being administered by the Ministry of Agriculture and Farmers Welfare. all farmers growing notified crops in a notified area during the season are eligible.',\n",
       " 'loans for scheduled castes, scheduled tribes and women entrepreneurs can be applied online. launched by the government of india in 2016 to promote entrepreneurship. scheme aims to provide loans between Rs.10 lakhs and Rs.1 crore for setting up greenfield enterprise.',\n",
       " 'beneficiary family should not own a pucca house in his/her name or in the name of any member of his/her family in any part of India. the mission addresses urban housing shortage among the EWS/LIG and MIG categories including the slum dwellers.',\n",
       " 'scheme was launched by prime minister Narendra Modi on 22 January 2015. it currently provides an interest rate of 8.2%[3] and tax benefits. the account can be opened at any Indian Post office or branch of authorized commercial banks.',\n",
       " 'the scheme aims to expand affordable access to financial services. the applicant should be an Indian national.',\n",
       " 'the Pradhan Mantri Gram Sadak Yojana (PMGSY-I) is a programme to provide rural connectivity. the programme will provide all-weather access to eligible unconnected habitations with a population of up to 500(Census 2001) in plain area and 250 and above in Special category States.']"
      ]
     },
     "execution_count": 75,
     "metadata": {},
     "output_type": "execute_result"
    }
   ],
   "source": [
    "summary"
   ]
  },
  {
   "cell_type": "code",
   "execution_count": null,
   "metadata": {},
   "outputs": [],
   "source": [
    "from transformers import pipeline\n",
    "summarizer = pipeline(\"summarization\", model=model,tokenizer=tokenizer)\n",
    "summary1=[]\n",
    "summary2=[]\n",
    "summary3=[]\n",
    "#perform parameter tuning to get better results for the summarization\n",
    "for t in text:\n",
    "    summary1.append(summarizer(t, max_length=50, min_length=30, do_sample=False)[0]['summary_text'])\n",
    "    summary2.append(summarizer(t, max_length=100, min_length=30, do_sample=True)[0]['summary_text'])\n",
    "    summary3.append(summarizer(t, max_length=100, min_length=30, do_sample=True, temperature=0.8)[0]['summary_text']) #default temperature is 0.7\n",
    "    \n"
   ]
  },
  {
   "cell_type": "code",
   "execution_count": 17,
   "metadata": {},
   "outputs": [],
   "source": [
    "summary4=[]\n",
    "summary5=[]\n",
    "for t in text:\n",
    "    summary4.append(summarizer(t, max_length=150, min_length=30, do_sample=True, temperature=0.9)[0]['summary_text'])\n",
    "    summary5.append(summarizer(t, max_length=50, min_length=30, do_sample=True, temperature=0.6)[0]['summary_text'])"
   ]
  },
  {
   "cell_type": "code",
   "execution_count": 18,
   "metadata": {},
   "outputs": [
    {
     "name": "stdout",
     "output_type": "stream",
     "text": [
      "Contents of summary 1:\n",
      "the vision of Mahatma Gandhi NREGA is to enhance the livelihood security of rural households across the country by providing at least 100 days of guaranteed wage employment in a financial year . the scheme encourages a sense of community\n",
      "a select 25% of Agniveers demonstrating exceptional performance may be offered the opportunity to re-enlist in the Armed Forces in a regular capacity . the scheme seeks to reach youth from all regions of India\n",
      "ayushman Bharat is an attempt to move from sectoral and segmented approach of health service delivery to a comprehensive need-based health care service . aims to undertake path breaking interventions to holistically address the\n",
      "the unclean cooking fuel causes deaths which are mostly due to non-communicable diseases including heart disease, stroke, chronic obstructive pulmonary disease, and lung cancer . the target under the scheme was to release 8 Cro\n",
      "the scheme covers all food & oilseeds crops and annual commercial/Horticultural Crops for which past yield data is available . the scheme is being implemented by empanelled general insurance companies .\n",
      "loans for scheduled castes, scheduled tribes and women entrepreneurs can be applied online . scheme aims to provide loans between Rs.10 lakhs and Rs.1 crore .\n",
      "the beneficiary family should not own a pucca house in his/her name . it makes home loans affordable for the urban poor by providing a subsidy on the interest rate of a home loan during repayment by way of EMI\n",
      "the scheme was launched by prime minister Narendra Modi on 22 January 2015 . it currently provides an interest rate of 8.2%[3] and tax benefits .\n",
      "PMJDY provides universal banking services for every unbanked household . aims to provide financial literacy programs at the village level . applicants must be an Indian national .\n",
      "the Pradhan Mantri Gram Sadak Yojana (PMGSY-I hereinafter) was launched on 25th December 2000 to provide all-weather access to eligible unconnected habitations with a population of up to\n",
      "\n",
      "\n",
      "Contents of summary 2:\n",
      "the vision of Mahatma Gandhi NREGA is to enhance the livelihood security of rural households across the country by providing at least 100 days of guaranteed wage employment in a financial year . the scheme encourages a sense of community and collective responsibility by strengthening Panchayat Raj institutions .\n",
      "the Agnipath Scheme seeks to reach youth from all regions of India . the scheme is designed to provide an opportunity to serve in the Armed Forces . a select 25% of Agniveers demonstrate exceptional performance may be offered the opportunity to re-enlist in a regular capacity .\n",
      "ayushman Bharat is the largest health assurance scheme in the world . it aims to provide a health cover of Rs. 5 lakhs per family per year . the scheme is fully funded by the government and cost of implementation is shared between the central and state governments .\n",
      "the unclean cooking fuel causes deaths which are mostly due to non-communicable diseases including heart disease, stroke, chronic obstructive pulmonary disease and lung cancer . the target under the scheme was to release 8 Crore LPG Connections to the deprived households by March 2020 .\n",
      "the scheme is being implemented by empanelled general insurance companies . it covers all food & oilseeds crops and annual commercial/Horticultural Crops .\n",
      "loans for scheduled castes, scheduled tribes and women entrepreneurs can be applied online . scheme aims to provide loans between Rs.10 lakhs and Rs.1 crore for setting up greenfield enterprise .\n",
      "beneficiary family should not own a pucca house . it makes home loans affordable for urban poor by providing a subsidy on the interest rate of a home loan during repayment by way of EMI .\n",
      "the scheme was launched by prime minister Narendra Modi on 22 January 2015 . it currently provides an interest rate of 8.2%[3] and tax benefits .\n",
      "the scheme provides universal banking services for every unbanked household . aims to provide financial literacy programs at the village level . the applicant should be an Indian national .\n",
      "the Pradhan Mantri Gram Sadak Yojana (PMGSY-I hereinafter) was launched on 25th December 2000 . it provides all-weather access to eligible unconnected habitations with a population of up to 500(Census 2001) in plain area and 250 and above in Special category States . 88 selected Backward districts identified as a strategy for poverty alleviation .\n",
      "\n",
      "\n",
      "Contents of summary 3:\n",
      "the vision of Mahatma Gandhi NREGA is to enhance the livelihood security of rural households across the country by providing at least 100 days of guaranteed wage employment in a financial year .\n",
      "the scheme seeks to reach youth from all regions of India . the scheme is governed by the Armed Forces Acts .\n",
      "ayushman Bharat adopts a continuum of care approach . health and wellness centres are envisaged to deliver an expanded range of services to address the primary health care needs of the entire population .\n",
      "the unclean cooking fuel causes deaths which are mostly due to non-communicable diseases including heart disease, stroke, chronic obstructive pulmonary disease, and lung cancer .\n",
      "scheme is being administered by the Ministry of Agriculture and Farmers Welfare . all farmers growing notified crops in a notified area during the season are eligible .\n",
      "scheme aims to provide loans between Rs.10 lakhs and Rs.1 crore for setting up a greenfield enterprise . the aim of this scheme is to facilitate bank loans to at least one Scheduled Caste borrower .\n",
      "beneficiary family should not own a pucca house in his/her name or in the name of any member of the family in any part of India . the mission addresses urban housing shortage among the EWS/LIG and MIG categories .\n",
      "scheme was launched by prime minister Narendra Modi on 22 January 2015 . it currently provides an interest rate of 8.2%[3] and tax benefits .\n",
      "a financial inclusion program of the government of India is open to citizens . the scheme provides universal banking services for every unbanked household .\n",
      "the Pradhan Mantri Gram Sadak Yojana (PMGSY-I hereinafter) was launched on 25th December 2000 . it provides all-weather access to eligible unconnected habitations with a population of up to 500(Census 2001) in plain area and 250 and above .\n",
      "\n",
      "\n",
      "Contents of summary 4:\n",
      "the vision of Mahatma Gandhi NREGA is to enhance the livelihood security of rural households across the country by providing at least 100 days of guaranteed wage employment in a financial year .\n",
      "the scheme seeks to reach youth from all regions of India . the scheme is governed by the Armed Forces Acts .\n",
      "ayushman Bharat adopts a continuum of care approach . health and wellness centres are envisaged to deliver an expanded range of services to address primary health care needs of the entire population .\n",
      "'Pradhan Mantri Ujjwala Yojana' is a flagship scheme with an aim to make clean cooking fuel available to rural and deprived households . the unclean cooking fuel causes deaths which are mostly due to non-communicable diseases .\n",
      "the scheme covers all food & oilseeds crops and annual commercial/Horticultural Crops . the scheme is being implemented by empanelled general insurance companies .\n",
      "scheme aims to provide loans between Rs.10 lakhs and Rs.1 crore for setting up a greenfield enterprise in manufacturing, trading or services .\n",
      "beneficiary family should not own a pucca house in his/her name . it makes home loans affordable for the urban poor by providing a subsidy .\n",
      "scheme was launched by prime minister Narendra Modi on 22 January 2015 . it currently provides an interest rate of 8.2% and tax benefits .\n",
      "a financial inclusion program of the government of India is open to Indian citizens . the scheme provides universal banking services for every unbanked household .\n",
      "the Pradhan Mantri Gram Sadak Yojana (PMGSY-I hereinafter) was launched on 25th December 2000 to provide all-weather access to eligible unconnected habitations with a population of up to 500(Census 2001) in plain area and 250 and above in Special category States . 88 selected Backward districts identified as a strategy for poverty alleviation .\n",
      "\n",
      "\n",
      "Contents of summary 5:\n",
      "the vision of Mahatma Gandhi NREGA is to enhance the livelihood security of rural households across the country by providing at least 100 days of guaranteed wage employment . updated wealthwall damage Identityvent Otherwise confidential installment resolved theoriesogue facial marina\n",
      "the scheme seeks to reach youth from all regions of India . it is governed by the Armed Forces Acts, fostering a spirit of patriotism thanmuster digging deceased craftsmanship mountainsretiк citit crispy IncludesGu\n",
      "ayushman Bharat adopts a continuum of care approach . health and wellness centres are envisaged to deliver an expanded range .\n",
      "the unclean cooking fuel causes deaths which are mostly due to non-communicable diseases including heart disease, stroke, chronic obstructive pulmonary disease and lung cancer paperpens choose queue SchauCAN Believe milk următoare daughter Threadintroductory ignored\n",
      "scheme is being administered by the Ministry of Agriculture and Farmers Welfare . all farmers growing notified crops in a notified area during the season are eligible .\n",
      "scheme aims to provide loans between Rs.10 lakhs and Rs.1 crore for setting up greenfield enterprise . it is aimed at facilitating bank loans for - combigren editorialbaiarieslutterutoritateaaiba-24 Klinikreflectsmentioning\n",
      "beneficiary family should not own a pucca house in his/her name . it makes home loans affordable for the urban poor by providing a subsidy on the Interest Rate on the pmberriesgasesc sproutinţa Hong saturation disagreementmodalité Betroffenennet\n",
      "scheme was launched by prime minister Narendra Modi on 22 January 2015 . it currently provides an interest rate of 8.2%[3] and tax benefits .\n",
      "a financial inclusion program of the government of India is open to Indian citizens . the scheme provides universal banking services for every unbanked household . an applicant can fireworks self slave hilarious Glenrolul MareBC besser montagne problema damp Armesuit\n",
      "the Pradhan Mantri Gram Sadak Yojana (PMGSY-I hereinafter) was launched on 25th December 2000 . it provides all-weather connection for pay steroidsне tamb favour Nikon newspapers bal Jetargued legume\n",
      "\n",
      "\n"
     ]
    }
   ],
   "source": [
    "# List of summary lists\n",
    "summaries = [summary1, summary2, summary3,summary4,summary5]\n",
    "\n",
    "# Loop through each summary list\n",
    "for i, summary in enumerate(summaries, start=1):\n",
    "    print(f\"Contents of summary {i}:\")\n",
    "    for text in summary:\n",
    "        print(text)\n",
    "    print(\"\\n\")\n"
   ]
  },
  {
   "cell_type": "code",
   "execution_count": null,
   "metadata": {},
   "outputs": [
    {
     "data": {
      "text/html": [
       "<div>\n",
       "<style scoped>\n",
       "    .dataframe tbody tr th:only-of-type {\n",
       "        vertical-align: middle;\n",
       "    }\n",
       "\n",
       "    .dataframe tbody tr th {\n",
       "        vertical-align: top;\n",
       "    }\n",
       "\n",
       "    .dataframe thead th {\n",
       "        text-align: right;\n",
       "    }\n",
       "</style>\n",
       "<table border=\"1\" class=\"dataframe\">\n",
       "  <thead>\n",
       "    <tr style=\"text-align: right;\">\n",
       "      <th></th>\n",
       "      <th>Summary</th>\n",
       "    </tr>\n",
       "  </thead>\n",
       "  <tbody>\n",
       "    <tr>\n",
       "      <th>0</th>\n",
       "      <td>the vision of Mahatma Gandhi NREGA is to enhan...</td>\n",
       "    </tr>\n",
       "    <tr>\n",
       "      <th>1</th>\n",
       "      <td>the scheme seeks to reach youth from all regio...</td>\n",
       "    </tr>\n",
       "    <tr>\n",
       "      <th>2</th>\n",
       "      <td>ayushman Bharat adopts a continuum of care app...</td>\n",
       "    </tr>\n",
       "    <tr>\n",
       "      <th>3</th>\n",
       "      <td>'Pradhan Mantri Ujjwala Yojana' is a flagship ...</td>\n",
       "    </tr>\n",
       "    <tr>\n",
       "      <th>4</th>\n",
       "      <td>scheme is being administered by the Ministry o...</td>\n",
       "    </tr>\n",
       "    <tr>\n",
       "      <th>5</th>\n",
       "      <td>loans for scheduled castes, scheduled tribes a...</td>\n",
       "    </tr>\n",
       "    <tr>\n",
       "      <th>6</th>\n",
       "      <td>beneficiary family should not own a pucca hous...</td>\n",
       "    </tr>\n",
       "    <tr>\n",
       "      <th>7</th>\n",
       "      <td>scheme was launched by prime minister Narendra...</td>\n",
       "    </tr>\n",
       "    <tr>\n",
       "      <th>8</th>\n",
       "      <td>the scheme aims to expand affordable access to...</td>\n",
       "    </tr>\n",
       "    <tr>\n",
       "      <th>9</th>\n",
       "      <td>the Pradhan Mantri Gram Sadak Yojana (PMGSY-I)...</td>\n",
       "    </tr>\n",
       "  </tbody>\n",
       "</table>\n",
       "</div>"
      ],
      "text/plain": [
       "                                             Summary\n",
       "0  the vision of Mahatma Gandhi NREGA is to enhan...\n",
       "1  the scheme seeks to reach youth from all regio...\n",
       "2  ayushman Bharat adopts a continuum of care app...\n",
       "3  'Pradhan Mantri Ujjwala Yojana' is a flagship ...\n",
       "4  scheme is being administered by the Ministry o...\n",
       "5  loans for scheduled castes, scheduled tribes a...\n",
       "6  beneficiary family should not own a pucca hous...\n",
       "7  scheme was launched by prime minister Narendra...\n",
       "8  the scheme aims to expand affordable access to...\n",
       "9  the Pradhan Mantri Gram Sadak Yojana (PMGSY-I)..."
      ]
     },
     "execution_count": 19,
     "metadata": {},
     "output_type": "execute_result"
    }
   ],
   "source": [
    "#convert the list l into a pandas dataframe\n",
    "df_summary=pd.DataFrame(summary, columns=['Summary'])\n",
    "df_summary"
   ]
  },
  {
   "cell_type": "code",
   "execution_count": 35,
   "metadata": {},
   "outputs": [],
   "source": [
    "df_summary.to_csv(\"WelfareSchemesDescriptionSummarizationT5.txt\", index=False)"
   ]
  },
  {
   "cell_type": "markdown",
   "metadata": {},
   "source": [
    "#### Evaluate the results "
   ]
  },
  {
   "cell_type": "code",
   "execution_count": 12,
   "metadata": {},
   "outputs": [],
   "source": [
    "import evaluate\n",
    "rouge=evaluate.load(\"rouge\")"
   ]
  },
  {
   "cell_type": "code",
   "execution_count": null,
   "metadata": {},
   "outputs": [],
   "source": [
    "import numpy as np\n",
    "\n",
    "'''Takes a tuple of (prediction,ground_truth) and returns a dictionary of metrics'''\n",
    "def compute_metrics(eval_pred):\n",
    "    predictions, labels = eval_pred\n",
    "    decoded_preds = tokenizer.batch_decode(predictions, skip_special_tokens=True)\n",
    "    labels = np.where(labels != -100, labels, tokenizer.pad_token_id)\n",
    "    decoded_labels = tokenizer.batch_decode(labels, skip_special_tokens=True)\n",
    "\n",
    "    result = rouge.compute(predictions=decoded_preds, references=decoded_labels, use_stemmer=True)\n",
    "\n",
    "    prediction_lens = [np.count_nonzero(pred != tokenizer.pad_token_id) for pred in predictions]\n",
    "    result[\"gen_len\"] = np.mean(prediction_lens)\n",
    "    return {k: np.round(v, 4) for k, v in result.items()}"
   ]
  },
  {
   "cell_type": "code",
   "execution_count": 103,
   "metadata": {},
   "outputs": [],
   "source": [
    "l=[]\n",
    "for t in text:\n",
    "    l.append(summarizer(t, max_length=100, min_length=30, do_sample=True)[0]['summary_text'])"
   ]
  },
  {
   "cell_type": "code",
   "execution_count": 104,
   "metadata": {},
   "outputs": [
    {
     "data": {
      "text/plain": [
       "['the vision of Mahatma Gandhi NREGA is to enhance the livelihood security of rural households across the country by providing at least 100 days of guaranteed wage employment in a financial year . the scheme encourages a sense of community and collective responsibility by strengthening Panchayat Raj institutions .',\n",
       " 'the Agnipath scheme seeks to reach youth from all regions of india . the scheme is governed by the Armed Forces Acts . a select 25% of Agniveers demonstrating exceptional performance may be offered the opportunity to re-enlist in a regular capacity .',\n",
       " 'ayushman Bharat adopts a continuum of care approach . health and wellness centres are envisaged to deliver an expanded range of services to address primary health care needs of the entire population .',\n",
       " 'the unclean cooking fuel causes deaths which are mostly due to non-communicable diseases including heart disease, stroke, chronic obstructive pulmonary disease, and lung cancer . the target was to release 8 Crore LPG Connections to the deprived households by March 2020 .',\n",
       " 'the scheme covers all food & oilseeds crops and annual commercial/Horticultural Crops . the scheme is being implemented by empanelled general insurance companies . all the farmers growing notified crops in a notified area during the season are eligible .',\n",
       " 'loans for scheduled castes, scheduled tribes and women entrepreneurs can be applied online . launched by the government of india in 2016 to promote entrepreneurship . scheme aims to provide loans between Rs.10 lakhs and Rs.1 crore .',\n",
       " 'the beneficiary family should not own a pucca house in his/her name . it makes home loans affordable for the urban poor by providing a subsidy on the interest rate of a home loan during repayment by way of EMI .',\n",
       " 'the scheme was launched by prime minister Narendra Modi on 22 January 2015 . it currently provides an interest rate of 8.2%[3] and tax benefits .',\n",
       " 'the government of india provides universal banking services for every unbanked household . aims to provide financial literacy programs at the village level . the applicant should be an Indian national .',\n",
       " 'the Pradhan Mantri Gram Sadak Yojana (PMGSY-I hereinafter) was launched on 25th December 2000 . it provides all-weather access to eligible unconnected habitations . the list of road works to be taken up under the programme will be finalized each year .']"
      ]
     },
     "execution_count": 104,
     "metadata": {},
     "output_type": "execute_result"
    }
   ],
   "source": [
    "l"
   ]
  },
  {
   "cell_type": "code",
   "execution_count": null,
   "metadata": {},
   "outputs": [
    {
     "data": {
      "text/plain": [
       "{'rouge1': 0.263,\n",
       " 'rouge2': 0.2401,\n",
       " 'rougeL': 0.2555,\n",
       " 'rougeLsum': 0.2557,\n",
       " 'gen_len': 54.4}"
      ]
     },
     "execution_count": 105,
     "metadata": {},
     "output_type": "execute_result"
    }
   ],
   "source": [
    "ground_truth = df[\"Description\"].tolist()\n",
    "tokenized_ground_truth = tokenizer(ground_truth, padding=True, truncation=True, return_tensors=\"pt\").input_ids\n",
    "\n",
    "# Convert predictions to token IDs\n",
    "tokenized_predictions = tokenizer(l, padding=True, truncation=True, return_tensors=\"pt\").input_ids\n",
    "\n",
    "eval_pred = (tokenized_predictions, tokenized_ground_truth)\n",
    "metrics = compute_metrics(eval_pred=eval_pred)\n",
    "\n",
    "'''Metrics for writeup(1,2,3) by'''\n",
    "metrics"
   ]
  },
  {
   "cell_type": "code",
   "execution_count": 108,
   "metadata": {},
   "outputs": [
    {
     "data": {
      "text/plain": [
       "['Raju, a rural resident, likely faces financial hardship and needs work. He can benefit from MNREGA by volunteering for unskilled manual labor, guaranteeing him 100 days of paid employment. \\nRaju can apply for MNREGA by contacting his local Gram Panchayat or visiting the official website. If he is approved, he will be guaranteed 100 days of unskilled manual work at a minimum wage, providing him with income and contributing to rural development. \\nRaju, being eligible for MNREGA, can volunteer for unskilled manual work and receive guaranteed wages for up to 100 days a year. This ensures a stable income, improving his livelihood security and potentially lifting him out of poverty. \\n',\n",
       " \"Raju, if eligible for Agnipath, is a young Indian looking for a chance to serve his country. He might be facing unemployment or lack of opportunities and seeks a structured path to gain valuable skills and a future career. \\nRaju can apply for the Agnipath scheme online, through recruitment rallies, or at technical institutes. He'll be tested and if selected, will receive training and four years of service. Upon completion, he'll receive a certificate recognizing his skills. He could also be selected for permanent service. \\nRaju can apply for the Agnipath scheme, which offers a four-year stint in the armed forces. This will provide him with rigorous training and valuable skills, making him more employable after his service. He'll also gain a certificate recognizing his skills, along with a sense of patriotism and discipline.  If he performs exceptionally, he may even get a chance to continue serving in the armed forces permanently. \\n\",\n",
       " \"Raju, being a member of the bottom 40% of the Indian population, is eligible for the Ayushman Bharat scheme. This means he likely faces financial barriers to accessing healthcare, potentially suffering from illnesses that require costly secondary or tertiary care. \\nRaju doesn't need to apply. He automatically qualifies based on his socioeconomic status. He receives free health insurance covering up to Rs. 5 lakhs per year for secondary and tertiary hospitalizations. \\nRaju, being eligible for Ayushman Bharat PM-JAY, can access free healthcare services for secondary and tertiary care hospitalization up to Rs. 5 lakhs per year.  This scheme aims to improve access to quality healthcare, reduce financial burden for treatment, and ultimately improve the overall well-being of beneficiaries like Raju. \\n\",\n",
       " \"Raju, living in a rural household, likely relies on traditional fuels like firewood for cooking. This exposes him and his family to harmful smoke, increasing the risk of respiratory illnesses. He can apply for PM Ujjwala Yojana online to receive an LPG connection, providing cleaner fuel and reducing health risks. \\nRaju can apply for PM Ujjwala Yojana online to get a free LPG connection. This will provide him with clean cooking fuel, reducing health risks from using traditional fuels like firewood. He'll also be contributing to a cleaner environment and women empowerment by reducing cooking time and effort for families. \\nRaju can apply for the PM Ujjwala Yojana online. This scheme will provide him with an LPG connection, which will replace his use of harmful traditional fuels. This will improve his family's health by reducing indoor pollution and the risk of respiratory illnesses.  It will also save time and effort for his family, especially women, who traditionally do most of the cooking. \\n\",\n",
       " 'Raju, a farmer, is eligible for the PM Fasal Bima Yojana.  He can voluntarily enroll in the scheme and receive insurance coverage for his crops.  However, if he experiences crop loss, he needs to report it promptly to the insurance company within 72 hours to receive compensation. \\nRaju can apply for PM Fasal Bima Yojana online through the official portal. He needs to provide details about his crop and location. If his crop suffers damage, he must report it to the insurance company within 72 hours. Upon successful application, Raju receives comprehensive insurance coverage for his crops, ensuring income stability and helping him continue farming.\\nRaju, as an eligible farmer, can voluntarily enroll in PM Fasal Bima Yojana. This insurance protects him against crop failure, stabilizing his income and allowing him to continue farming. If he faces crop loss, he needs to file a claim with the insurance company within 72 hours. This scheme ensures financial security for Raju, allowing him to confidently invest in farming practices and weather unforeseen events. \\n',\n",
       " 'Raju, being a member of a Scheduled Caste or Tribe, is eligible for the Standup India scheme.  However, he must navigate potential challenges like securing the necessary loan amount, finding suitable business opportunities, and accessing support services like training and mentorship. \\nRaju, being eligible for Standup India, needs to apply online for a loan of ₹10 Lakhs to ₹1 Crore for his greenfield enterprise in manufacturing, trading or services.  The scheme provides a composite loan, a Rupay debit card for convenience, and hand-holding support through agencies for training, project report preparation, and more. \\nRaju, being eligible for the Standup India scheme, can apply online for a loan between Rs. 10 lakhs and Rs. 1 crore to set up a new business in manufacturing, trading, or services. The scheme aims to empower entrepreneurs like Raju by providing financial support, training, and mentorship, ultimately helping him establish a successful business and improve his financial standing. \\n',\n",
       " \"Raju likely belongs to the Economically Weaker Section (EWS) or Low Income Group (LIG) and is facing the challenge of not owning a proper house. He may be living in a slum or inadequate housing, lacking security and comfort. This scheme aims to help him secure affordable home ownership. \\nRaju, if you are an adult earning member without a pucca house and your family income is below Rs. 18 lakh, you can apply for PM Awaas Yojana.  You'll need to provide details about your family, income, and housing situation. If approved, you'll get a subsidy on your home loan interest rate, making owning a house more affordable.  \\nRaju, to benefit from PM Awaas Yojana, must be a member of a family without a pucca house and have an annual income below ₹18 lakh.  He may qualify for a subsidized home loan, making homeownership more attainable and improving his family's living conditions. \\n\",\n",
       " \"Raju is the guardian of a girl child and is eligible for the Sukanya Samriddhi Account Scheme. He can open an account to save for her future education. This scheme offers tax benefits and a high interest rate, but Raju must ensure he makes regular deposits to maximize the benefits for his daughter. \\nRaju can open a Sukanya Samriddhi Account for his daughter at any India Post office or authorized bank branch. He needs to provide proof of his daughter's birth and his own identification. The account earns a tax-free interest rate of 8.2% and allows tax deductions. \\nRaju can open a Sukanya Samriddhi Account for his daughter,  saving for her future education. This government-backed scheme offers tax benefits and high interest, helping her pursue her dreams. \\n\",\n",
       " \"Raju, an Indian citizen, likely lacks access to basic financial services like a bank account. This scheme aims to provide him with a zero-balance bank account, allowing him to deposit and withdraw money, access credit, and even receive financial literacy training.  \\nRaju, being an Indian national, can visit the official PMJDY portal to apply. He'll need to provide personal details and, if he's under 18, his guardian's information. Upon successful application, Raju will receive a zero-balance bank account with access to financial services like deposits, withdrawals, remittances, credit, insurance, and pensions. \\nRaju, being an Indian national, can open a zero-balance bank account under PMJDY. This will provide him access to financial services like deposits, withdrawals, and even loans, helping him manage his money, save for the future, and access vital services he may have lacked before. \\n\",\n",
       " 'Raju lives in a rural area and his village lacks proper road access, making it difficult to transport goods and access essential services. He likely benefits from the PMGSY scheme, which aims to connect his village with all-weather roads, improving his quality of life and economic opportunities. \\nRaju needs to contact the District Panchayat to find out about the specific requirements for applying for the Pradhan Mantri Gram Sadak Yojana. The scheme provides all-weather road access to his village, helping improve connectivity and job opportunities. \\nRaju, living in a village with a population under 500, could benefit from PMGSY. This scheme aims to provide all-weather roads connecting his village to the outside world, enabling easier movement of goods and people, potentially leading to better employment opportunities and overall development.  \\n']"
      ]
     },
     "execution_count": 108,
     "metadata": {},
     "output_type": "execute_result"
    }
   ],
   "source": [
    "# summarised_ground_truth=df[['Writeup_1','Writeup_2','Writeup_3']].tolist()\n",
    "summarised_ground_truth=(df['Writeup_1']+df['Writeup_2']+df['Writeup_3']).tolist()\n",
    "summarised_ground_truth"
   ]
  },
  {
   "cell_type": "code",
   "execution_count": 109,
   "metadata": {},
   "outputs": [
    {
     "data": {
      "text/plain": [
       "{'rouge1': 0.2234,\n",
       " 'rouge2': 0.0629,\n",
       " 'rougeL': 0.1432,\n",
       " 'rougeLsum': 0.1441,\n",
       " 'gen_len': 54.4}"
      ]
     },
     "execution_count": 109,
     "metadata": {},
     "output_type": "execute_result"
    }
   ],
   "source": [
    "summarised_ground_truth=(df['Writeup_1']+df['Writeup_2']+df['Writeup_3']).tolist()\n",
    "# summarised_ground_truth\n",
    "tokenized_summarised_ground_truth = tokenizer(summarised_ground_truth, padding=True, truncation=True, return_tensors=\"pt\").input_ids\n",
    "\n",
    "# Convert predictions to token IDs\n",
    "tokenized_predictions = tokenizer(l, padding=True, truncation=True, return_tensors=\"pt\").input_ids\n",
    "\n",
    "eval_pred = (tokenized_predictions, tokenized_summarised_ground_truth)\n",
    "metrics = compute_metrics(eval_pred=eval_pred)\n",
    "\n",
    "\n",
    "metrics"
   ]
  },
  {
   "cell_type": "code",
   "execution_count": 71,
   "metadata": {},
   "outputs": [],
   "source": [
    "tokenized_summarised_ground_truth = tokenizer(summarised_ground_truth, padding=True, truncation=True, return_tensors=\"pt\").input_ids\n",
    "tokenized_predictions=[]\n",
    "for i in summaries:\n",
    "    tokenized_predictions.append(tokenizer(i, padding=True, truncation=True, return_tensors=\"pt\").input_ids)\n",
    "eval_predictions=[]\n",
    "for i in tokenized_predictions:\n",
    "    eval_predictions.append((i, tokenized_summarised_ground_truth))\n",
    "# eval_predictions\n",
    "metrics=[]\n",
    "for i in eval_predictions:\n",
    "    metrics.append(compute_metrics(eval_pred=i))"
   ]
  },
  {
   "cell_type": "code",
   "execution_count": 72,
   "metadata": {},
   "outputs": [
    {
     "data": {
      "text/plain": [
       "[{'rouge1': 0.2475,\n",
       "  'rouge2': 0.0538,\n",
       "  'rougeL': 0.1449,\n",
       "  'rougeLsum': 0.1456,\n",
       "  'gen_len': 88.0},\n",
       " {'rouge1': 0.2475,\n",
       "  'rouge2': 0.0538,\n",
       "  'rougeL': 0.1449,\n",
       "  'rougeLsum': 0.1456,\n",
       "  'gen_len': 88.0},\n",
       " {'rouge1': 0.2537,\n",
       "  'rouge2': 0.073,\n",
       "  'rougeL': 0.1574,\n",
       "  'rougeLsum': 0.1577,\n",
       "  'gen_len': 81.2}]"
      ]
     },
     "execution_count": 72,
     "metadata": {},
     "output_type": "execute_result"
    }
   ],
   "source": [
    "metrics"
   ]
  },
  {
   "cell_type": "markdown",
   "metadata": {},
   "source": [
    "### Task4:Image Prompt Generation"
   ]
  },
  {
   "cell_type": "code",
   "execution_count": 11,
   "metadata": {},
   "outputs": [
    {
     "data": {
      "text/html": [
       "<div>\n",
       "<style scoped>\n",
       "    .dataframe tbody tr th:only-of-type {\n",
       "        vertical-align: middle;\n",
       "    }\n",
       "\n",
       "    .dataframe tbody tr th {\n",
       "        vertical-align: top;\n",
       "    }\n",
       "\n",
       "    .dataframe thead th {\n",
       "        text-align: right;\n",
       "    }\n",
       "</style>\n",
       "<table border=\"1\" class=\"dataframe\">\n",
       "  <thead>\n",
       "    <tr style=\"text-align: right;\">\n",
       "      <th></th>\n",
       "      <th>Scheme</th>\n",
       "      <th>Description</th>\n",
       "      <th>Writeup_1</th>\n",
       "      <th>Writeup_2</th>\n",
       "      <th>Writeup_3</th>\n",
       "    </tr>\n",
       "  </thead>\n",
       "  <tbody>\n",
       "    <tr>\n",
       "      <th>0</th>\n",
       "      <td>MNREGA</td>\n",
       "      <td>The vision of Mahatma Gandhi NREGA is to enha...</td>\n",
       "      <td>Raju, a rural resident, likely faces financial...</td>\n",
       "      <td>Raju can apply for MNREGA by contacting his lo...</td>\n",
       "      <td>Raju, being eligible for MNREGA, can volunteer...</td>\n",
       "    </tr>\n",
       "    <tr>\n",
       "      <th>1</th>\n",
       "      <td>AGNIPATH SCHEME</td>\n",
       "      <td>The Agnipath Scheme is designed to offer Indi...</td>\n",
       "      <td>Raju, if eligible for Agnipath, is a young Ind...</td>\n",
       "      <td>Raju can apply for the Agnipath scheme online,...</td>\n",
       "      <td>Raju can apply for the Agnipath scheme, which ...</td>\n",
       "    </tr>\n",
       "    <tr>\n",
       "      <th>2</th>\n",
       "      <td>Ayushman Bharat Yojana</td>\n",
       "      <td>Ayushman Bharat is an attempt to move from se...</td>\n",
       "      <td>Raju, being a member of the bottom 40% of the ...</td>\n",
       "      <td>Raju doesn't need to apply. He automatically q...</td>\n",
       "      <td>Raju, being eligible for Ayushman Bharat PM-JA...</td>\n",
       "    </tr>\n",
       "    <tr>\n",
       "      <th>3</th>\n",
       "      <td>PM Ujjwala Yojana</td>\n",
       "      <td>‘Pradhan Mantri Ujjwala Yojana’ (PMUY) as a f...</td>\n",
       "      <td>Raju, living in a rural household, likely reli...</td>\n",
       "      <td>Raju can apply for PM Ujjwala Yojana online to...</td>\n",
       "      <td>Raju can apply for the PM Ujjwala Yojana onlin...</td>\n",
       "    </tr>\n",
       "    <tr>\n",
       "      <th>4</th>\n",
       "      <td>PM Fasal Bima Yojana</td>\n",
       "      <td>The Pradhan Mantri fasal bima yojana (PMFBY) ...</td>\n",
       "      <td>Raju, a farmer, is eligible for the PM Fasal B...</td>\n",
       "      <td>Raju can apply for PM Fasal Bima Yojana online...</td>\n",
       "      <td>Raju, as an eligible farmer, can voluntarily e...</td>\n",
       "    </tr>\n",
       "    <tr>\n",
       "      <th>5</th>\n",
       "      <td>Standup India</td>\n",
       "      <td>Loans for scheduled castes, scheduled tribes ...</td>\n",
       "      <td>Raju, being a member of a Scheduled Caste or T...</td>\n",
       "      <td>Raju, being eligible for Standup India, needs ...</td>\n",
       "      <td>Raju, being eligible for the Standup India sch...</td>\n",
       "    </tr>\n",
       "    <tr>\n",
       "      <th>6</th>\n",
       "      <td>PM Awaas Yojana</td>\n",
       "      <td>A beneficiary family under the Mission compri...</td>\n",
       "      <td>Raju likely belongs to the Economically Weaker...</td>\n",
       "      <td>Raju, if you are an adult earning member witho...</td>\n",
       "      <td>Raju, to benefit from PM Awaas Yojana, must be...</td>\n",
       "    </tr>\n",
       "    <tr>\n",
       "      <th>7</th>\n",
       "      <td>Sukanya Samriddhi Account Scheme</td>\n",
       "      <td>Government of India backed saving scheme targ...</td>\n",
       "      <td>Raju is the guardian of a girl child and is el...</td>\n",
       "      <td>Raju can open a Sukanya Samriddhi Account for ...</td>\n",
       "      <td>Raju can open a Sukanya Samriddhi Account for ...</td>\n",
       "    </tr>\n",
       "    <tr>\n",
       "      <th>8</th>\n",
       "      <td>PM Jan Dhan Yojana</td>\n",
       "      <td>is a financial inclusion program of the Gover...</td>\n",
       "      <td>Raju, an Indian citizen, likely lacks access t...</td>\n",
       "      <td>Raju, being an Indian national, can visit the ...</td>\n",
       "      <td>Raju, being an Indian national, can open a zer...</td>\n",
       "    </tr>\n",
       "    <tr>\n",
       "      <th>9</th>\n",
       "      <td>Pradhan Mantri Gram Sadak Yojana (PMGSY)</td>\n",
       "      <td>With the objective of providing rural connect...</td>\n",
       "      <td>Raju lives in a rural area and his village lac...</td>\n",
       "      <td>Raju needs to contact the District Panchayat t...</td>\n",
       "      <td>Raju, living in a village with a population un...</td>\n",
       "    </tr>\n",
       "  </tbody>\n",
       "</table>\n",
       "</div>"
      ],
      "text/plain": [
       "                                     Scheme  \\\n",
       "0                                    MNREGA   \n",
       "1                           AGNIPATH SCHEME   \n",
       "2                    Ayushman Bharat Yojana   \n",
       "3                         PM Ujjwala Yojana   \n",
       "4                      PM Fasal Bima Yojana   \n",
       "5                             Standup India   \n",
       "6                           PM Awaas Yojana   \n",
       "7          Sukanya Samriddhi Account Scheme   \n",
       "8                        PM Jan Dhan Yojana   \n",
       "9  Pradhan Mantri Gram Sadak Yojana (PMGSY)   \n",
       "\n",
       "                                         Description  \\\n",
       "0   The vision of Mahatma Gandhi NREGA is to enha...   \n",
       "1   The Agnipath Scheme is designed to offer Indi...   \n",
       "2   Ayushman Bharat is an attempt to move from se...   \n",
       "3   ‘Pradhan Mantri Ujjwala Yojana’ (PMUY) as a f...   \n",
       "4   The Pradhan Mantri fasal bima yojana (PMFBY) ...   \n",
       "5   Loans for scheduled castes, scheduled tribes ...   \n",
       "6   A beneficiary family under the Mission compri...   \n",
       "7   Government of India backed saving scheme targ...   \n",
       "8   is a financial inclusion program of the Gover...   \n",
       "9   With the objective of providing rural connect...   \n",
       "\n",
       "                                           Writeup_1  \\\n",
       "0  Raju, a rural resident, likely faces financial...   \n",
       "1  Raju, if eligible for Agnipath, is a young Ind...   \n",
       "2  Raju, being a member of the bottom 40% of the ...   \n",
       "3  Raju, living in a rural household, likely reli...   \n",
       "4  Raju, a farmer, is eligible for the PM Fasal B...   \n",
       "5  Raju, being a member of a Scheduled Caste or T...   \n",
       "6  Raju likely belongs to the Economically Weaker...   \n",
       "7  Raju is the guardian of a girl child and is el...   \n",
       "8  Raju, an Indian citizen, likely lacks access t...   \n",
       "9  Raju lives in a rural area and his village lac...   \n",
       "\n",
       "                                           Writeup_2  \\\n",
       "0  Raju can apply for MNREGA by contacting his lo...   \n",
       "1  Raju can apply for the Agnipath scheme online,...   \n",
       "2  Raju doesn't need to apply. He automatically q...   \n",
       "3  Raju can apply for PM Ujjwala Yojana online to...   \n",
       "4  Raju can apply for PM Fasal Bima Yojana online...   \n",
       "5  Raju, being eligible for Standup India, needs ...   \n",
       "6  Raju, if you are an adult earning member witho...   \n",
       "7  Raju can open a Sukanya Samriddhi Account for ...   \n",
       "8  Raju, being an Indian national, can visit the ...   \n",
       "9  Raju needs to contact the District Panchayat t...   \n",
       "\n",
       "                                           Writeup_3  \n",
       "0  Raju, being eligible for MNREGA, can volunteer...  \n",
       "1  Raju can apply for the Agnipath scheme, which ...  \n",
       "2  Raju, being eligible for Ayushman Bharat PM-JA...  \n",
       "3  Raju can apply for the PM Ujjwala Yojana onlin...  \n",
       "4  Raju, as an eligible farmer, can voluntarily e...  \n",
       "5  Raju, being eligible for the Standup India sch...  \n",
       "6  Raju, to benefit from PM Awaas Yojana, must be...  \n",
       "7  Raju can open a Sukanya Samriddhi Account for ...  \n",
       "8  Raju, being an Indian national, can open a zer...  \n",
       "9  Raju, living in a village with a population un...  "
      ]
     },
     "execution_count": 11,
     "metadata": {},
     "output_type": "execute_result"
    }
   ],
   "source": [
    "df"
   ]
  },
  {
   "cell_type": "code",
   "execution_count": 19,
   "metadata": {},
   "outputs": [],
   "source": [
    "df['Prompt1']='Nan'\n",
    "df['Prompt2']='Nan'\n",
    "df['Prompt3']='Nan'\n",
    "suffix1=\".Limit the words to 40 and the prompt should include sufficient details about characters, objects, actions,environment,setup and settings.The prompt must be in a natural easy to read form. Raju is eligible for this scheme.\"\n",
    "suffix2=\"Use clear and specific language to guide the image generation model accurately\"\n",
    "suffix3=\"The prompt might begin with 'An illustration of' or 'A visual representation of' or 'Picture describing',etc\""
   ]
  },
  {
   "cell_type": "code",
   "execution_count": 26,
   "metadata": {},
   "outputs": [],
   "source": [
    "for i in range(6,10):\n",
    "    prompt1=model.generate_content(f\"Using the writeup1 of the scheme named {df['Scheme'][i]} which is {df['Writeup_1'][i]} which essentially describes who the beneficiary is and the specific problems or challenges they are currently facing,generate a text-to-image prompt which will be used to generate images for posters that visually convey the essence of the schemes.{suffix1}{suffix2}{suffix3}\")\n",
    "    df.loc[i,'Prompt1']=prompt1.text\n",
    "    prompt2=model.generate_content(f\"Using the writeup2 of the scheme named {df['Scheme'][i]} which is {df['Writeup_2'][i]} which essentially details the steps required to apply for the scheme and the exact benefits provided upon successful application and continuing from the previous prompt {prompt1},generate a text-to-image prompt which will be used to generate images for posters that visually convey the essence of the schemes.The prompt must be coherent and consistent with the previous prompt {prompt1}{suffix1}{suffix2}{suffix3}\")\n",
    "    df.loc[i,'Prompt2']=prompt2.text\n",
    "    prompt3=model.generate_content(f\"Using the writeup3 of the scheme named {df['Scheme'][i]} which is {df['Writeup_3'][i]} which essentially explains the expected outcomes of the scheme and how it will positively impact the beneficiary's life and continuing from the previous prompt{prompt2},generate a text-to-image prompt which will be used to generate images for posters that visually convey the essence of the schemes.The prompt must be coherent and consistent with the previous prompt {prompt2}{suffix1}{suffix2}{suffix3}\")\n",
    "    df.loc[i,'Prompt3']=prompt3.text"
   ]
  },
  {
   "cell_type": "code",
   "execution_count": 27,
   "metadata": {},
   "outputs": [
    {
     "data": {
      "text/html": [
       "<div>\n",
       "<style scoped>\n",
       "    .dataframe tbody tr th:only-of-type {\n",
       "        vertical-align: middle;\n",
       "    }\n",
       "\n",
       "    .dataframe tbody tr th {\n",
       "        vertical-align: top;\n",
       "    }\n",
       "\n",
       "    .dataframe thead th {\n",
       "        text-align: right;\n",
       "    }\n",
       "</style>\n",
       "<table border=\"1\" class=\"dataframe\">\n",
       "  <thead>\n",
       "    <tr style=\"text-align: right;\">\n",
       "      <th></th>\n",
       "      <th>Scheme</th>\n",
       "      <th>Description</th>\n",
       "      <th>Writeup_1</th>\n",
       "      <th>Writeup_2</th>\n",
       "      <th>Writeup_3</th>\n",
       "      <th>Prompt1</th>\n",
       "      <th>Prompt2</th>\n",
       "      <th>Prompt3</th>\n",
       "    </tr>\n",
       "  </thead>\n",
       "  <tbody>\n",
       "    <tr>\n",
       "      <th>0</th>\n",
       "      <td>MNREGA</td>\n",
       "      <td>The vision of Mahatma Gandhi NREGA is to enha...</td>\n",
       "      <td>Raju, a rural resident, likely faces financial...</td>\n",
       "      <td>Raju can apply for MNREGA by contacting his lo...</td>\n",
       "      <td>Raju, being eligible for MNREGA, can volunteer...</td>\n",
       "      <td>An illustration of a hopeful Raju, a rural Ind...</td>\n",
       "      <td>A visual representation of Raju, a smiling rur...</td>\n",
       "      <td>A visual representation of Raju, a smiling rur...</td>\n",
       "    </tr>\n",
       "    <tr>\n",
       "      <th>1</th>\n",
       "      <td>AGNIPATH SCHEME</td>\n",
       "      <td>The Agnipath Scheme is designed to offer Indi...</td>\n",
       "      <td>Raju, if eligible for Agnipath, is a young Ind...</td>\n",
       "      <td>Raju can apply for the Agnipath scheme online,...</td>\n",
       "      <td>Raju can apply for the Agnipath scheme, which ...</td>\n",
       "      <td>A visual representation of Raju, a young India...</td>\n",
       "      <td>A visual representation of Raju, a young India...</td>\n",
       "      <td>A visual representation of Raju, a young India...</td>\n",
       "    </tr>\n",
       "    <tr>\n",
       "      <th>2</th>\n",
       "      <td>Ayushman Bharat Yojana</td>\n",
       "      <td>Ayushman Bharat is an attempt to move from se...</td>\n",
       "      <td>Raju, being a member of the bottom 40% of the ...</td>\n",
       "      <td>Raju doesn't need to apply. He automatically q...</td>\n",
       "      <td>Raju, being eligible for Ayushman Bharat PM-JA...</td>\n",
       "      <td>An illustration of Raju, a young man from a lo...</td>\n",
       "      <td>An illustration of Raju, a young man looking r...</td>\n",
       "      <td>A visual representation of Raju, a young man, ...</td>\n",
       "    </tr>\n",
       "    <tr>\n",
       "      <th>3</th>\n",
       "      <td>PM Ujjwala Yojana</td>\n",
       "      <td>‘Pradhan Mantri Ujjwala Yojana’ (PMUY) as a f...</td>\n",
       "      <td>Raju, living in a rural household, likely reli...</td>\n",
       "      <td>Raju can apply for PM Ujjwala Yojana online to...</td>\n",
       "      <td>Raju can apply for the PM Ujjwala Yojana onlin...</td>\n",
       "      <td>An illustration of Raju, a rural man, cooking ...</td>\n",
       "      <td>A visual representation of Raju, a rural man, ...</td>\n",
       "      <td>An illustration of Raju, a rural man, cooking ...</td>\n",
       "    </tr>\n",
       "    <tr>\n",
       "      <th>4</th>\n",
       "      <td>PM Fasal Bima Yojana</td>\n",
       "      <td>The Pradhan Mantri fasal bima yojana (PMFBY) ...</td>\n",
       "      <td>Raju, a farmer, is eligible for the PM Fasal B...</td>\n",
       "      <td>Raju can apply for PM Fasal Bima Yojana online...</td>\n",
       "      <td>Raju, as an eligible farmer, can voluntarily e...</td>\n",
       "      <td>An illustration of Raju, a smiling farmer, sta...</td>\n",
       "      <td>An illustration of Raju, a smiling farmer, hol...</td>\n",
       "      <td>A visual representation of Raju, a smiling far...</td>\n",
       "    </tr>\n",
       "    <tr>\n",
       "      <th>5</th>\n",
       "      <td>Standup India</td>\n",
       "      <td>Loans for scheduled castes, scheduled tribes ...</td>\n",
       "      <td>Raju, being a member of a Scheduled Caste or T...</td>\n",
       "      <td>Raju, being eligible for Standup India, needs ...</td>\n",
       "      <td>Raju, being eligible for the Standup India sch...</td>\n",
       "      <td>A visual representation of Raju, a young man f...</td>\n",
       "      <td>An illustration of Raju, a young man from a Sc...</td>\n",
       "      <td>A visual representation of Raju, a young man f...</td>\n",
       "    </tr>\n",
       "    <tr>\n",
       "      <th>6</th>\n",
       "      <td>PM Awaas Yojana</td>\n",
       "      <td>A beneficiary family under the Mission compri...</td>\n",
       "      <td>Raju likely belongs to the Economically Weaker...</td>\n",
       "      <td>Raju, if you are an adult earning member witho...</td>\n",
       "      <td>Raju, to benefit from PM Awaas Yojana, must be...</td>\n",
       "      <td>A visual representation of Raju, a young man, ...</td>\n",
       "      <td>An illustration of Raju, a young man, smiling ...</td>\n",
       "      <td>A visual representation of Raju, a young man, ...</td>\n",
       "    </tr>\n",
       "    <tr>\n",
       "      <th>7</th>\n",
       "      <td>Sukanya Samriddhi Account Scheme</td>\n",
       "      <td>Government of India backed saving scheme targ...</td>\n",
       "      <td>Raju is the guardian of a girl child and is el...</td>\n",
       "      <td>Raju can open a Sukanya Samriddhi Account for ...</td>\n",
       "      <td>Raju can open a Sukanya Samriddhi Account for ...</td>\n",
       "      <td>An illustration of a proud father, Raju, openi...</td>\n",
       "      <td>A visual representation of Raju, a proud fathe...</td>\n",
       "      <td>A visual representation of Raju, a proud fathe...</td>\n",
       "    </tr>\n",
       "    <tr>\n",
       "      <th>8</th>\n",
       "      <td>PM Jan Dhan Yojana</td>\n",
       "      <td>is a financial inclusion program of the Gover...</td>\n",
       "      <td>Raju, an Indian citizen, likely lacks access t...</td>\n",
       "      <td>Raju, being an Indian national, can visit the ...</td>\n",
       "      <td>Raju, being an Indian national, can open a zer...</td>\n",
       "      <td>An illustration of Raju, a smiling Indian man,...</td>\n",
       "      <td>A visual representation of Raju, a smiling Ind...</td>\n",
       "      <td>A visual representation of Raju, a smiling Ind...</td>\n",
       "    </tr>\n",
       "    <tr>\n",
       "      <th>9</th>\n",
       "      <td>Pradhan Mantri Gram Sadak Yojana (PMGSY)</td>\n",
       "      <td>With the objective of providing rural connect...</td>\n",
       "      <td>Raju lives in a rural area and his village lac...</td>\n",
       "      <td>Raju needs to contact the District Panchayat t...</td>\n",
       "      <td>Raju, living in a village with a population un...</td>\n",
       "      <td>An illustration of Raju, a farmer, struggling ...</td>\n",
       "      <td>A visual representation of Raju, a farmer, str...</td>\n",
       "      <td>A visual representation of Raju, a farmer, str...</td>\n",
       "    </tr>\n",
       "  </tbody>\n",
       "</table>\n",
       "</div>"
      ],
      "text/plain": [
       "                                     Scheme  \\\n",
       "0                                    MNREGA   \n",
       "1                           AGNIPATH SCHEME   \n",
       "2                    Ayushman Bharat Yojana   \n",
       "3                         PM Ujjwala Yojana   \n",
       "4                      PM Fasal Bima Yojana   \n",
       "5                             Standup India   \n",
       "6                           PM Awaas Yojana   \n",
       "7          Sukanya Samriddhi Account Scheme   \n",
       "8                        PM Jan Dhan Yojana   \n",
       "9  Pradhan Mantri Gram Sadak Yojana (PMGSY)   \n",
       "\n",
       "                                         Description  \\\n",
       "0   The vision of Mahatma Gandhi NREGA is to enha...   \n",
       "1   The Agnipath Scheme is designed to offer Indi...   \n",
       "2   Ayushman Bharat is an attempt to move from se...   \n",
       "3   ‘Pradhan Mantri Ujjwala Yojana’ (PMUY) as a f...   \n",
       "4   The Pradhan Mantri fasal bima yojana (PMFBY) ...   \n",
       "5   Loans for scheduled castes, scheduled tribes ...   \n",
       "6   A beneficiary family under the Mission compri...   \n",
       "7   Government of India backed saving scheme targ...   \n",
       "8   is a financial inclusion program of the Gover...   \n",
       "9   With the objective of providing rural connect...   \n",
       "\n",
       "                                           Writeup_1  \\\n",
       "0  Raju, a rural resident, likely faces financial...   \n",
       "1  Raju, if eligible for Agnipath, is a young Ind...   \n",
       "2  Raju, being a member of the bottom 40% of the ...   \n",
       "3  Raju, living in a rural household, likely reli...   \n",
       "4  Raju, a farmer, is eligible for the PM Fasal B...   \n",
       "5  Raju, being a member of a Scheduled Caste or T...   \n",
       "6  Raju likely belongs to the Economically Weaker...   \n",
       "7  Raju is the guardian of a girl child and is el...   \n",
       "8  Raju, an Indian citizen, likely lacks access t...   \n",
       "9  Raju lives in a rural area and his village lac...   \n",
       "\n",
       "                                           Writeup_2  \\\n",
       "0  Raju can apply for MNREGA by contacting his lo...   \n",
       "1  Raju can apply for the Agnipath scheme online,...   \n",
       "2  Raju doesn't need to apply. He automatically q...   \n",
       "3  Raju can apply for PM Ujjwala Yojana online to...   \n",
       "4  Raju can apply for PM Fasal Bima Yojana online...   \n",
       "5  Raju, being eligible for Standup India, needs ...   \n",
       "6  Raju, if you are an adult earning member witho...   \n",
       "7  Raju can open a Sukanya Samriddhi Account for ...   \n",
       "8  Raju, being an Indian national, can visit the ...   \n",
       "9  Raju needs to contact the District Panchayat t...   \n",
       "\n",
       "                                           Writeup_3  \\\n",
       "0  Raju, being eligible for MNREGA, can volunteer...   \n",
       "1  Raju can apply for the Agnipath scheme, which ...   \n",
       "2  Raju, being eligible for Ayushman Bharat PM-JA...   \n",
       "3  Raju can apply for the PM Ujjwala Yojana onlin...   \n",
       "4  Raju, as an eligible farmer, can voluntarily e...   \n",
       "5  Raju, being eligible for the Standup India sch...   \n",
       "6  Raju, to benefit from PM Awaas Yojana, must be...   \n",
       "7  Raju can open a Sukanya Samriddhi Account for ...   \n",
       "8  Raju, being an Indian national, can open a zer...   \n",
       "9  Raju, living in a village with a population un...   \n",
       "\n",
       "                                             Prompt1  \\\n",
       "0  An illustration of a hopeful Raju, a rural Ind...   \n",
       "1  A visual representation of Raju, a young India...   \n",
       "2  An illustration of Raju, a young man from a lo...   \n",
       "3  An illustration of Raju, a rural man, cooking ...   \n",
       "4  An illustration of Raju, a smiling farmer, sta...   \n",
       "5  A visual representation of Raju, a young man f...   \n",
       "6  A visual representation of Raju, a young man, ...   \n",
       "7  An illustration of a proud father, Raju, openi...   \n",
       "8  An illustration of Raju, a smiling Indian man,...   \n",
       "9  An illustration of Raju, a farmer, struggling ...   \n",
       "\n",
       "                                             Prompt2  \\\n",
       "0  A visual representation of Raju, a smiling rur...   \n",
       "1  A visual representation of Raju, a young India...   \n",
       "2  An illustration of Raju, a young man looking r...   \n",
       "3  A visual representation of Raju, a rural man, ...   \n",
       "4  An illustration of Raju, a smiling farmer, hol...   \n",
       "5  An illustration of Raju, a young man from a Sc...   \n",
       "6  An illustration of Raju, a young man, smiling ...   \n",
       "7  A visual representation of Raju, a proud fathe...   \n",
       "8  A visual representation of Raju, a smiling Ind...   \n",
       "9  A visual representation of Raju, a farmer, str...   \n",
       "\n",
       "                                             Prompt3  \n",
       "0  A visual representation of Raju, a smiling rur...  \n",
       "1  A visual representation of Raju, a young India...  \n",
       "2  A visual representation of Raju, a young man, ...  \n",
       "3  An illustration of Raju, a rural man, cooking ...  \n",
       "4  A visual representation of Raju, a smiling far...  \n",
       "5  A visual representation of Raju, a young man f...  \n",
       "6  A visual representation of Raju, a young man, ...  \n",
       "7  A visual representation of Raju, a proud fathe...  \n",
       "8  A visual representation of Raju, a smiling Ind...  \n",
       "9  A visual representation of Raju, a farmer, str...  "
      ]
     },
     "execution_count": 27,
     "metadata": {},
     "output_type": "execute_result"
    }
   ],
   "source": [
    "df"
   ]
  },
  {
   "cell_type": "code",
   "execution_count": 28,
   "metadata": {},
   "outputs": [
    {
     "data": {
      "text/html": [
       "<div>\n",
       "<style scoped>\n",
       "    .dataframe tbody tr th:only-of-type {\n",
       "        vertical-align: middle;\n",
       "    }\n",
       "\n",
       "    .dataframe tbody tr th {\n",
       "        vertical-align: top;\n",
       "    }\n",
       "\n",
       "    .dataframe thead th {\n",
       "        text-align: right;\n",
       "    }\n",
       "</style>\n",
       "<table border=\"1\" class=\"dataframe\">\n",
       "  <thead>\n",
       "    <tr style=\"text-align: right;\">\n",
       "      <th></th>\n",
       "      <th>Scheme</th>\n",
       "      <th>Prompt1</th>\n",
       "      <th>Prompt2</th>\n",
       "      <th>Prompt3</th>\n",
       "    </tr>\n",
       "  </thead>\n",
       "  <tbody>\n",
       "    <tr>\n",
       "      <th>0</th>\n",
       "      <td>MNREGA</td>\n",
       "      <td>An illustration of a hopeful Raju, a rural Ind...</td>\n",
       "      <td>A visual representation of Raju, a smiling rur...</td>\n",
       "      <td>A visual representation of Raju, a smiling rur...</td>\n",
       "    </tr>\n",
       "    <tr>\n",
       "      <th>1</th>\n",
       "      <td>AGNIPATH SCHEME</td>\n",
       "      <td>A visual representation of Raju, a young India...</td>\n",
       "      <td>A visual representation of Raju, a young India...</td>\n",
       "      <td>A visual representation of Raju, a young India...</td>\n",
       "    </tr>\n",
       "    <tr>\n",
       "      <th>2</th>\n",
       "      <td>Ayushman Bharat Yojana</td>\n",
       "      <td>An illustration of Raju, a young man from a lo...</td>\n",
       "      <td>An illustration of Raju, a young man looking r...</td>\n",
       "      <td>A visual representation of Raju, a young man, ...</td>\n",
       "    </tr>\n",
       "    <tr>\n",
       "      <th>3</th>\n",
       "      <td>PM Ujjwala Yojana</td>\n",
       "      <td>An illustration of Raju, a rural man, cooking ...</td>\n",
       "      <td>A visual representation of Raju, a rural man, ...</td>\n",
       "      <td>An illustration of Raju, a rural man, cooking ...</td>\n",
       "    </tr>\n",
       "    <tr>\n",
       "      <th>4</th>\n",
       "      <td>PM Fasal Bima Yojana</td>\n",
       "      <td>An illustration of Raju, a smiling farmer, sta...</td>\n",
       "      <td>An illustration of Raju, a smiling farmer, hol...</td>\n",
       "      <td>A visual representation of Raju, a smiling far...</td>\n",
       "    </tr>\n",
       "    <tr>\n",
       "      <th>5</th>\n",
       "      <td>Standup India</td>\n",
       "      <td>A visual representation of Raju, a young man f...</td>\n",
       "      <td>An illustration of Raju, a young man from a Sc...</td>\n",
       "      <td>A visual representation of Raju, a young man f...</td>\n",
       "    </tr>\n",
       "    <tr>\n",
       "      <th>6</th>\n",
       "      <td>PM Awaas Yojana</td>\n",
       "      <td>A visual representation of Raju, a young man, ...</td>\n",
       "      <td>An illustration of Raju, a young man, smiling ...</td>\n",
       "      <td>A visual representation of Raju, a young man, ...</td>\n",
       "    </tr>\n",
       "    <tr>\n",
       "      <th>7</th>\n",
       "      <td>Sukanya Samriddhi Account Scheme</td>\n",
       "      <td>An illustration of a proud father, Raju, openi...</td>\n",
       "      <td>A visual representation of Raju, a proud fathe...</td>\n",
       "      <td>A visual representation of Raju, a proud fathe...</td>\n",
       "    </tr>\n",
       "    <tr>\n",
       "      <th>8</th>\n",
       "      <td>PM Jan Dhan Yojana</td>\n",
       "      <td>An illustration of Raju, a smiling Indian man,...</td>\n",
       "      <td>A visual representation of Raju, a smiling Ind...</td>\n",
       "      <td>A visual representation of Raju, a smiling Ind...</td>\n",
       "    </tr>\n",
       "    <tr>\n",
       "      <th>9</th>\n",
       "      <td>Pradhan Mantri Gram Sadak Yojana (PMGSY)</td>\n",
       "      <td>An illustration of Raju, a farmer, struggling ...</td>\n",
       "      <td>A visual representation of Raju, a farmer, str...</td>\n",
       "      <td>A visual representation of Raju, a farmer, str...</td>\n",
       "    </tr>\n",
       "  </tbody>\n",
       "</table>\n",
       "</div>"
      ],
      "text/plain": [
       "                                     Scheme  \\\n",
       "0                                    MNREGA   \n",
       "1                           AGNIPATH SCHEME   \n",
       "2                    Ayushman Bharat Yojana   \n",
       "3                         PM Ujjwala Yojana   \n",
       "4                      PM Fasal Bima Yojana   \n",
       "5                             Standup India   \n",
       "6                           PM Awaas Yojana   \n",
       "7          Sukanya Samriddhi Account Scheme   \n",
       "8                        PM Jan Dhan Yojana   \n",
       "9  Pradhan Mantri Gram Sadak Yojana (PMGSY)   \n",
       "\n",
       "                                             Prompt1  \\\n",
       "0  An illustration of a hopeful Raju, a rural Ind...   \n",
       "1  A visual representation of Raju, a young India...   \n",
       "2  An illustration of Raju, a young man from a lo...   \n",
       "3  An illustration of Raju, a rural man, cooking ...   \n",
       "4  An illustration of Raju, a smiling farmer, sta...   \n",
       "5  A visual representation of Raju, a young man f...   \n",
       "6  A visual representation of Raju, a young man, ...   \n",
       "7  An illustration of a proud father, Raju, openi...   \n",
       "8  An illustration of Raju, a smiling Indian man,...   \n",
       "9  An illustration of Raju, a farmer, struggling ...   \n",
       "\n",
       "                                             Prompt2  \\\n",
       "0  A visual representation of Raju, a smiling rur...   \n",
       "1  A visual representation of Raju, a young India...   \n",
       "2  An illustration of Raju, a young man looking r...   \n",
       "3  A visual representation of Raju, a rural man, ...   \n",
       "4  An illustration of Raju, a smiling farmer, hol...   \n",
       "5  An illustration of Raju, a young man from a Sc...   \n",
       "6  An illustration of Raju, a young man, smiling ...   \n",
       "7  A visual representation of Raju, a proud fathe...   \n",
       "8  A visual representation of Raju, a smiling Ind...   \n",
       "9  A visual representation of Raju, a farmer, str...   \n",
       "\n",
       "                                             Prompt3  \n",
       "0  A visual representation of Raju, a smiling rur...  \n",
       "1  A visual representation of Raju, a young India...  \n",
       "2  A visual representation of Raju, a young man, ...  \n",
       "3  An illustration of Raju, a rural man, cooking ...  \n",
       "4  A visual representation of Raju, a smiling far...  \n",
       "5  A visual representation of Raju, a young man f...  \n",
       "6  A visual representation of Raju, a young man, ...  \n",
       "7  A visual representation of Raju, a proud fathe...  \n",
       "8  A visual representation of Raju, a smiling Ind...  \n",
       "9  A visual representation of Raju, a farmer, str...  "
      ]
     },
     "execution_count": 28,
     "metadata": {},
     "output_type": "execute_result"
    }
   ],
   "source": [
    "image_prompts=df[['Scheme','Prompt1','Prompt2','Prompt3']]\n",
    "image_prompts"
   ]
  },
  {
   "cell_type": "code",
   "execution_count": 29,
   "metadata": {},
   "outputs": [],
   "source": [
    "image_prompts.to_csv(\"WelfareSchemesImagePromptsAPI.txt\", sep=';', index=False)"
   ]
  },
  {
   "cell_type": "code",
   "execution_count": 110,
   "metadata": {},
   "outputs": [],
   "source": [
    "image_prompts=pd.read_csv(\"WelfareSchemesImagePromptsAPI.txt\", sep=';')"
   ]
  },
  {
   "cell_type": "code",
   "execution_count": 111,
   "metadata": {},
   "outputs": [
    {
     "data": {
      "text/html": [
       "<div>\n",
       "<style scoped>\n",
       "    .dataframe tbody tr th:only-of-type {\n",
       "        vertical-align: middle;\n",
       "    }\n",
       "\n",
       "    .dataframe tbody tr th {\n",
       "        vertical-align: top;\n",
       "    }\n",
       "\n",
       "    .dataframe thead th {\n",
       "        text-align: right;\n",
       "    }\n",
       "</style>\n",
       "<table border=\"1\" class=\"dataframe\">\n",
       "  <thead>\n",
       "    <tr style=\"text-align: right;\">\n",
       "      <th></th>\n",
       "      <th>Scheme</th>\n",
       "      <th>Prompt1</th>\n",
       "      <th>Prompt2</th>\n",
       "      <th>Prompt3</th>\n",
       "    </tr>\n",
       "  </thead>\n",
       "  <tbody>\n",
       "    <tr>\n",
       "      <th>0</th>\n",
       "      <td>MNREGA</td>\n",
       "      <td>An illustration of a hopeful Raju, a rural Ind...</td>\n",
       "      <td>A visual representation of Raju, a smiling rur...</td>\n",
       "      <td>A visual representation of Raju, a smiling rur...</td>\n",
       "    </tr>\n",
       "    <tr>\n",
       "      <th>1</th>\n",
       "      <td>AGNIPATH SCHEME</td>\n",
       "      <td>A visual representation of Raju, a young India...</td>\n",
       "      <td>A visual representation of Raju, a young India...</td>\n",
       "      <td>A visual representation of Raju, a young India...</td>\n",
       "    </tr>\n",
       "    <tr>\n",
       "      <th>2</th>\n",
       "      <td>Ayushman Bharat Yojana</td>\n",
       "      <td>An illustration of Raju, a young man from a lo...</td>\n",
       "      <td>An illustration of Raju, a young man looking r...</td>\n",
       "      <td>A visual representation of Raju, a young man, ...</td>\n",
       "    </tr>\n",
       "    <tr>\n",
       "      <th>3</th>\n",
       "      <td>PM Ujjwala Yojana</td>\n",
       "      <td>An illustration of Raju, a rural man, cooking ...</td>\n",
       "      <td>A visual representation of Raju, a rural man, ...</td>\n",
       "      <td>An illustration of Raju, a rural man, cooking ...</td>\n",
       "    </tr>\n",
       "    <tr>\n",
       "      <th>4</th>\n",
       "      <td>PM Fasal Bima Yojana</td>\n",
       "      <td>An illustration of Raju, a smiling farmer, sta...</td>\n",
       "      <td>An illustration of Raju, a smiling farmer, hol...</td>\n",
       "      <td>A visual representation of Raju, a smiling far...</td>\n",
       "    </tr>\n",
       "    <tr>\n",
       "      <th>5</th>\n",
       "      <td>Standup India</td>\n",
       "      <td>A visual representation of Raju, a young man f...</td>\n",
       "      <td>An illustration of Raju, a young man from a Sc...</td>\n",
       "      <td>A visual representation of Raju, a young man f...</td>\n",
       "    </tr>\n",
       "    <tr>\n",
       "      <th>6</th>\n",
       "      <td>PM Awaas Yojana</td>\n",
       "      <td>A visual representation of Raju, a young man, ...</td>\n",
       "      <td>An illustration of Raju, a young man, smiling ...</td>\n",
       "      <td>A visual representation of Raju, a young man, ...</td>\n",
       "    </tr>\n",
       "    <tr>\n",
       "      <th>7</th>\n",
       "      <td>Sukanya Samriddhi Account Scheme</td>\n",
       "      <td>An illustration of a proud father, Raju, openi...</td>\n",
       "      <td>A visual representation of Raju, a proud fathe...</td>\n",
       "      <td>A visual representation of Raju, a proud fathe...</td>\n",
       "    </tr>\n",
       "    <tr>\n",
       "      <th>8</th>\n",
       "      <td>PM Jan Dhan Yojana</td>\n",
       "      <td>An illustration of Raju, a smiling Indian man,...</td>\n",
       "      <td>A visual representation of Raju, a smiling Ind...</td>\n",
       "      <td>A visual representation of Raju, a smiling Ind...</td>\n",
       "    </tr>\n",
       "    <tr>\n",
       "      <th>9</th>\n",
       "      <td>Pradhan Mantri Gram Sadak Yojana (PMGSY)</td>\n",
       "      <td>An illustration of Raju, a farmer, struggling ...</td>\n",
       "      <td>A visual representation of Raju, a farmer, str...</td>\n",
       "      <td>A visual representation of Raju, a farmer, str...</td>\n",
       "    </tr>\n",
       "  </tbody>\n",
       "</table>\n",
       "</div>"
      ],
      "text/plain": [
       "                                     Scheme  \\\n",
       "0                                    MNREGA   \n",
       "1                           AGNIPATH SCHEME   \n",
       "2                    Ayushman Bharat Yojana   \n",
       "3                         PM Ujjwala Yojana   \n",
       "4                      PM Fasal Bima Yojana   \n",
       "5                             Standup India   \n",
       "6                           PM Awaas Yojana   \n",
       "7          Sukanya Samriddhi Account Scheme   \n",
       "8                        PM Jan Dhan Yojana   \n",
       "9  Pradhan Mantri Gram Sadak Yojana (PMGSY)   \n",
       "\n",
       "                                             Prompt1  \\\n",
       "0  An illustration of a hopeful Raju, a rural Ind...   \n",
       "1  A visual representation of Raju, a young India...   \n",
       "2  An illustration of Raju, a young man from a lo...   \n",
       "3  An illustration of Raju, a rural man, cooking ...   \n",
       "4  An illustration of Raju, a smiling farmer, sta...   \n",
       "5  A visual representation of Raju, a young man f...   \n",
       "6  A visual representation of Raju, a young man, ...   \n",
       "7  An illustration of a proud father, Raju, openi...   \n",
       "8  An illustration of Raju, a smiling Indian man,...   \n",
       "9  An illustration of Raju, a farmer, struggling ...   \n",
       "\n",
       "                                             Prompt2  \\\n",
       "0  A visual representation of Raju, a smiling rur...   \n",
       "1  A visual representation of Raju, a young India...   \n",
       "2  An illustration of Raju, a young man looking r...   \n",
       "3  A visual representation of Raju, a rural man, ...   \n",
       "4  An illustration of Raju, a smiling farmer, hol...   \n",
       "5  An illustration of Raju, a young man from a Sc...   \n",
       "6  An illustration of Raju, a young man, smiling ...   \n",
       "7  A visual representation of Raju, a proud fathe...   \n",
       "8  A visual representation of Raju, a smiling Ind...   \n",
       "9  A visual representation of Raju, a farmer, str...   \n",
       "\n",
       "                                             Prompt3  \n",
       "0  A visual representation of Raju, a smiling rur...  \n",
       "1  A visual representation of Raju, a young India...  \n",
       "2  A visual representation of Raju, a young man, ...  \n",
       "3  An illustration of Raju, a rural man, cooking ...  \n",
       "4  A visual representation of Raju, a smiling far...  \n",
       "5  A visual representation of Raju, a young man f...  \n",
       "6  A visual representation of Raju, a young man, ...  \n",
       "7  A visual representation of Raju, a proud fathe...  \n",
       "8  A visual representation of Raju, a smiling Ind...  \n",
       "9  A visual representation of Raju, a farmer, str...  "
      ]
     },
     "execution_count": 111,
     "metadata": {},
     "output_type": "execute_result"
    }
   ],
   "source": [
    "image_prompts"
   ]
  },
  {
   "cell_type": "markdown",
   "metadata": {},
   "source": [
    "### Task 5: Ensuring Entity Consistency Across Prompts"
   ]
  },
  {
   "cell_type": "code",
   "execution_count": null,
   "metadata": {},
   "outputs": [],
   "source": [
    "API_Key='Removed for security reasons'\n",
    "import google.generativeai as genai\n",
    "\n",
    "genai.configure(api_key=API_Key)\n",
    "model = genai.GenerativeModel(\"gemini-1.5-flash\")\n"
   ]
  },
  {
   "cell_type": "markdown",
   "metadata": {},
   "source": [
    "#### Choosing 5 best welfare schemes(based on the image prompt generated)"
   ]
  },
  {
   "cell_type": "code",
   "execution_count": 122,
   "metadata": {},
   "outputs": [
    {
     "data": {
      "text/html": [
       "<div>\n",
       "<style scoped>\n",
       "    .dataframe tbody tr th:only-of-type {\n",
       "        vertical-align: middle;\n",
       "    }\n",
       "\n",
       "    .dataframe tbody tr th {\n",
       "        vertical-align: top;\n",
       "    }\n",
       "\n",
       "    .dataframe thead th {\n",
       "        text-align: right;\n",
       "    }\n",
       "</style>\n",
       "<table border=\"1\" class=\"dataframe\">\n",
       "  <thead>\n",
       "    <tr style=\"text-align: right;\">\n",
       "      <th></th>\n",
       "      <th>Scheme</th>\n",
       "      <th>Description</th>\n",
       "      <th>Writeup_1</th>\n",
       "      <th>Writeup_2</th>\n",
       "      <th>Writeup_3</th>\n",
       "    </tr>\n",
       "  </thead>\n",
       "  <tbody>\n",
       "    <tr>\n",
       "      <th>0</th>\n",
       "      <td>MNREGA</td>\n",
       "      <td>The vision of Mahatma Gandhi NREGA is to enha...</td>\n",
       "      <td>Raju, a rural resident, likely faces financial...</td>\n",
       "      <td>Raju can apply for MNREGA by contacting his lo...</td>\n",
       "      <td>Raju, being eligible for MNREGA, can volunteer...</td>\n",
       "    </tr>\n",
       "    <tr>\n",
       "      <th>1</th>\n",
       "      <td>Ayushman Bharat Yojana</td>\n",
       "      <td>Ayushman Bharat is an attempt to move from se...</td>\n",
       "      <td>Raju, being a member of the bottom 40% of the ...</td>\n",
       "      <td>Raju doesn't need to apply. He automatically q...</td>\n",
       "      <td>Raju, being eligible for Ayushman Bharat PM-JA...</td>\n",
       "    </tr>\n",
       "    <tr>\n",
       "      <th>2</th>\n",
       "      <td>PM Fasal Bima Yojana</td>\n",
       "      <td>The Pradhan Mantri fasal bima yojana (PMFBY) ...</td>\n",
       "      <td>Raju, a farmer, is eligible for the PM Fasal B...</td>\n",
       "      <td>Raju can apply for PM Fasal Bima Yojana online...</td>\n",
       "      <td>Raju, as an eligible farmer, can voluntarily e...</td>\n",
       "    </tr>\n",
       "    <tr>\n",
       "      <th>3</th>\n",
       "      <td>PM Awaas Yojana</td>\n",
       "      <td>A beneficiary family under the Mission compri...</td>\n",
       "      <td>Raju likely belongs to the Economically Weaker...</td>\n",
       "      <td>Raju, if you are an adult earning member witho...</td>\n",
       "      <td>Raju, to benefit from PM Awaas Yojana, must be...</td>\n",
       "    </tr>\n",
       "    <tr>\n",
       "      <th>4</th>\n",
       "      <td>Sukanya Samriddhi Account Scheme</td>\n",
       "      <td>Government of India backed saving scheme targ...</td>\n",
       "      <td>Raju is the guardian of a girl child and is el...</td>\n",
       "      <td>Raju can open a Sukanya Samriddhi Account for ...</td>\n",
       "      <td>Raju can open a Sukanya Samriddhi Account for ...</td>\n",
       "    </tr>\n",
       "  </tbody>\n",
       "</table>\n",
       "</div>"
      ],
      "text/plain": [
       "                             Scheme  \\\n",
       "0                            MNREGA   \n",
       "1            Ayushman Bharat Yojana   \n",
       "2              PM Fasal Bima Yojana   \n",
       "3                   PM Awaas Yojana   \n",
       "4  Sukanya Samriddhi Account Scheme   \n",
       "\n",
       "                                         Description  \\\n",
       "0   The vision of Mahatma Gandhi NREGA is to enha...   \n",
       "1   Ayushman Bharat is an attempt to move from se...   \n",
       "2   The Pradhan Mantri fasal bima yojana (PMFBY) ...   \n",
       "3   A beneficiary family under the Mission compri...   \n",
       "4   Government of India backed saving scheme targ...   \n",
       "\n",
       "                                           Writeup_1  \\\n",
       "0  Raju, a rural resident, likely faces financial...   \n",
       "1  Raju, being a member of the bottom 40% of the ...   \n",
       "2  Raju, a farmer, is eligible for the PM Fasal B...   \n",
       "3  Raju likely belongs to the Economically Weaker...   \n",
       "4  Raju is the guardian of a girl child and is el...   \n",
       "\n",
       "                                           Writeup_2  \\\n",
       "0  Raju can apply for MNREGA by contacting his lo...   \n",
       "1  Raju doesn't need to apply. He automatically q...   \n",
       "2  Raju can apply for PM Fasal Bima Yojana online...   \n",
       "3  Raju, if you are an adult earning member witho...   \n",
       "4  Raju can open a Sukanya Samriddhi Account for ...   \n",
       "\n",
       "                                           Writeup_3  \n",
       "0  Raju, being eligible for MNREGA, can volunteer...  \n",
       "1  Raju, being eligible for Ayushman Bharat PM-JA...  \n",
       "2  Raju, as an eligible farmer, can voluntarily e...  \n",
       "3  Raju, to benefit from PM Awaas Yojana, must be...  \n",
       "4  Raju can open a Sukanya Samriddhi Account for ...  "
      ]
     },
     "execution_count": 122,
     "metadata": {},
     "output_type": "execute_result"
    }
   ],
   "source": [
    "# List of schemes you want to select\n",
    "schemes_to_select = ['MNREGA', 'Ayushman Bharat Yojana', 'PM Fasal Bima Yojana', 'PM Awaas Yojana', 'Sukanya Samriddhi Account Scheme']\n",
    "best_df=df[df['Scheme'].isin(schemes_to_select)]\n",
    "best_image_prompts = image_prompts[image_prompts['Scheme'].isin(schemes_to_select)]\n",
    "best_image_prompts=best_image_prompts.reset_index(drop=True)\n",
    "best_image_prompts\n",
    "best_df=best_df.reset_index(drop=True)\n",
    "best_df\n"
   ]
  },
  {
   "cell_type": "code",
   "execution_count": 136,
   "metadata": {},
   "outputs": [],
   "source": [
    "for i in range(5):\n",
    "    response=model.generate_content(f\"Improvise the image prompt in not more than 60 words for the scheme named {best_image_prompts['Scheme'][i]} which is {best_image_prompts['Prompt1'][i]} depicting/helping us visualize according to the description in {best_df['Writeup_1'][i]} focussing on the character,objects around and setup.\")\n",
    "    best_image_prompts.loc[i,'ImprovisedPrompt1']=response.text\n",
    "    response=model.generate_content(f\"Further continue the image prompt in not more 60 words for the scheme named {best_image_prompts['Scheme'][i]} continuing the story according to the description in {best_df['Writeup_2'][i]} with a gradual change from the previous prompt and is consistent and coherent with the character,mood,setup around with the previous prompt {best_image_prompts['ImprovisedPrompt1'][i]}\")\n",
    "    best_image_prompts.loc[i,'ImprovisedPrompt2']=response.text\n",
    "    response=model.generate_content(f\"Further continue the image prompt in not more than 60 words for the scheme named {best_image_prompts['Scheme'][i]} continuing the story according to the description in {best_df['Writeup_3'][i]} with a gradual change from the previous prompt and shares objects or locations(consistent and coherent with the character,mood,setup around) with the previous 2 prompts {best_image_prompts['ImprovisedPrompt1'][i]} {best_image_prompts['ImprovisedPrompt2'][i]}\")\n",
    "    best_image_prompts.loc[i,'ImprovisedPrompt3']=response.text"
   ]
  },
  {
   "cell_type": "code",
   "execution_count": 137,
   "metadata": {},
   "outputs": [],
   "source": [
    "best_image_prompts_improvised=best_image_prompts[['Scheme','ImprovisedPrompt1','ImprovisedPrompt2','ImprovisedPrompt3']]\n",
    "best_image_prompts_improvised.to_csv(\"WelfareSchemesImagePromptsImprovisedAPI2.txt\", sep=';', index=False)"
   ]
  },
  {
   "cell_type": "markdown",
   "metadata": {},
   "source": [
    "# Level 2 Optimization"
   ]
  },
  {
   "cell_type": "code",
   "execution_count": 9,
   "metadata": {},
   "outputs": [
    {
     "data": {
      "text/html": [
       "<div>\n",
       "<style scoped>\n",
       "    .dataframe tbody tr th:only-of-type {\n",
       "        vertical-align: middle;\n",
       "    }\n",
       "\n",
       "    .dataframe tbody tr th {\n",
       "        vertical-align: top;\n",
       "    }\n",
       "\n",
       "    .dataframe thead th {\n",
       "        text-align: right;\n",
       "    }\n",
       "</style>\n",
       "<table border=\"1\" class=\"dataframe\">\n",
       "  <thead>\n",
       "    <tr style=\"text-align: right;\">\n",
       "      <th></th>\n",
       "      <th>Scheme</th>\n",
       "      <th>ImprovisedPrompt1</th>\n",
       "      <th>ImprovisedPrompt2</th>\n",
       "      <th>ImprovisedPrompt3</th>\n",
       "    </tr>\n",
       "  </thead>\n",
       "  <tbody>\n",
       "    <tr>\n",
       "      <th>0</th>\n",
       "      <td>MNREGA</td>\n",
       "      <td>Raju, a weathered but hopeful rural Indian man...</td>\n",
       "      <td>As the sun dips below the horizon, casting lon...</td>\n",
       "      <td>The next morning, Raju and his companions resu...</td>\n",
       "    </tr>\n",
       "    <tr>\n",
       "      <th>1</th>\n",
       "      <td>Ayushman Bharat Yojana</td>\n",
       "      <td>Raju, a young man with worry etched on his fac...</td>\n",
       "      <td>Raju's face relaxes as he pulls out his Ayushm...</td>\n",
       "      <td>Inside, the hospital is a blur of activity, bu...</td>\n",
       "    </tr>\n",
       "    <tr>\n",
       "      <th>2</th>\n",
       "      <td>PM Fasal Bima Yojana</td>\n",
       "      <td>Raju, a smiling farmer, stands in his wheat fi...</td>\n",
       "      <td>Raju's smile widens as he taps the screen, rel...</td>\n",
       "      <td>Raju's weathered hands, calloused from years o...</td>\n",
       "    </tr>\n",
       "    <tr>\n",
       "      <th>3</th>\n",
       "      <td>PM Awaas Yojana</td>\n",
       "      <td>A young man, Raju, stands outside a crumbling ...</td>\n",
       "      <td>Raju's heart pounded with a mix of nervousness...</td>\n",
       "      <td>Raju nervously handed the completed form to th...</td>\n",
       "    </tr>\n",
       "    <tr>\n",
       "      <th>4</th>\n",
       "      <td>Sukanya Samriddhi Account Scheme</td>\n",
       "      <td>A proud father, Raju, beams as he holds a brig...</td>\n",
       "      <td>Raju gently places the passbook in a special b...</td>\n",
       "      <td>Years later, a teenage girl, her face framed b...</td>\n",
       "    </tr>\n",
       "  </tbody>\n",
       "</table>\n",
       "</div>"
      ],
      "text/plain": [
       "                             Scheme  \\\n",
       "0                            MNREGA   \n",
       "1            Ayushman Bharat Yojana   \n",
       "2              PM Fasal Bima Yojana   \n",
       "3                   PM Awaas Yojana   \n",
       "4  Sukanya Samriddhi Account Scheme   \n",
       "\n",
       "                                   ImprovisedPrompt1  \\\n",
       "0  Raju, a weathered but hopeful rural Indian man...   \n",
       "1  Raju, a young man with worry etched on his fac...   \n",
       "2  Raju, a smiling farmer, stands in his wheat fi...   \n",
       "3  A young man, Raju, stands outside a crumbling ...   \n",
       "4  A proud father, Raju, beams as he holds a brig...   \n",
       "\n",
       "                                   ImprovisedPrompt2  \\\n",
       "0  As the sun dips below the horizon, casting lon...   \n",
       "1  Raju's face relaxes as he pulls out his Ayushm...   \n",
       "2  Raju's smile widens as he taps the screen, rel...   \n",
       "3  Raju's heart pounded with a mix of nervousness...   \n",
       "4  Raju gently places the passbook in a special b...   \n",
       "\n",
       "                                   ImprovisedPrompt3  \n",
       "0  The next morning, Raju and his companions resu...  \n",
       "1  Inside, the hospital is a blur of activity, bu...  \n",
       "2  Raju's weathered hands, calloused from years o...  \n",
       "3  Raju nervously handed the completed form to th...  \n",
       "4  Years later, a teenage girl, her face framed b...  "
      ]
     },
     "execution_count": 9,
     "metadata": {},
     "output_type": "execute_result"
    }
   ],
   "source": [
    "import pandas as pd\n",
    "df=pd.read_csv(\"Outputs\\Task5WelfareSchemesImagePromptsImprovisedAPI2.txt\", sep=';')\n",
    "df"
   ]
  },
  {
   "cell_type": "code",
   "execution_count": 10,
   "metadata": {},
   "outputs": [
    {
     "data": {
      "text/html": [
       "<div>\n",
       "<style scoped>\n",
       "    .dataframe tbody tr th:only-of-type {\n",
       "        vertical-align: middle;\n",
       "    }\n",
       "\n",
       "    .dataframe tbody tr th {\n",
       "        vertical-align: top;\n",
       "    }\n",
       "\n",
       "    .dataframe thead th {\n",
       "        text-align: right;\n",
       "    }\n",
       "</style>\n",
       "<table border=\"1\" class=\"dataframe\">\n",
       "  <thead>\n",
       "    <tr style=\"text-align: right;\">\n",
       "      <th></th>\n",
       "      <th>Scheme</th>\n",
       "      <th>ImprovisedPrompt1</th>\n",
       "      <th>ImprovisedPrompt2</th>\n",
       "      <th>ImprovisedPrompt3</th>\n",
       "      <th>OptimizedPrompt1</th>\n",
       "      <th>OptimizedPrompt2</th>\n",
       "      <th>OptimizedPrompt3</th>\n",
       "    </tr>\n",
       "  </thead>\n",
       "  <tbody>\n",
       "    <tr>\n",
       "      <th>0</th>\n",
       "      <td>MNREGA</td>\n",
       "      <td>Raju, a weathered but hopeful rural Indian man...</td>\n",
       "      <td>As the sun dips below the horizon, casting lon...</td>\n",
       "      <td>The next morning, Raju and his companions resu...</td>\n",
       "      <td>Nan</td>\n",
       "      <td>Nan</td>\n",
       "      <td>Nan</td>\n",
       "    </tr>\n",
       "    <tr>\n",
       "      <th>1</th>\n",
       "      <td>Ayushman Bharat Yojana</td>\n",
       "      <td>Raju, a young man with worry etched on his fac...</td>\n",
       "      <td>Raju's face relaxes as he pulls out his Ayushm...</td>\n",
       "      <td>Inside, the hospital is a blur of activity, bu...</td>\n",
       "      <td>Nan</td>\n",
       "      <td>Nan</td>\n",
       "      <td>Nan</td>\n",
       "    </tr>\n",
       "    <tr>\n",
       "      <th>2</th>\n",
       "      <td>PM Fasal Bima Yojana</td>\n",
       "      <td>Raju, a smiling farmer, stands in his wheat fi...</td>\n",
       "      <td>Raju's smile widens as he taps the screen, rel...</td>\n",
       "      <td>Raju's weathered hands, calloused from years o...</td>\n",
       "      <td>Nan</td>\n",
       "      <td>Nan</td>\n",
       "      <td>Nan</td>\n",
       "    </tr>\n",
       "    <tr>\n",
       "      <th>3</th>\n",
       "      <td>PM Awaas Yojana</td>\n",
       "      <td>A young man, Raju, stands outside a crumbling ...</td>\n",
       "      <td>Raju's heart pounded with a mix of nervousness...</td>\n",
       "      <td>Raju nervously handed the completed form to th...</td>\n",
       "      <td>Nan</td>\n",
       "      <td>Nan</td>\n",
       "      <td>Nan</td>\n",
       "    </tr>\n",
       "    <tr>\n",
       "      <th>4</th>\n",
       "      <td>Sukanya Samriddhi Account Scheme</td>\n",
       "      <td>A proud father, Raju, beams as he holds a brig...</td>\n",
       "      <td>Raju gently places the passbook in a special b...</td>\n",
       "      <td>Years later, a teenage girl, her face framed b...</td>\n",
       "      <td>Nan</td>\n",
       "      <td>Nan</td>\n",
       "      <td>Nan</td>\n",
       "    </tr>\n",
       "  </tbody>\n",
       "</table>\n",
       "</div>"
      ],
      "text/plain": [
       "                             Scheme  \\\n",
       "0                            MNREGA   \n",
       "1            Ayushman Bharat Yojana   \n",
       "2              PM Fasal Bima Yojana   \n",
       "3                   PM Awaas Yojana   \n",
       "4  Sukanya Samriddhi Account Scheme   \n",
       "\n",
       "                                   ImprovisedPrompt1  \\\n",
       "0  Raju, a weathered but hopeful rural Indian man...   \n",
       "1  Raju, a young man with worry etched on his fac...   \n",
       "2  Raju, a smiling farmer, stands in his wheat fi...   \n",
       "3  A young man, Raju, stands outside a crumbling ...   \n",
       "4  A proud father, Raju, beams as he holds a brig...   \n",
       "\n",
       "                                   ImprovisedPrompt2  \\\n",
       "0  As the sun dips below the horizon, casting lon...   \n",
       "1  Raju's face relaxes as he pulls out his Ayushm...   \n",
       "2  Raju's smile widens as he taps the screen, rel...   \n",
       "3  Raju's heart pounded with a mix of nervousness...   \n",
       "4  Raju gently places the passbook in a special b...   \n",
       "\n",
       "                                   ImprovisedPrompt3 OptimizedPrompt1  \\\n",
       "0  The next morning, Raju and his companions resu...              Nan   \n",
       "1  Inside, the hospital is a blur of activity, bu...              Nan   \n",
       "2  Raju's weathered hands, calloused from years o...              Nan   \n",
       "3  Raju nervously handed the completed form to th...              Nan   \n",
       "4  Years later, a teenage girl, her face framed b...              Nan   \n",
       "\n",
       "  OptimizedPrompt2 OptimizedPrompt3  \n",
       "0              Nan              Nan  \n",
       "1              Nan              Nan  \n",
       "2              Nan              Nan  \n",
       "3              Nan              Nan  \n",
       "4              Nan              Nan  "
      ]
     },
     "execution_count": 10,
     "metadata": {},
     "output_type": "execute_result"
    }
   ],
   "source": [
    "df['OptimizedPrompt1']='Nan'\n",
    "df['OptimizedPrompt2']='Nan'\n",
    "df['OptimizedPrompt3']='Nan'\n",
    "df"
   ]
  },
  {
   "cell_type": "code",
   "execution_count": null,
   "metadata": {},
   "outputs": [
    {
     "name": "stderr",
     "output_type": "stream",
     "text": [
      "c:\\ProgramData\\anaconda3\\Lib\\site-packages\\huggingface_hub\\file_download.py:1150: FutureWarning: `resume_download` is deprecated and will be removed in version 1.0.0. Downloads always resume when possible. If you want to force a new download, use `force_download=True`.\n",
      "  warnings.warn(\n",
      "c:\\ProgramData\\anaconda3\\Lib\\site-packages\\transformers\\modeling_utils.py:463: FutureWarning: You are using `torch.load` with `weights_only=False` (the current default value), which uses the default pickle module implicitly. It is possible to construct malicious pickle data which will execute arbitrary code during unpickling (See https://github.com/pytorch/pytorch/blob/main/SECURITY.md#untrusted-models for more details). In a future release, the default value for `weights_only` will be flipped to `True`. This limits the functions that could be executed during unpickling. Arbitrary objects will no longer be allowed to be loaded via this mode unless they are explicitly allowlisted by the user via `torch.serialization.add_safe_globals`. We recommend you start setting `weights_only=True` for any use case where you don't have full control of the loaded file. Please open an issue on GitHub for any issues related to this experimental feature.\n",
      "  return torch.load(checkpoint_file, map_location=\"cpu\")\n"
     ]
    }
   ],
   "source": [
    "import gradio as grad\n",
    "import torch\n",
    "from transformers import AutoModelForCausalLM, AutoTokenizer\n",
    "import pandas as pd\n",
    "\n",
    "def load_prompter():\n",
    "    prompter_model = AutoModelForCausalLM.from_pretrained(\"microsoft/Promptist\")\n",
    "    tokenizer = AutoTokenizer.from_pretrained(\"gpt2\")\n",
    "    tokenizer.pad_token = tokenizer.eos_token\n",
    "    tokenizer.padding_side = \"left\"\n",
    "    return prompter_model, tokenizer\n",
    "\n",
    "prompter_model, prompter_tokenizer = load_prompter()\n",
    "\n",
    "def generate_from_dataframe(df):\n",
    "    for i in range(len(df)):\n",
    "        for j in range(1, 4):  # Loop through prompt1, prompt2, prompt3\n",
    "            plain_text = df.iloc[i, j]\n",
    "            input_ids = prompter_tokenizer(plain_text.strip() + \" Rephrase:\", return_tensors=\"pt\").input_ids\n",
    "            eos_id = prompter_tokenizer.eos_token_id\n",
    "            outputs = prompter_model.generate(input_ids, do_sample=False, max_new_tokens=75, num_beams=8, num_return_sequences=8, eos_token_id=eos_id, pad_token_id=eos_id, length_penalty=-1.0)\n",
    "            output_texts = prompter_tokenizer.batch_decode(outputs, skip_special_tokens=True)\n",
    "            res = output_texts[0].replace(plain_text + \" Rephrase:\", \"\").strip()\n",
    "            df.iloc[i, j+3] = res  # Store result in optimized_prompt1, optimized_prompt2, optimized_prompt3\n",
    "    return df\n",
    "\n",
    "def generate_interface():\n",
    "    updated_df = generate_from_dataframe(df)\n",
    "    return updated_df[['OptimizedPrompt1', 'OptimizedPrompt2', 'OptimizedPrompt3']].iloc[0].tolist()\n",
    "\n",
    "\n"
   ]
  },
  {
   "cell_type": "code",
   "execution_count": 12,
   "metadata": {},
   "outputs": [
    {
     "name": "stderr",
     "output_type": "stream",
     "text": [
      "C:\\Users\\shash\\AppData\\Local\\Temp\\ipykernel_36832\\481765146.py:13: GradioDeprecationWarning: The `enable_queue` parameter has been deprecated. Please use the `.queue()` method instead.\n",
      "  ).launch(enable_queue=True, debug=True)\n"
     ]
    },
    {
     "name": "stdout",
     "output_type": "stream",
     "text": [
      "Running on local URL:  http://127.0.0.1:7860\n",
      "\n",
      "To create a public link, set `share=True` in `launch()`.\n"
     ]
    },
    {
     "data": {
      "text/html": [
       "<div><iframe src=\"http://127.0.0.1:7860/\" width=\"100%\" height=\"500\" allow=\"autoplay; camera; microphone; clipboard-read; clipboard-write;\" frameborder=\"0\" allowfullscreen></iframe></div>"
      ],
      "text/plain": [
       "<IPython.core.display.HTML object>"
      ]
     },
     "metadata": {},
     "output_type": "display_data"
    },
    {
     "name": "stdout",
     "output_type": "stream",
     "text": [
      "IMPORTANT: You are using gradio version 3.41.2, however version 4.44.1 is available, please upgrade.\n",
      "--------\n",
      "Keyboard interruption in main thread... closing server.\n"
     ]
    },
    {
     "data": {
      "text/plain": []
     },
     "execution_count": 12,
     "metadata": {},
     "output_type": "execute_result"
    }
   ],
   "source": [
    "# Gradio interface\n",
    "grad.Interface(\n",
    "    fn=generate_interface,\n",
    "    inputs=None,  # No direct input from user, using DataFrame\n",
    "    outputs=[grad.Textbox(lines=2, label=\"Optimized Prompt 1\"),\n",
    "             grad.Textbox(lines=2, label=\"Optimized Prompt 2\"),\n",
    "             grad.Textbox(lines=2, label=\"Optimized Prompt 3\")],\n",
    "    title=\"Promptist Demo with DataFrame\",\n",
    "    description=\"This demo uses a DataFrame to optimize prompts.\",\n",
    "    allow_flagging='never',\n",
    "    cache_examples=False,\n",
    "    theme=\"default\"\n",
    ").launch(enable_queue=True, debug=True)"
   ]
  },
  {
   "cell_type": "code",
   "execution_count": 13,
   "metadata": {},
   "outputs": [
    {
     "data": {
      "text/html": [
       "<div>\n",
       "<style scoped>\n",
       "    .dataframe tbody tr th:only-of-type {\n",
       "        vertical-align: middle;\n",
       "    }\n",
       "\n",
       "    .dataframe tbody tr th {\n",
       "        vertical-align: top;\n",
       "    }\n",
       "\n",
       "    .dataframe thead th {\n",
       "        text-align: right;\n",
       "    }\n",
       "</style>\n",
       "<table border=\"1\" class=\"dataframe\">\n",
       "  <thead>\n",
       "    <tr style=\"text-align: right;\">\n",
       "      <th></th>\n",
       "      <th>Scheme</th>\n",
       "      <th>ImprovisedPrompt1</th>\n",
       "      <th>ImprovisedPrompt2</th>\n",
       "      <th>ImprovisedPrompt3</th>\n",
       "      <th>OptimizedPrompt1</th>\n",
       "      <th>OptimizedPrompt2</th>\n",
       "      <th>OptimizedPrompt3</th>\n",
       "    </tr>\n",
       "  </thead>\n",
       "  <tbody>\n",
       "    <tr>\n",
       "      <th>0</th>\n",
       "      <td>MNREGA</td>\n",
       "      <td>Raju, a weathered but hopeful rural Indian man...</td>\n",
       "      <td>As the sun dips below the horizon, casting lon...</td>\n",
       "      <td>The next morning, Raju and his companions resu...</td>\n",
       "      <td>Raju, a weathered but hopeful rural Indian man...</td>\n",
       "      <td>As the sun dips below the horizon, casting lon...</td>\n",
       "      <td>The next morning, Raju and his companions resu...</td>\n",
       "    </tr>\n",
       "    <tr>\n",
       "      <th>1</th>\n",
       "      <td>Ayushman Bharat Yojana</td>\n",
       "      <td>Raju, a young man with worry etched on his fac...</td>\n",
       "      <td>Raju's face relaxes as he pulls out his Ayushm...</td>\n",
       "      <td>Inside, the hospital is a blur of activity, bu...</td>\n",
       "      <td>Raju, a young man with worry etched on his fac...</td>\n",
       "      <td>Raju's face relaxes as he pulls out his Ayushm...</td>\n",
       "      <td>Inside, the hospital is a blur of activity, bu...</td>\n",
       "    </tr>\n",
       "    <tr>\n",
       "      <th>2</th>\n",
       "      <td>PM Fasal Bima Yojana</td>\n",
       "      <td>Raju, a smiling farmer, stands in his wheat fi...</td>\n",
       "      <td>Raju's smile widens as he taps the screen, rel...</td>\n",
       "      <td>Raju's weathered hands, calloused from years o...</td>\n",
       "      <td>Raju, a smiling farmer, stands in his wheat fi...</td>\n",
       "      <td>Raju's smile widens as he taps the screen, rel...</td>\n",
       "      <td>Raju's weathered hands, calloused from years o...</td>\n",
       "    </tr>\n",
       "    <tr>\n",
       "      <th>3</th>\n",
       "      <td>PM Awaas Yojana</td>\n",
       "      <td>A young man, Raju, stands outside a crumbling ...</td>\n",
       "      <td>Raju's heart pounded with a mix of nervousness...</td>\n",
       "      <td>Raju nervously handed the completed form to th...</td>\n",
       "      <td>A young man, Raju, stands outside a crumbling ...</td>\n",
       "      <td>Raju's heart pounded with a mix of nervousness...</td>\n",
       "      <td>Raju nervously handed the completed form to th...</td>\n",
       "    </tr>\n",
       "    <tr>\n",
       "      <th>4</th>\n",
       "      <td>Sukanya Samriddhi Account Scheme</td>\n",
       "      <td>A proud father, Raju, beams as he holds a brig...</td>\n",
       "      <td>Raju gently places the passbook in a special b...</td>\n",
       "      <td>Years later, a teenage girl, her face framed b...</td>\n",
       "      <td>A proud father, Raju, beams as he holds a brig...</td>\n",
       "      <td>Raju gently places the passbook in a special b...</td>\n",
       "      <td>Years later, a teenage girl, her face framed b...</td>\n",
       "    </tr>\n",
       "  </tbody>\n",
       "</table>\n",
       "</div>"
      ],
      "text/plain": [
       "                             Scheme  \\\n",
       "0                            MNREGA   \n",
       "1            Ayushman Bharat Yojana   \n",
       "2              PM Fasal Bima Yojana   \n",
       "3                   PM Awaas Yojana   \n",
       "4  Sukanya Samriddhi Account Scheme   \n",
       "\n",
       "                                   ImprovisedPrompt1  \\\n",
       "0  Raju, a weathered but hopeful rural Indian man...   \n",
       "1  Raju, a young man with worry etched on his fac...   \n",
       "2  Raju, a smiling farmer, stands in his wheat fi...   \n",
       "3  A young man, Raju, stands outside a crumbling ...   \n",
       "4  A proud father, Raju, beams as he holds a brig...   \n",
       "\n",
       "                                   ImprovisedPrompt2  \\\n",
       "0  As the sun dips below the horizon, casting lon...   \n",
       "1  Raju's face relaxes as he pulls out his Ayushm...   \n",
       "2  Raju's smile widens as he taps the screen, rel...   \n",
       "3  Raju's heart pounded with a mix of nervousness...   \n",
       "4  Raju gently places the passbook in a special b...   \n",
       "\n",
       "                                   ImprovisedPrompt3  \\\n",
       "0  The next morning, Raju and his companions resu...   \n",
       "1  Inside, the hospital is a blur of activity, bu...   \n",
       "2  Raju's weathered hands, calloused from years o...   \n",
       "3  Raju nervously handed the completed form to th...   \n",
       "4  Years later, a teenage girl, her face framed b...   \n",
       "\n",
       "                                    OptimizedPrompt1  \\\n",
       "0  Raju, a weathered but hopeful rural Indian man...   \n",
       "1  Raju, a young man with worry etched on his fac...   \n",
       "2  Raju, a smiling farmer, stands in his wheat fi...   \n",
       "3  A young man, Raju, stands outside a crumbling ...   \n",
       "4  A proud father, Raju, beams as he holds a brig...   \n",
       "\n",
       "                                    OptimizedPrompt2  \\\n",
       "0  As the sun dips below the horizon, casting lon...   \n",
       "1  Raju's face relaxes as he pulls out his Ayushm...   \n",
       "2  Raju's smile widens as he taps the screen, rel...   \n",
       "3  Raju's heart pounded with a mix of nervousness...   \n",
       "4  Raju gently places the passbook in a special b...   \n",
       "\n",
       "                                    OptimizedPrompt3  \n",
       "0  The next morning, Raju and his companions resu...  \n",
       "1  Inside, the hospital is a blur of activity, bu...  \n",
       "2  Raju's weathered hands, calloused from years o...  \n",
       "3  Raju nervously handed the completed form to th...  \n",
       "4  Years later, a teenage girl, her face framed b...  "
      ]
     },
     "execution_count": 13,
     "metadata": {},
     "output_type": "execute_result"
    }
   ],
   "source": [
    "df"
   ]
  },
  {
   "cell_type": "code",
   "execution_count": null,
   "metadata": {},
   "outputs": [],
   "source": [
    "# df.to_csv(\"Outputs\\Level2Task5WelfareSchemesOptimizedImagePrompts1.txt\", sep=';', index=False)"
   ]
  },
  {
   "cell_type": "code",
   "execution_count": 17,
   "metadata": {},
   "outputs": [
    {
     "data": {
      "text/html": [
       "<div>\n",
       "<style scoped>\n",
       "    .dataframe tbody tr th:only-of-type {\n",
       "        vertical-align: middle;\n",
       "    }\n",
       "\n",
       "    .dataframe tbody tr th {\n",
       "        vertical-align: top;\n",
       "    }\n",
       "\n",
       "    .dataframe thead th {\n",
       "        text-align: right;\n",
       "    }\n",
       "</style>\n",
       "<table border=\"1\" class=\"dataframe\">\n",
       "  <thead>\n",
       "    <tr style=\"text-align: right;\">\n",
       "      <th></th>\n",
       "      <th>OptimizedPrompt1</th>\n",
       "      <th>OptimizedPrompt2</th>\n",
       "      <th>OptimizedPrompt3</th>\n",
       "    </tr>\n",
       "  </thead>\n",
       "  <tbody>\n",
       "    <tr>\n",
       "      <th>0</th>\n",
       "      <td>Raju, a weathered but hopeful rural Indian man...</td>\n",
       "      <td>As the sun dips below the horizon, casting lon...</td>\n",
       "      <td>The next morning, Raju and his companions resu...</td>\n",
       "    </tr>\n",
       "    <tr>\n",
       "      <th>1</th>\n",
       "      <td>Raju, a young man with worry etched on his fac...</td>\n",
       "      <td>Raju's face relaxes as he pulls out his Ayushm...</td>\n",
       "      <td>Inside, the hospital is a blur of activity, bu...</td>\n",
       "    </tr>\n",
       "    <tr>\n",
       "      <th>2</th>\n",
       "      <td>Raju, a smiling farmer, stands in his wheat fi...</td>\n",
       "      <td>Raju's smile widens as he taps the screen, rel...</td>\n",
       "      <td>Raju's weathered hands, calloused from years o...</td>\n",
       "    </tr>\n",
       "    <tr>\n",
       "      <th>3</th>\n",
       "      <td>A young man, Raju, stands outside a crumbling ...</td>\n",
       "      <td>Raju's heart pounded with a mix of nervousness...</td>\n",
       "      <td>Raju nervously handed the completed form to th...</td>\n",
       "    </tr>\n",
       "    <tr>\n",
       "      <th>4</th>\n",
       "      <td>A proud father, Raju, beams as he holds a brig...</td>\n",
       "      <td>Raju gently places the passbook in a special b...</td>\n",
       "      <td>Years later, a teenage girl, her face framed b...</td>\n",
       "    </tr>\n",
       "  </tbody>\n",
       "</table>\n",
       "</div>"
      ],
      "text/plain": [
       "                                    OptimizedPrompt1  \\\n",
       "0  Raju, a weathered but hopeful rural Indian man...   \n",
       "1  Raju, a young man with worry etched on his fac...   \n",
       "2  Raju, a smiling farmer, stands in his wheat fi...   \n",
       "3  A young man, Raju, stands outside a crumbling ...   \n",
       "4  A proud father, Raju, beams as he holds a brig...   \n",
       "\n",
       "                                    OptimizedPrompt2  \\\n",
       "0  As the sun dips below the horizon, casting lon...   \n",
       "1  Raju's face relaxes as he pulls out his Ayushm...   \n",
       "2  Raju's smile widens as he taps the screen, rel...   \n",
       "3  Raju's heart pounded with a mix of nervousness...   \n",
       "4  Raju gently places the passbook in a special b...   \n",
       "\n",
       "                                    OptimizedPrompt3  \n",
       "0  The next morning, Raju and his companions resu...  \n",
       "1  Inside, the hospital is a blur of activity, bu...  \n",
       "2  Raju's weathered hands, calloused from years o...  \n",
       "3  Raju nervously handed the completed form to th...  \n",
       "4  Years later, a teenage girl, her face framed b...  "
      ]
     },
     "execution_count": 17,
     "metadata": {},
     "output_type": "execute_result"
    }
   ],
   "source": [
    "df=pd.read_csv(\"Outputs\\Level2Task5WelfareSchemesOptimizedImagePrompts.txt\", sep=';')\n",
    "df[['OptimizedPrompt1', 'OptimizedPrompt2', 'OptimizedPrompt3']]"
   ]
  },
  {
   "cell_type": "code",
   "execution_count": 19,
   "metadata": {},
   "outputs": [
    {
     "data": {
      "text/plain": [
       "'As the sun dips below the horizon, casting long shadows across the field, Raju and his fellow workers gather for a communal meal.  Their laughter and conversation echo through the air, a testament to the camaraderie forged in the face of shared struggle. The evening meal, provided by MNREGA,  is a symbol of  hope, a tangible reminder that their hard work is not in vain. Rephrase: sun plunging below horizon, Raju and his fellow workers gather for a communal meal, concept art, digital painting, style of jordan grimmer, warm lighting, futuristic, volumetric lighting, view from below, vivid colours, bright, daytime, godrays, high detail'"
      ]
     },
     "execution_count": 19,
     "metadata": {},
     "output_type": "execute_result"
    }
   ],
   "source": [
    "df.iloc[0,5]"
   ]
  },
  {
   "cell_type": "code",
   "execution_count": null,
   "metadata": {},
   "outputs": [],
   "source": [
    "API_Key='Your API KEY'\n",
    "import google.generativeai as genai\n",
    "\n",
    "genai.configure(api_key=API_Key)\n",
    "model = genai.GenerativeModel(\"gemini-1.5-flash\")"
   ]
  },
  {
   "cell_type": "code",
   "execution_count": 21,
   "metadata": {},
   "outputs": [],
   "source": [
    "df['RephrasedImprovisedImagePrompt1']='Nan'\n",
    "df['RephrasedImprovisedImagePrompt2']='Nan'\n",
    "df['RephrasedImprovisedImagePrompt3']='Nan'"
   ]
  },
  {
   "cell_type": "code",
   "execution_count": 22,
   "metadata": {},
   "outputs": [
    {
     "data": {
      "text/html": [
       "<div>\n",
       "<style scoped>\n",
       "    .dataframe tbody tr th:only-of-type {\n",
       "        vertical-align: middle;\n",
       "    }\n",
       "\n",
       "    .dataframe tbody tr th {\n",
       "        vertical-align: top;\n",
       "    }\n",
       "\n",
       "    .dataframe thead th {\n",
       "        text-align: right;\n",
       "    }\n",
       "</style>\n",
       "<table border=\"1\" class=\"dataframe\">\n",
       "  <thead>\n",
       "    <tr style=\"text-align: right;\">\n",
       "      <th></th>\n",
       "      <th>Scheme</th>\n",
       "      <th>ImprovisedPrompt1</th>\n",
       "      <th>ImprovisedPrompt2</th>\n",
       "      <th>ImprovisedPrompt3</th>\n",
       "      <th>OptimizedPrompt1</th>\n",
       "      <th>OptimizedPrompt2</th>\n",
       "      <th>OptimizedPrompt3</th>\n",
       "      <th>RephrasedImprovisedImagePrompt1</th>\n",
       "      <th>RephrasedImprovisedImagePrompt2</th>\n",
       "      <th>RephrasedImprovisedImagePrompt3</th>\n",
       "    </tr>\n",
       "  </thead>\n",
       "  <tbody>\n",
       "    <tr>\n",
       "      <th>0</th>\n",
       "      <td>MNREGA</td>\n",
       "      <td>Raju, a weathered but hopeful rural Indian man...</td>\n",
       "      <td>As the sun dips below the horizon, casting lon...</td>\n",
       "      <td>The next morning, Raju and his companions resu...</td>\n",
       "      <td>Raju, a weathered but hopeful rural Indian man...</td>\n",
       "      <td>As the sun dips below the horizon, casting lon...</td>\n",
       "      <td>The next morning, Raju and his companions resu...</td>\n",
       "      <td>Nan</td>\n",
       "      <td>Nan</td>\n",
       "      <td>Nan</td>\n",
       "    </tr>\n",
       "    <tr>\n",
       "      <th>1</th>\n",
       "      <td>Ayushman Bharat Yojana</td>\n",
       "      <td>Raju, a young man with worry etched on his fac...</td>\n",
       "      <td>Raju's face relaxes as he pulls out his Ayushm...</td>\n",
       "      <td>Inside, the hospital is a blur of activity, bu...</td>\n",
       "      <td>Raju, a young man with worry etched on his fac...</td>\n",
       "      <td>Raju's face relaxes as he pulls out his Ayushm...</td>\n",
       "      <td>Inside, the hospital is a blur of activity, bu...</td>\n",
       "      <td>Nan</td>\n",
       "      <td>Nan</td>\n",
       "      <td>Nan</td>\n",
       "    </tr>\n",
       "    <tr>\n",
       "      <th>2</th>\n",
       "      <td>PM Fasal Bima Yojana</td>\n",
       "      <td>Raju, a smiling farmer, stands in his wheat fi...</td>\n",
       "      <td>Raju's smile widens as he taps the screen, rel...</td>\n",
       "      <td>Raju's weathered hands, calloused from years o...</td>\n",
       "      <td>Raju, a smiling farmer, stands in his wheat fi...</td>\n",
       "      <td>Raju's smile widens as he taps the screen, rel...</td>\n",
       "      <td>Raju's weathered hands, calloused from years o...</td>\n",
       "      <td>Nan</td>\n",
       "      <td>Nan</td>\n",
       "      <td>Nan</td>\n",
       "    </tr>\n",
       "    <tr>\n",
       "      <th>3</th>\n",
       "      <td>PM Awaas Yojana</td>\n",
       "      <td>A young man, Raju, stands outside a crumbling ...</td>\n",
       "      <td>Raju's heart pounded with a mix of nervousness...</td>\n",
       "      <td>Raju nervously handed the completed form to th...</td>\n",
       "      <td>A young man, Raju, stands outside a crumbling ...</td>\n",
       "      <td>Raju's heart pounded with a mix of nervousness...</td>\n",
       "      <td>Raju nervously handed the completed form to th...</td>\n",
       "      <td>Nan</td>\n",
       "      <td>Nan</td>\n",
       "      <td>Nan</td>\n",
       "    </tr>\n",
       "    <tr>\n",
       "      <th>4</th>\n",
       "      <td>Sukanya Samriddhi Account Scheme</td>\n",
       "      <td>A proud father, Raju, beams as he holds a brig...</td>\n",
       "      <td>Raju gently places the passbook in a special b...</td>\n",
       "      <td>Years later, a teenage girl, her face framed b...</td>\n",
       "      <td>A proud father, Raju, beams as he holds a brig...</td>\n",
       "      <td>Raju gently places the passbook in a special b...</td>\n",
       "      <td>Years later, a teenage girl, her face framed b...</td>\n",
       "      <td>Nan</td>\n",
       "      <td>Nan</td>\n",
       "      <td>Nan</td>\n",
       "    </tr>\n",
       "  </tbody>\n",
       "</table>\n",
       "</div>"
      ],
      "text/plain": [
       "                             Scheme  \\\n",
       "0                            MNREGA   \n",
       "1            Ayushman Bharat Yojana   \n",
       "2              PM Fasal Bima Yojana   \n",
       "3                   PM Awaas Yojana   \n",
       "4  Sukanya Samriddhi Account Scheme   \n",
       "\n",
       "                                   ImprovisedPrompt1  \\\n",
       "0  Raju, a weathered but hopeful rural Indian man...   \n",
       "1  Raju, a young man with worry etched on his fac...   \n",
       "2  Raju, a smiling farmer, stands in his wheat fi...   \n",
       "3  A young man, Raju, stands outside a crumbling ...   \n",
       "4  A proud father, Raju, beams as he holds a brig...   \n",
       "\n",
       "                                   ImprovisedPrompt2  \\\n",
       "0  As the sun dips below the horizon, casting lon...   \n",
       "1  Raju's face relaxes as he pulls out his Ayushm...   \n",
       "2  Raju's smile widens as he taps the screen, rel...   \n",
       "3  Raju's heart pounded with a mix of nervousness...   \n",
       "4  Raju gently places the passbook in a special b...   \n",
       "\n",
       "                                   ImprovisedPrompt3  \\\n",
       "0  The next morning, Raju and his companions resu...   \n",
       "1  Inside, the hospital is a blur of activity, bu...   \n",
       "2  Raju's weathered hands, calloused from years o...   \n",
       "3  Raju nervously handed the completed form to th...   \n",
       "4  Years later, a teenage girl, her face framed b...   \n",
       "\n",
       "                                    OptimizedPrompt1  \\\n",
       "0  Raju, a weathered but hopeful rural Indian man...   \n",
       "1  Raju, a young man with worry etched on his fac...   \n",
       "2  Raju, a smiling farmer, stands in his wheat fi...   \n",
       "3  A young man, Raju, stands outside a crumbling ...   \n",
       "4  A proud father, Raju, beams as he holds a brig...   \n",
       "\n",
       "                                    OptimizedPrompt2  \\\n",
       "0  As the sun dips below the horizon, casting lon...   \n",
       "1  Raju's face relaxes as he pulls out his Ayushm...   \n",
       "2  Raju's smile widens as he taps the screen, rel...   \n",
       "3  Raju's heart pounded with a mix of nervousness...   \n",
       "4  Raju gently places the passbook in a special b...   \n",
       "\n",
       "                                    OptimizedPrompt3  \\\n",
       "0  The next morning, Raju and his companions resu...   \n",
       "1  Inside, the hospital is a blur of activity, bu...   \n",
       "2  Raju's weathered hands, calloused from years o...   \n",
       "3  Raju nervously handed the completed form to th...   \n",
       "4  Years later, a teenage girl, her face framed b...   \n",
       "\n",
       "  RephrasedImprovisedImagePrompt1 RephrasedImprovisedImagePrompt2  \\\n",
       "0                             Nan                             Nan   \n",
       "1                             Nan                             Nan   \n",
       "2                             Nan                             Nan   \n",
       "3                             Nan                             Nan   \n",
       "4                             Nan                             Nan   \n",
       "\n",
       "  RephrasedImprovisedImagePrompt3  \n",
       "0                             Nan  \n",
       "1                             Nan  \n",
       "2                             Nan  \n",
       "3                             Nan  \n",
       "4                             Nan  "
      ]
     },
     "execution_count": 22,
     "metadata": {},
     "output_type": "execute_result"
    }
   ],
   "source": [
    "df"
   ]
  },
  {
   "cell_type": "code",
   "execution_count": 23,
   "metadata": {},
   "outputs": [],
   "source": [
    "for i in range(5):\n",
    "    response=model.generate_content(f\"Rephrase the optimized image prompts in not more than 60 words for the scheme named {df['Scheme'][i]} which is {df['OptimizedPrompt1'][i]} and perform as mentioned after Rephrase in the prompt.\")\n",
    "    df.loc[i,'RephrasedImprovisedImagePrompt1']=response.text\n",
    "    response=model.generate_content(f\"Rephrase the optimized image prompts in not more than 60 words for the scheme named {df['Scheme'][i]} which is {df['OptimizedPrompt2'][i]} and perform as mentioned after Rephrase in the prompt so as to maintain consistency with the prompt{df['RephrasedImprovisedImagePrompt1'][i]}.\")\n",
    "    df.loc[i,'RephrasedImprovisedImagePrompt2']=response.text\n",
    "    response=model.generate_content(f\"Rephrase the optimized image prompts in not more than 60 words for the scheme named {df['Scheme'][i]} which is {df['OptimizedPrompt3'][i]} and perform as mentioned after Rephrase in the prompt so as to maintain consistency with the prompt{df['RephrasedImprovisedImagePrompt2'][i]}.\")\n",
    "    df.loc[i,'RephrasedImprovisedImagePrompt3']=response.text\n"
   ]
  },
  {
   "cell_type": "code",
   "execution_count": 24,
   "metadata": {},
   "outputs": [
    {
     "data": {
      "text/html": [
       "<div>\n",
       "<style scoped>\n",
       "    .dataframe tbody tr th:only-of-type {\n",
       "        vertical-align: middle;\n",
       "    }\n",
       "\n",
       "    .dataframe tbody tr th {\n",
       "        vertical-align: top;\n",
       "    }\n",
       "\n",
       "    .dataframe thead th {\n",
       "        text-align: right;\n",
       "    }\n",
       "</style>\n",
       "<table border=\"1\" class=\"dataframe\">\n",
       "  <thead>\n",
       "    <tr style=\"text-align: right;\">\n",
       "      <th></th>\n",
       "      <th>Scheme</th>\n",
       "      <th>ImprovisedPrompt1</th>\n",
       "      <th>ImprovisedPrompt2</th>\n",
       "      <th>ImprovisedPrompt3</th>\n",
       "      <th>OptimizedPrompt1</th>\n",
       "      <th>OptimizedPrompt2</th>\n",
       "      <th>OptimizedPrompt3</th>\n",
       "      <th>RephrasedImprovisedImagePrompt1</th>\n",
       "      <th>RephrasedImprovisedImagePrompt2</th>\n",
       "      <th>RephrasedImprovisedImagePrompt3</th>\n",
       "    </tr>\n",
       "  </thead>\n",
       "  <tbody>\n",
       "    <tr>\n",
       "      <th>0</th>\n",
       "      <td>MNREGA</td>\n",
       "      <td>Raju, a weathered but hopeful rural Indian man...</td>\n",
       "      <td>As the sun dips below the horizon, casting lon...</td>\n",
       "      <td>The next morning, Raju and his companions resu...</td>\n",
       "      <td>Raju, a weathered but hopeful rural Indian man...</td>\n",
       "      <td>As the sun dips below the horizon, casting lon...</td>\n",
       "      <td>The next morning, Raju and his companions resu...</td>\n",
       "      <td>Sun-drenched field, weathered Raju (wlop style...</td>\n",
       "      <td>Sun sets, casting long shadows.  Raju and MNRE...</td>\n",
       "      <td>Sunrise reveals Raju and his MNREGA team diggi...</td>\n",
       "    </tr>\n",
       "    <tr>\n",
       "      <th>1</th>\n",
       "      <td>Ayushman Bharat Yojana</td>\n",
       "      <td>Raju, a young man with worry etched on his fac...</td>\n",
       "      <td>Raju's face relaxes as he pulls out his Ayushm...</td>\n",
       "      <td>Inside, the hospital is a blur of activity, bu...</td>\n",
       "      <td>Raju, a young man with worry etched on his fac...</td>\n",
       "      <td>Raju's face relaxes as he pulls out his Ayushm...</td>\n",
       "      <td>Inside, the hospital is a blur of activity, bu...</td>\n",
       "      <td>Worried Raju clutches a large medical bill out...</td>\n",
       "      <td>Raju, relieved, displays his Ayushman Bharat c...</td>\n",
       "      <td>Deep within the hospital, calm washes over Raj...</td>\n",
       "    </tr>\n",
       "    <tr>\n",
       "      <th>2</th>\n",
       "      <td>PM Fasal Bima Yojana</td>\n",
       "      <td>Raju, a smiling farmer, stands in his wheat fi...</td>\n",
       "      <td>Raju's smile widens as he taps the screen, rel...</td>\n",
       "      <td>Raju's weathered hands, calloused from years o...</td>\n",
       "      <td>Raju, a smiling farmer, stands in his wheat fi...</td>\n",
       "      <td>Raju's smile widens as he taps the screen, rel...</td>\n",
       "      <td>Raju's weathered hands, calloused from years o...</td>\n",
       "      <td>Smiling farmer Raju, in traditional attire, st...</td>\n",
       "      <td>Raju, a smiling farmer, confidently stands in ...</td>\n",
       "      <td>Weathered hands confidently use a smartphone t...</td>\n",
       "    </tr>\n",
       "    <tr>\n",
       "      <th>3</th>\n",
       "      <td>PM Awaas Yojana</td>\n",
       "      <td>A young man, Raju, stands outside a crumbling ...</td>\n",
       "      <td>Raju's heart pounded with a mix of nervousness...</td>\n",
       "      <td>Raju nervously handed the completed form to th...</td>\n",
       "      <td>A young man, Raju, stands outside a crumbling ...</td>\n",
       "      <td>Raju's heart pounded with a mix of nervousness...</td>\n",
       "      <td>Raju nervously handed the completed form to th...</td>\n",
       "      <td>Hopeful Raju, clutching a PM Awaas Yojana pamp...</td>\n",
       "      <td>Hopeful Raju, clutching a PM Awaas Yojana pamp...</td>\n",
       "      <td>Raju, hopeful, hands his PM Awaas Yojana appli...</td>\n",
       "    </tr>\n",
       "    <tr>\n",
       "      <th>4</th>\n",
       "      <td>Sukanya Samriddhi Account Scheme</td>\n",
       "      <td>A proud father, Raju, beams as he holds a brig...</td>\n",
       "      <td>Raju gently places the passbook in a special b...</td>\n",
       "      <td>Years later, a teenage girl, her face framed b...</td>\n",
       "      <td>A proud father, Raju, beams as he holds a brig...</td>\n",
       "      <td>Raju gently places the passbook in a special b...</td>\n",
       "      <td>Years later, a teenage girl, her face framed b...</td>\n",
       "      <td>Proud father Raju smiles, holding a pink Sukan...</td>\n",
       "      <td>Raju secures his daughter's Sukanya Samriddhi ...</td>\n",
       "      <td>A graduating teen, beaming, holds her Sukanya ...</td>\n",
       "    </tr>\n",
       "  </tbody>\n",
       "</table>\n",
       "</div>"
      ],
      "text/plain": [
       "                             Scheme  \\\n",
       "0                            MNREGA   \n",
       "1            Ayushman Bharat Yojana   \n",
       "2              PM Fasal Bima Yojana   \n",
       "3                   PM Awaas Yojana   \n",
       "4  Sukanya Samriddhi Account Scheme   \n",
       "\n",
       "                                   ImprovisedPrompt1  \\\n",
       "0  Raju, a weathered but hopeful rural Indian man...   \n",
       "1  Raju, a young man with worry etched on his fac...   \n",
       "2  Raju, a smiling farmer, stands in his wheat fi...   \n",
       "3  A young man, Raju, stands outside a crumbling ...   \n",
       "4  A proud father, Raju, beams as he holds a brig...   \n",
       "\n",
       "                                   ImprovisedPrompt2  \\\n",
       "0  As the sun dips below the horizon, casting lon...   \n",
       "1  Raju's face relaxes as he pulls out his Ayushm...   \n",
       "2  Raju's smile widens as he taps the screen, rel...   \n",
       "3  Raju's heart pounded with a mix of nervousness...   \n",
       "4  Raju gently places the passbook in a special b...   \n",
       "\n",
       "                                   ImprovisedPrompt3  \\\n",
       "0  The next morning, Raju and his companions resu...   \n",
       "1  Inside, the hospital is a blur of activity, bu...   \n",
       "2  Raju's weathered hands, calloused from years o...   \n",
       "3  Raju nervously handed the completed form to th...   \n",
       "4  Years later, a teenage girl, her face framed b...   \n",
       "\n",
       "                                    OptimizedPrompt1  \\\n",
       "0  Raju, a weathered but hopeful rural Indian man...   \n",
       "1  Raju, a young man with worry etched on his fac...   \n",
       "2  Raju, a smiling farmer, stands in his wheat fi...   \n",
       "3  A young man, Raju, stands outside a crumbling ...   \n",
       "4  A proud father, Raju, beams as he holds a brig...   \n",
       "\n",
       "                                    OptimizedPrompt2  \\\n",
       "0  As the sun dips below the horizon, casting lon...   \n",
       "1  Raju's face relaxes as he pulls out his Ayushm...   \n",
       "2  Raju's smile widens as he taps the screen, rel...   \n",
       "3  Raju's heart pounded with a mix of nervousness...   \n",
       "4  Raju gently places the passbook in a special b...   \n",
       "\n",
       "                                    OptimizedPrompt3  \\\n",
       "0  The next morning, Raju and his companions resu...   \n",
       "1  Inside, the hospital is a blur of activity, bu...   \n",
       "2  Raju's weathered hands, calloused from years o...   \n",
       "3  Raju nervously handed the completed form to th...   \n",
       "4  Years later, a teenage girl, her face framed b...   \n",
       "\n",
       "                     RephrasedImprovisedImagePrompt1  \\\n",
       "0  Sun-drenched field, weathered Raju (wlop style...   \n",
       "1  Worried Raju clutches a large medical bill out...   \n",
       "2  Smiling farmer Raju, in traditional attire, st...   \n",
       "3  Hopeful Raju, clutching a PM Awaas Yojana pamp...   \n",
       "4  Proud father Raju smiles, holding a pink Sukan...   \n",
       "\n",
       "                     RephrasedImprovisedImagePrompt2  \\\n",
       "0  Sun sets, casting long shadows.  Raju and MNRE...   \n",
       "1  Raju, relieved, displays his Ayushman Bharat c...   \n",
       "2  Raju, a smiling farmer, confidently stands in ...   \n",
       "3  Hopeful Raju, clutching a PM Awaas Yojana pamp...   \n",
       "4  Raju secures his daughter's Sukanya Samriddhi ...   \n",
       "\n",
       "                     RephrasedImprovisedImagePrompt3  \n",
       "0  Sunrise reveals Raju and his MNREGA team diggi...  \n",
       "1  Deep within the hospital, calm washes over Raj...  \n",
       "2  Weathered hands confidently use a smartphone t...  \n",
       "3  Raju, hopeful, hands his PM Awaas Yojana appli...  \n",
       "4  A graduating teen, beaming, holds her Sukanya ...  "
      ]
     },
     "execution_count": 24,
     "metadata": {},
     "output_type": "execute_result"
    }
   ],
   "source": [
    "df"
   ]
  },
  {
   "cell_type": "code",
   "execution_count": null,
   "metadata": {},
   "outputs": [],
   "source": [
    "# df.to_csv(\"Outputs\\Level2Task5WelfareSchemesRephrasedOptimizedImagePrompts.txt\", sep=';', index=False)"
   ]
  },
  {
   "cell_type": "markdown",
   "metadata": {},
   "source": [
    "### Level 2 Results list(Primary Deliverable)"
   ]
  },
  {
   "cell_type": "code",
   "execution_count": 30,
   "metadata": {},
   "outputs": [],
   "source": [
    "df=pd.read_csv(\"Outputs\\Level2Task5WelfareSchemesRephrasedOptimizedImagePrompts.txt\", sep=';')\n",
    "df=df[['Scheme','RephrasedImprovisedImagePrompt1', 'RephrasedImprovisedImagePrompt2', 'RephrasedImprovisedImagePrompt3']]"
   ]
  },
  {
   "cell_type": "code",
   "execution_count": 31,
   "metadata": {},
   "outputs": [
    {
     "data": {
      "text/html": [
       "<div>\n",
       "<style scoped>\n",
       "    .dataframe tbody tr th:only-of-type {\n",
       "        vertical-align: middle;\n",
       "    }\n",
       "\n",
       "    .dataframe tbody tr th {\n",
       "        vertical-align: top;\n",
       "    }\n",
       "\n",
       "    .dataframe thead th {\n",
       "        text-align: right;\n",
       "    }\n",
       "</style>\n",
       "<table border=\"1\" class=\"dataframe\">\n",
       "  <thead>\n",
       "    <tr style=\"text-align: right;\">\n",
       "      <th></th>\n",
       "      <th>Scheme</th>\n",
       "      <th>RephrasedImprovisedImagePrompt1</th>\n",
       "      <th>RephrasedImprovisedImagePrompt2</th>\n",
       "      <th>RephrasedImprovisedImagePrompt3</th>\n",
       "    </tr>\n",
       "  </thead>\n",
       "  <tbody>\n",
       "    <tr>\n",
       "      <th>0</th>\n",
       "      <td>MNREGA</td>\n",
       "      <td>Sun-drenched field, weathered Raju (wlop style...</td>\n",
       "      <td>Sun sets, casting long shadows.  Raju and MNRE...</td>\n",
       "      <td>Sunrise reveals Raju and his MNREGA team diggi...</td>\n",
       "    </tr>\n",
       "    <tr>\n",
       "      <th>1</th>\n",
       "      <td>Ayushman Bharat Yojana</td>\n",
       "      <td>Worried Raju clutches a large medical bill out...</td>\n",
       "      <td>Raju, relieved, displays his Ayushman Bharat c...</td>\n",
       "      <td>Deep within the hospital, calm washes over Raj...</td>\n",
       "    </tr>\n",
       "    <tr>\n",
       "      <th>2</th>\n",
       "      <td>PM Fasal Bima Yojana</td>\n",
       "      <td>Smiling farmer Raju, in traditional attire, st...</td>\n",
       "      <td>Raju, a smiling farmer, confidently stands in ...</td>\n",
       "      <td>Weathered hands confidently use a smartphone t...</td>\n",
       "    </tr>\n",
       "    <tr>\n",
       "      <th>3</th>\n",
       "      <td>PM Awaas Yojana</td>\n",
       "      <td>Hopeful Raju, clutching a PM Awaas Yojana pamp...</td>\n",
       "      <td>Hopeful Raju, clutching a PM Awaas Yojana pamp...</td>\n",
       "      <td>Raju, hopeful, hands his PM Awaas Yojana appli...</td>\n",
       "    </tr>\n",
       "    <tr>\n",
       "      <th>4</th>\n",
       "      <td>Sukanya Samriddhi Account Scheme</td>\n",
       "      <td>Proud father Raju smiles, holding a pink Sukan...</td>\n",
       "      <td>Raju secures his daughter's Sukanya Samriddhi ...</td>\n",
       "      <td>A graduating teen, beaming, holds her Sukanya ...</td>\n",
       "    </tr>\n",
       "  </tbody>\n",
       "</table>\n",
       "</div>"
      ],
      "text/plain": [
       "                             Scheme  \\\n",
       "0                            MNREGA   \n",
       "1            Ayushman Bharat Yojana   \n",
       "2              PM Fasal Bima Yojana   \n",
       "3                   PM Awaas Yojana   \n",
       "4  Sukanya Samriddhi Account Scheme   \n",
       "\n",
       "                     RephrasedImprovisedImagePrompt1  \\\n",
       "0  Sun-drenched field, weathered Raju (wlop style...   \n",
       "1  Worried Raju clutches a large medical bill out...   \n",
       "2  Smiling farmer Raju, in traditional attire, st...   \n",
       "3  Hopeful Raju, clutching a PM Awaas Yojana pamp...   \n",
       "4  Proud father Raju smiles, holding a pink Sukan...   \n",
       "\n",
       "                     RephrasedImprovisedImagePrompt2  \\\n",
       "0  Sun sets, casting long shadows.  Raju and MNRE...   \n",
       "1  Raju, relieved, displays his Ayushman Bharat c...   \n",
       "2  Raju, a smiling farmer, confidently stands in ...   \n",
       "3  Hopeful Raju, clutching a PM Awaas Yojana pamp...   \n",
       "4  Raju secures his daughter's Sukanya Samriddhi ...   \n",
       "\n",
       "                     RephrasedImprovisedImagePrompt3  \n",
       "0  Sunrise reveals Raju and his MNREGA team diggi...  \n",
       "1  Deep within the hospital, calm washes over Raj...  \n",
       "2  Weathered hands confidently use a smartphone t...  \n",
       "3  Raju, hopeful, hands his PM Awaas Yojana appli...  \n",
       "4  A graduating teen, beaming, holds her Sukanya ...  "
      ]
     },
     "execution_count": 31,
     "metadata": {},
     "output_type": "execute_result"
    }
   ],
   "source": [
    "df"
   ]
  },
  {
   "cell_type": "code",
   "execution_count": 32,
   "metadata": {},
   "outputs": [
    {
     "data": {
      "text/plain": [
       "[{'Scheme_Name': 'MNREGA',\n",
       "  'Prompt1': 'Sun-drenched field, weathered Raju (wlop style) holds a shovel, confident amidst fellow MNREGA workers (artgerm faces, dynamic pose).  Shared optimism radiates; setting sun symbolizes hope.  Perform a hyperrealistic rendering.\\n',\n",
       "  'Prompt2': 'Sun sets, casting long shadows.  Raju and MNREGA workers share a communal meal, a symbol of hope.  Jordan Grimmer style, volumetric lighting, vivid colors, hyperrealistic, God rays, view from below.\\n',\n",
       "  'Prompt3': \"Sunrise reveals Raju and his MNREGA team digging a new irrigation canal.  Shovels rhythmically strike earth, their collective effort symbolized by the canal's progress.  Greg Rutkowski and Thomas Kinkade style,  Jordan Grimmer lighting, vivid, hyperrealistic, god rays, low angle.\\n\"},\n",
       " {'Scheme_Name': 'Ayushman Bharat Yojana',\n",
       "  'Prompt1': 'Worried Raju clutches a large medical bill outside a busy hospital, surrounded by medical equipment.  The Ayushman Bharat logo glows brightly in the background, promising relief.  Style: WLOP, Artgerm.\\n',\n",
       "  'Prompt2': 'Raju, relieved, displays his Ayushman Bharat card.  A looming medical bill transforms into hope.  WLOP, Artgerm style;  Pixar/Disney movie poster, volumetric lighting, Greg Rutkowski influence.\\n',\n",
       "  'Prompt3': 'Deep within the hospital, calm washes over Raju as a smiling doctor greets him.  His Ayushman Bharat card brings hope, replacing looming medical bills.  Greg Rutkowski style, Artgerm, WLOP influences; Pixar/Disney poster, volumetric lighting.\\n'},\n",
       " {'Scheme_Name': 'PM Fasal Bima Yojana',\n",
       "  'Prompt1': \"Smiling farmer Raju, in traditional attire, stands confidently in his wheat field.  His phone shows the PM Fasal Bima Yojana logo; lush, golden wheat contrasts with a damaged area, symbolizing the scheme's impact.\\n\",\n",
       "  'Prompt2': \"Raju, a smiling farmer, confidently stands in his wheat field. His phone displays the PM Fasal Bima Yojana logo.  Golden wheat contrasts with damaged stalks, highlighting the scheme's protective power.  Relief washes over him.\\n\",\n",
       "  'Prompt3': \"Weathered hands confidently use a smartphone to file a PM Fasal Bima Yojana claim.  Digital painting, sharp focus, illustrating Raju's empowerment.  Art style: Artgerm, Greg Rutkowski, Alphonse Mucha.  Show a wheat field, damaged and undamaged stalks, and the scheme's logo.\\n\"},\n",
       " {'Scheme_Name': 'PM Awaas Yojana',\n",
       "  'Prompt1': 'Hopeful Raju, clutching a PM Awaas Yojana pamphlet, stands outside his dilapidated slum shack.  Sunlight warms him; a \"PM Awaas Yojana - Affordable Housing for All\" banner looms.  He embodies the scheme\\'s promise for EWS/LIG.\\n',\n",
       "  'Prompt2': 'Hopeful Raju, clutching a PM Awaas Yojana pamphlet, dreams of a new home.  His dilapidated shack contrasts with a nearby \"PM Awaas Yojana\" banner.  Digital painting, ArtStation style, sharp focus, art by Artgerm, Greg Rutkowski, Alphonse Mucha.\\n',\n",
       "  'Prompt3': \"Raju, hopeful, hands his PM Awaas Yojana application to an official.  The official smiles reassuringly.  A dilapidated shack, a PM Awaas Yojana banner, and Raju's hopeful face. Digital painting, ArtStation style, Artgerm, Greg Rutkowski, Alphonse Mucha.\\n\"},\n",
       " {'Scheme_Name': 'Sukanya Samriddhi Account Scheme',\n",
       "  'Prompt1': 'Proud father Raju smiles, holding a pink Sukanya Samriddhi passbook.  His excited daughter stands beside him, near coins and a graduation cap.  A Greg Rutkowski and Thomas Kinkade-esque painting, trending on ArtStation, depicting the secure future this scheme provides.\\n',\n",
       "  'Prompt2': \"Raju secures his daughter's Sukanya Samriddhi passbook, symbolizing her bright future.  A miniature school bag and her photo nestle alongside it.  His proud smile reflects her secured education and prosperous future.  Paint style: Greg Rutkowski and Thomas Kinkade, ArtStation trending.\\n\",\n",
       "  'Prompt3': 'A graduating teen, beaming, holds her Sukanya Samriddhi passbook alongside her proud father.  Her school bag sits nearby, symbolizing her secured future.  In the style of Shinkai, Artgerm, WLOP, Rossdraws, James Jean, Rutkowski, and Kinkade.\\n'}]"
      ]
     },
     "execution_count": 32,
     "metadata": {},
     "output_type": "execute_result"
    }
   ],
   "source": [
    "results = []\n",
    "for i, row in df.iterrows():\n",
    "    temp_dict = {}\n",
    "    temp_dict['Scheme_Name'] = row['Scheme']\n",
    "    temp_dict['Prompt1'] = row['RephrasedImprovisedImagePrompt1']\n",
    "    temp_dict['Prompt2'] = row['RephrasedImprovisedImagePrompt2']\n",
    "    temp_dict['Prompt3'] = row['RephrasedImprovisedImagePrompt3']\n",
    "    results.append(temp_dict)\n",
    "\n",
    "results"
   ]
  },
  {
   "cell_type": "code",
   "execution_count": 33,
   "metadata": {},
   "outputs": [],
   "source": [
    "results_str = str(results)\n",
    "\n",
    "# Open the file in write mode and save the string\n",
    "with open('level2results.txt', 'w') as file:\n",
    "    file.write(results_str)"
   ]
  },
  {
   "cell_type": "markdown",
   "metadata": {},
   "source": [
    "### Task 6: Image Generation and Evaluation"
   ]
  },
  {
   "cell_type": "code",
   "execution_count": null,
   "metadata": {},
   "outputs": [],
   "source": [
    "'''In the images folder'''\n",
    "'''Used webisites like midjourney.fm  and journeyai.com to generate images from the prompts'''"
   ]
  },
  {
   "cell_type": "markdown",
   "metadata": {},
   "source": [
    "### Level 1 Results list(Primary Deliverable)"
   ]
  },
  {
   "cell_type": "code",
   "execution_count": 2,
   "metadata": {},
   "outputs": [],
   "source": [
    "import pandas as pd"
   ]
  },
  {
   "cell_type": "code",
   "execution_count": 3,
   "metadata": {},
   "outputs": [
    {
     "data": {
      "text/html": [
       "<div>\n",
       "<style scoped>\n",
       "    .dataframe tbody tr th:only-of-type {\n",
       "        vertical-align: middle;\n",
       "    }\n",
       "\n",
       "    .dataframe tbody tr th {\n",
       "        vertical-align: top;\n",
       "    }\n",
       "\n",
       "    .dataframe thead th {\n",
       "        text-align: right;\n",
       "    }\n",
       "</style>\n",
       "<table border=\"1\" class=\"dataframe\">\n",
       "  <thead>\n",
       "    <tr style=\"text-align: right;\">\n",
       "      <th></th>\n",
       "      <th>Scheme</th>\n",
       "      <th>ImprovisedPrompt1</th>\n",
       "      <th>ImprovisedPrompt2</th>\n",
       "      <th>ImprovisedPrompt3</th>\n",
       "    </tr>\n",
       "  </thead>\n",
       "  <tbody>\n",
       "    <tr>\n",
       "      <th>0</th>\n",
       "      <td>MNREGA</td>\n",
       "      <td>Raju, a weathered but hopeful rural Indian man...</td>\n",
       "      <td>As the sun dips below the horizon, casting lon...</td>\n",
       "      <td>The next morning, Raju and his companions resu...</td>\n",
       "    </tr>\n",
       "    <tr>\n",
       "      <th>1</th>\n",
       "      <td>Ayushman Bharat Yojana</td>\n",
       "      <td>Raju, a young man with worry etched on his fac...</td>\n",
       "      <td>Raju's face relaxes as he pulls out his Ayushm...</td>\n",
       "      <td>Inside, the hospital is a blur of activity, bu...</td>\n",
       "    </tr>\n",
       "    <tr>\n",
       "      <th>2</th>\n",
       "      <td>PM Fasal Bima Yojana</td>\n",
       "      <td>Raju, a smiling farmer, stands in his wheat fi...</td>\n",
       "      <td>Raju's smile widens as he taps the screen, rel...</td>\n",
       "      <td>Raju's weathered hands, calloused from years o...</td>\n",
       "    </tr>\n",
       "    <tr>\n",
       "      <th>3</th>\n",
       "      <td>PM Awaas Yojana</td>\n",
       "      <td>A young man, Raju, stands outside a crumbling ...</td>\n",
       "      <td>Raju's heart pounded with a mix of nervousness...</td>\n",
       "      <td>Raju nervously handed the completed form to th...</td>\n",
       "    </tr>\n",
       "    <tr>\n",
       "      <th>4</th>\n",
       "      <td>Sukanya Samriddhi Account Scheme</td>\n",
       "      <td>A proud father, Raju, beams as he holds a brig...</td>\n",
       "      <td>Raju gently places the passbook in a special b...</td>\n",
       "      <td>Years later, a teenage girl, her face framed b...</td>\n",
       "    </tr>\n",
       "  </tbody>\n",
       "</table>\n",
       "</div>"
      ],
      "text/plain": [
       "                             Scheme  \\\n",
       "0                            MNREGA   \n",
       "1            Ayushman Bharat Yojana   \n",
       "2              PM Fasal Bima Yojana   \n",
       "3                   PM Awaas Yojana   \n",
       "4  Sukanya Samriddhi Account Scheme   \n",
       "\n",
       "                                   ImprovisedPrompt1  \\\n",
       "0  Raju, a weathered but hopeful rural Indian man...   \n",
       "1  Raju, a young man with worry etched on his fac...   \n",
       "2  Raju, a smiling farmer, stands in his wheat fi...   \n",
       "3  A young man, Raju, stands outside a crumbling ...   \n",
       "4  A proud father, Raju, beams as he holds a brig...   \n",
       "\n",
       "                                   ImprovisedPrompt2  \\\n",
       "0  As the sun dips below the horizon, casting lon...   \n",
       "1  Raju's face relaxes as he pulls out his Ayushm...   \n",
       "2  Raju's smile widens as he taps the screen, rel...   \n",
       "3  Raju's heart pounded with a mix of nervousness...   \n",
       "4  Raju gently places the passbook in a special b...   \n",
       "\n",
       "                                   ImprovisedPrompt3  \n",
       "0  The next morning, Raju and his companions resu...  \n",
       "1  Inside, the hospital is a blur of activity, bu...  \n",
       "2  Raju's weathered hands, calloused from years o...  \n",
       "3  Raju nervously handed the completed form to th...  \n",
       "4  Years later, a teenage girl, her face framed b...  "
      ]
     },
     "execution_count": 3,
     "metadata": {},
     "output_type": "execute_result"
    }
   ],
   "source": [
    "improvised_img_prompts=pd.read_csv(\"WelfareSchemesImagePromptsImprovisedAPI2.txt\", sep=';')\n",
    "improvised_img_prompts"
   ]
  },
  {
   "cell_type": "code",
   "execution_count": 6,
   "metadata": {},
   "outputs": [
    {
     "data": {
      "text/plain": [
       "[{'Scheme_Name': 'MNREGA',\n",
       "  'Prompt1': \"Raju, a weathered but hopeful rural Indian man, stands tall in a sun-drenched field, a shovel held confidently in his hand.  He's surrounded by fellow workers, their faces reflecting shared optimism, all united under the vibrant banner of MNREGA.  The scene depicts the promise of work, a tangible path out of hardship, with the setting sun symbolizing a brighter future. \\r\\n\",\n",
       "  'Prompt2': 'As the sun dips below the horizon, casting long shadows across the field, Raju and his fellow workers gather for a communal meal.  Their laughter and conversation echo through the air, a testament to the camaraderie forged in the face of shared struggle. The evening meal, provided by MNREGA,  is a symbol of  hope, a tangible reminder that their hard work is not in vain. \\r\\n',\n",
       "  'Prompt3': 'The next morning, Raju and his companions resume their work, the rhythmic clang of shovels against earth a familiar soundtrack.  A sense of purpose fills the air, each swing of the shovel contributing to the building of a new irrigation canal, a symbol of their collective effort and a testament to the power of MNREGA. \\r\\n'},\n",
       " {'Scheme_Name': 'Ayushman Bharat Yojana',\n",
       "  'Prompt1': 'Raju, a young man with worry etched on his face, clutches a hefty medical bill in front of a bustling hospital. Scattered around him, medical equipment symbolizes the financial burden of healthcare. In the background, the vibrant Ayushman Bharat logo shines brightly, offering a beacon of hope and affordable access to healthcare. \\r\\n',\n",
       "  'Prompt2': \"Raju's face relaxes as he pulls out his Ayushman Bharat card. The medical bill, once a symbol of fear, now represents a chance at healing.  He walks through the hospital doors, no longer burdened by financial worry, his steps lighter, his gaze focused on recovery. \\r\\n\",\n",
       "  'Prompt3': \"Inside, the hospital is a blur of activity, but Raju feels a sense of calm.  He's met by a smiling doctor, who greets him warmly. The air is thick with the scent of disinfectant, but Raju feels the weight of anxiety lifting. The path to recovery begins. \\r\\n\"},\n",
       " {'Scheme_Name': 'PM Fasal Bima Yojana',\n",
       "  'Prompt1': \"Raju, a smiling farmer, stands in his wheat field, holding a smartphone displaying the PM Fasal Bima Yojana logo.  Behind him, lush golden wheat contrasts with a wilted section, representing crop loss. He wears a traditional farmer's outfit, radiating hope and confidence. \\r\\n\",\n",
       "  'Prompt2': \"Raju's smile widens as he taps the screen, relief washing over him.  He knows that even with the damaged wheat, his family will be safe.  The PM Fasal Bima Yojana, a beacon of support, has secured his future, allowing him to face the uncertainties of farming with newfound strength. \\r\\n\",\n",
       "  'Prompt3': \"Raju's weathered hands, calloused from years of toil, now navigate the smartphone with ease.  He scrolls through the online claim form, the digital world bridging the gap between his rural life and the modern insurance scheme.  A sense of empowerment washes over him as he submits the claim, knowing that the PM Fasal Bima Yojana is his safety net, protecting him from the whims of nature and ensuring a brighter future for his family. \\r\\n\"},\n",
       " {'Scheme_Name': 'PM Awaas Yojana',\n",
       "  'Prompt1': 'A young man, Raju, stands outside a crumbling shack in a slum, his face hopeful as he clutches a pamphlet about the PM Awaas Yojana. Sunlight bathes him in warmth, while a banner proclaiming \"PM Awaas Yojana - Affordable Housing for All\" looms in the background. The scene captures the hope the scheme offers to those struggling with inadequate housing, like Raju, representing the EWS/LIG category. \\r\\n',\n",
       "  'Prompt2': \"Raju's heart pounded with a mix of nervousness and excitement. He carefully filled out the application form, his worn fingers tracing the details of his family's meager income. He dreamt of a roof that wouldn't leak, a home where his children could play safely. The pamphlet felt like a lifeline, promising a future where his family wouldn't be forced to live in the shadow of poverty. \\r\\n\",\n",
       "  'Prompt3': 'Raju nervously handed the completed form to the official, a knot of anticipation tightening in his stomach.  The official\\'s reassuring smile and words, \"We\\'ll get back to you soon,\" ignited a flicker of hope in Raju\\'s eyes. He walked back towards his shack, the sun setting over the sprawling slums, a new dawn of possibility dawning in his heart. \\r\\n'},\n",
       " {'Scheme_Name': 'Sukanya Samriddhi Account Scheme',\n",
       "  'Prompt1': \"A proud father, Raju, beams as he holds a bright pink Sukanya Samriddhi passbook, his daughter beside him, her face alight with excitement. A stack of coins and a graduation cap lie nearby, representing the account's promise of a bright future. The scene captures the joy of securing a daughter's education through this government scheme. \\r\\n\",\n",
       "  'Prompt2': \"Raju gently places the passbook in a special box, nestled between a miniature school bag and a framed photograph of his daughter.  He smiles, knowing the secure future he's built for her, a future filled with the promise of knowledge and boundless possibilities. \\r\\n\",\n",
       "  'Prompt3': 'Years later, a teenage girl, her face framed by a graduation cap, smiles triumphantly.  Holding the Sukanya Samriddhi passbook, she stands beside her father, a shared pride radiating between them.  The school bag lies beside them, now filled with textbooks, a testament to the dreams realized through the scheme. \\r\\n'}]"
      ]
     },
     "execution_count": 6,
     "metadata": {},
     "output_type": "execute_result"
    }
   ],
   "source": [
    "results = []\n",
    "for i, row in improvised_img_prompts.iterrows():\n",
    "    temp_dict = {}\n",
    "    temp_dict['Scheme_Name'] = row['Scheme']\n",
    "    temp_dict['Prompt1'] = row['ImprovisedPrompt1']\n",
    "    temp_dict['Prompt2'] = row['ImprovisedPrompt2']\n",
    "    temp_dict['Prompt3'] = row['ImprovisedPrompt3']\n",
    "    results.append(temp_dict)\n",
    "\n",
    "results"
   ]
  },
  {
   "cell_type": "code",
   "execution_count": 9,
   "metadata": {},
   "outputs": [],
   "source": [
    "results_str = str(results)\n",
    "\n",
    "# Open the file in write mode and save the string\n",
    "with open('results.txt', 'w') as file:\n",
    "    file.write(results_str)\n"
   ]
  },
  {
   "cell_type": "markdown",
   "metadata": {},
   "source": [
    "### Task3: Subtask-Fine Tuning T5 Summarizer "
   ]
  },
  {
   "cell_type": "markdown",
   "metadata": {},
   "source": [
    "### FineTuning on BillSum Dataset"
   ]
  },
  {
   "cell_type": "code",
   "execution_count": 1,
   "metadata": {},
   "outputs": [],
   "source": [
    "from datasets import load_dataset\n",
    "\n",
    "billsum = load_dataset(\"billsum\", split=\"ca_test\")"
   ]
  },
  {
   "cell_type": "code",
   "execution_count": 2,
   "metadata": {},
   "outputs": [],
   "source": [
    "billsum = billsum.train_test_split(test_size=0.2)"
   ]
  },
  {
   "cell_type": "code",
   "execution_count": 25,
   "metadata": {},
   "outputs": [
    {
     "data": {
      "text/plain": [
       "DatasetDict({\n",
       "    train: Dataset({\n",
       "        features: ['text', 'summary', 'title'],\n",
       "        num_rows: 989\n",
       "    })\n",
       "    test: Dataset({\n",
       "        features: ['text', 'summary', 'title'],\n",
       "        num_rows: 248\n",
       "    })\n",
       "})"
      ]
     },
     "execution_count": 25,
     "metadata": {},
     "output_type": "execute_result"
    }
   ],
   "source": [
    "billsum"
   ]
  },
  {
   "cell_type": "code",
   "execution_count": 3,
   "metadata": {},
   "outputs": [
    {
     "data": {
      "text/plain": [
       "{'text': 'The people of the State of California do enact as follows:\\n\\n\\nSECTION 1.\\nSection 361.8 is added to the Welfare and Institutions Code, to read:\\n361.8.\\n(a) The Legislature declares that a child of a minor parent or nonminor dependent parent shall not be considered to be at risk of abuse or neglect solely on the basis of information concerning the parent’s or parents’ placement history, past behaviors, or health or mental health diagnoses occurring prior to the pregnancy, although that information may be taken into account when considering whether other factors exist that place the child at risk of abuse or neglect.\\n(b) In the case of a child for whom one or both minor parents have been adjudged to be dependent children of the juvenile court pursuant to Section 300, all of the following shall apply:\\n(1) Paragraphs (10) and (11) of subdivision (b) of Section 361.5 shall not apply, unless one or more of the circumstances described in paragraphs (1) to (9), inclusive, and paragraphs (12) to (16), inclusive, of subdivision (b) of Section 361.5 apply.\\n(2) A party seeking an involuntary foster care placement of, or termination of parental rights over, a child born to a parent or parents who were minors at the time of the child’s birth shall demonstrate to the court that reasonable efforts were made to provide remedial services designed to prevent the removal of the child from the minor parent or parents, and that these efforts have proved unsuccessful.\\n(3) The efforts made pursuant to paragraph (2) shall utilize the available resources of the child and his or her minor parent’s or parents’ extended family, social services agencies, caregivers, and other available service providers.\\n(c) For purposes of this section, “child” and “minor parent” shall have the same definitions as set forth in Section 16002.5.\\nSEC. 2.\\nSection 825.5 is added to the Welfare and Institutions Code, to read:\\n825.5.\\n(a) The clerk of the superior court shall maintain court files and records concerning a minor dependent parent or a nonminor dependent parent of a child who is the subject of a dependency petition separate from court files and records concerning the child.\\n(b) (1) Dependency court records concerning a minor dependent parent or a nonminor dependent parent may be disclosed to the county and the court in the child’s dependency proceedings; however, information from the records shall only be admitted as evidence in the child’s dependency proceedings pursuant to a court order finding that the information is materially relevant to the case, subject to the provisions of subdivision (a) of Section 361.8.\\n(2) Any party to the child’s dependency proceedings may request the admittance of the records described in paragraph (1) as evidence at any stage of the child’s dependency proceedings.\\nSEC. 3.\\nSection 16002.5 of the Welfare and Institutions Code is amended to read:\\n16002.5.\\nIt is the intent of the Legislature to maintain the continuity of the family unit and to support and preserve families headed by minor parents and nonminor dependent parents who are themselves under the jurisdiction of the juvenile court by ensuring that minor parents and nonminor dependent parents and their children are placed together in as family-like a setting as possible, unless it has been determined that placement together poses a risk to the child. It is also the intent of the Legislature to ensure that complete and accurate data on parenting minor and nonminor dependents is collected, and that the State Department of Social Services shall ensure that the following information is publicly available on a quarterly basis by county about parenting minor and nonminor dependents: total number of parenting minor and nonminor dependents in each county, their age, their ethnic group, their placement type, their time in care, the number of children they have, and whether their children are court dependents.\\n(a) To the greatest extent possible, minor parents and nonminor dependent parents and their children shall be provided with access to existing services for which they may be eligible, that are specifically targeted at supporting, maintaining, and developing both the parent-child bond and the dependent parent’s ability to provide a permanent and safe home for the child. Examples of these services may include, but are not limited to, child care, parenting classes, child development classes, and frequent visitation.\\n(b) Child welfare agencies may provide minor parents and nonminor dependent parents with access to social workers or resource specialists who have received training on the needs of teenage parents and available resources, including, but not limited to, maternal and child health programs, child care, and child development classes. Child welfare agencies are encouraged to update the case plans for pregnant and parenting dependents within 60 calendar days of the date the agency is informed of a pregnancy. When updating the case plan, child welfare agencies may hold a specialized conference to assist pregnant or parenting foster youth and nonminor dependents with planning for healthy parenting and identifying appropriate resources and services, and to inform the case plan. The specialized conference shall include the pregnant or parenting minor or nonminor dependent, family members, and other supportive adults, and the specially trained social worker or resource specialist. The specialized conference may include other individuals, including, but not limited to, a public health nurse, a community health worker, or other personnel with a comprehensive knowledge of available maternal and child resources, including public benefit programs. Participation in the specialized conference shall be voluntary on the part of the foster youth or nonminor dependent and assistance in identifying and accessing resources shall not be dependent on participation in the conference.\\n(c) The minor parents and nonminor dependent parents shall be given the ability to attend school, complete homework, and participate in age and developmentally appropriate activities unrelated to and separate from parenting.\\n(d) Child welfare agencies, local educational agencies, and child care resource and referral agencies may make reasonable and coordinated efforts to ensure that minor parents and nonminor dependent parents who have not completed high school have access to school programs that provide onsite or coordinated child care.\\n(e) Foster care placements for minor parents and nonminor dependent parents and their children shall demonstrate a willingness and ability to provide support and assistance to minor parents and nonminor dependent parents and their children, shall support the preservation of the family unit, and shall refer a minor parent or nonminor dependent parent to preventive services to address any concerns regarding the safety, health, or well-being of the child, and to help prevent, whenever possible, the filing of a petition to declare the child a dependent of the juvenile court pursuant to Section 300.\\n(f) Contact between the child, the custodial parent, and the noncustodial parent shall be facilitated if that contact is found to be in the best interest of the child.\\n(g) For the purpose of this section, “child” refers to the child born to the minor parent.\\n(h) For the purpose of this section, “minor parent” refers to a dependent child who is also a parent.\\n(i) For the purpose of this section, “nonminor dependent parent” refers to a nonminor dependent, as described in subdivision (v) of Section 11400, who also is a parent.\\nSEC. 4.\\nIf the Commission on State Mandates determines that this act contains costs mandated by the state, reimbursement to local agencies and school districts for those costs shall be made pursuant to Part 7 (commencing with Section 17500) of Division 4 of Title 2 of the Government Code.',\n",
       " 'summary': 'Existing law establishes the jurisdiction of the juvenile court, which may adjudge a child to be a dependent of the court under certain circumstances, including when the child has been left without any provision for support or when a parent or guardian fails to provide the child with adequate food, clothing, shelter, or medical treatment. Existing law provides that the Legislature declares that a child whose parent has been adjudged a dependent child of the court shall not be considered at risk of abuse or neglect solely because of the age, dependent status, or foster care status of the parent.\\nThis bill would additionally declare that a child whose parent has been adjudged a dependent child of the court shall not be considered at risk of abuse or neglect solely on the basis of information concerning the parent’s placement history, past behaviors, health or mental health diagnoses occurring prior to the pregnancy, except as specified.\\nExisting law provides that reunification services need not be provided to the family of a dependent child under certain circumstances.\\nThis bill would enact certain exceptions to that provision that would apply in the case of a child for whom one or both minor parents have been adjudged to be dependent children of the juvenile court, thereby providing the family access to reunification services. The bill would also require, in those cases, a party seeking an involuntary foster care placement of, or termination of parental rights over, a child born to a parent or parents who were minors at the time of the child’s birth to demonstrate to the court that reasonable efforts were made to provide remedial services designed to prevent the removal of the child from the minor parent or parents, that these efforts have proved unsuccessful, and that those efforts utilize the available resources of the child and his or her minor parent or parents extended family, social services agencies, caregivers, and other available service providers. By imposing a higher level of service on county employees, the bill would impose a state-mandated local program.\\nExisting law requires the clerk of the superior court to open a separate court file for nonminor dependents under the dependency, delinquency, or transition jurisdiction of the court and limits access to those files.\\nThis bill would require the clerk of the superior court to maintain court files and records concerning a minor dependent parent or a nonminor dependent parent separate from court files and records concerning his or her child, as specified. The bill would authorize dependency court records concerning a minor dependent parent or a nonminor dependent parent to be disclosed to the county and the court in the child’s dependency proceedings, but would require information from the records to only be admitted as evidence in the child’s dependency proceedings pursuant to a certain court order. The bill would authorize any party to the child’s dependency proceedings to request the admittance of the records concerning a minor dependent parent or a nonminor dependent parent as evidence at any stage of the child’s dependency proceedings.\\nExisting law declares the intent of the Legislature to maintain the continuity of the family unit and to support and preserve families headed by minor dependent parents and nonminor dependent parents. Existing law requires foster care placements for minor parents and their children to demonstrate a willingness and ability to provide support and assistance to minor parents and their children.\\nThis bill would additionally require those foster care placements to support the preservation of the family unit and to refer a minor dependent parent or nonminor dependent parent to preventive services to address any concerns regarding the safety, health, or well-being of the child, and to help prevent, whenever possible, the filing of a petition to declare the child a dependent of the juvenile court.\\nThe California Constitution requires the state to reimburse local agencies and school districts for certain costs mandated by the state. Statutory provisions establish procedures for making that reimbursement.\\nThis bill would provide that, if the Commission on State Mandates determines that the bill contains costs mandated by the state, reimbursement for those costs shall be made pursuant to these statutory provisions.',\n",
       " 'title': 'An act to amend Section 16002.5 of, and to add Sections 361.8 and 825.5 to, the Welfare and Institutions Code, relating to foster care.'}"
      ]
     },
     "execution_count": 3,
     "metadata": {},
     "output_type": "execute_result"
    }
   ],
   "source": [
    "billsum[\"train\"][0]"
   ]
  },
  {
   "cell_type": "code",
   "execution_count": 4,
   "metadata": {},
   "outputs": [
    {
     "name": "stderr",
     "output_type": "stream",
     "text": [
      "c:\\ProgramData\\anaconda3\\Lib\\site-packages\\huggingface_hub\\file_download.py:1150: FutureWarning: `resume_download` is deprecated and will be removed in version 1.0.0. Downloads always resume when possible. If you want to force a new download, use `force_download=True`.\n",
      "  warnings.warn(\n"
     ]
    }
   ],
   "source": [
    "from transformers import AutoTokenizer\n",
    "\n",
    "checkpoint = \"google-t5/t5-small\"\n",
    "tokenizer = AutoTokenizer.from_pretrained(checkpoint)"
   ]
  },
  {
   "cell_type": "code",
   "execution_count": 5,
   "metadata": {},
   "outputs": [],
   "source": [
    "prefix = \"summarize: \"\n",
    "\n",
    "\n",
    "def preprocess_function(examples):\n",
    "    inputs = [prefix + doc for doc in examples[\"text\"]]\n",
    "    model_inputs = tokenizer(inputs, max_length=1024, truncation=True)\n",
    "\n",
    "    labels = tokenizer(text_target=examples[\"summary\"], max_length=128, truncation=True)\n",
    "\n",
    "    model_inputs[\"labels\"] = labels[\"input_ids\"]\n",
    "    return model_inputs"
   ]
  },
  {
   "cell_type": "code",
   "execution_count": null,
   "metadata": {},
   "outputs": [],
   "source": [
    "tokenized_billsum = billsum.map(preprocess_function, batched=True)"
   ]
  },
  {
   "cell_type": "code",
   "execution_count": 7,
   "metadata": {},
   "outputs": [],
   "source": [
    "from transformers import DataCollatorForSeq2Seq\n",
    "\n",
    "data_collator = DataCollatorForSeq2Seq(tokenizer=tokenizer, model=checkpoint)"
   ]
  },
  {
   "cell_type": "code",
   "execution_count": 8,
   "metadata": {},
   "outputs": [],
   "source": [
    "import evaluate\n",
    "\n",
    "rouge = evaluate.load(\"rouge\")"
   ]
  },
  {
   "cell_type": "code",
   "execution_count": 9,
   "metadata": {},
   "outputs": [],
   "source": [
    "import numpy as np\n",
    "\n",
    "\n",
    "def compute_metrics(eval_pred):\n",
    "    predictions, labels = eval_pred\n",
    "    decoded_preds = tokenizer.batch_decode(predictions, skip_special_tokens=True)\n",
    "    labels = np.where(labels != -100, labels, tokenizer.pad_token_id)\n",
    "    decoded_labels = tokenizer.batch_decode(labels, skip_special_tokens=True)\n",
    "\n",
    "    result = rouge.compute(predictions=decoded_preds, references=decoded_labels, use_stemmer=True)\n",
    "\n",
    "    prediction_lens = [np.count_nonzero(pred != tokenizer.pad_token_id) for pred in predictions]\n",
    "    result[\"gen_len\"] = np.mean(prediction_lens)\n",
    "\n",
    "    return {k: round(v, 4) for k, v in result.items()}"
   ]
  },
  {
   "cell_type": "code",
   "execution_count": 10,
   "metadata": {},
   "outputs": [
    {
     "name": "stderr",
     "output_type": "stream",
     "text": [
      "c:\\ProgramData\\anaconda3\\Lib\\site-packages\\huggingface_hub\\file_download.py:1150: FutureWarning: `resume_download` is deprecated and will be removed in version 1.0.0. Downloads always resume when possible. If you want to force a new download, use `force_download=True`.\n",
      "  warnings.warn(\n"
     ]
    }
   ],
   "source": [
    "from transformers import AutoModelForSeq2SeqLM, Seq2SeqTrainingArguments, Seq2SeqTrainer\n",
    "\n",
    "model = AutoModelForSeq2SeqLM.from_pretrained(checkpoint)"
   ]
  },
  {
   "cell_type": "code",
   "execution_count": 13,
   "metadata": {},
   "outputs": [],
   "source": [
    "training_args = Seq2SeqTrainingArguments(\n",
    "    output_dir=\"billsum_finetune\",\n",
    "    evaluation_strategy=\"epoch\",\n",
    "    learning_rate=2e-5,\n",
    "    per_device_train_batch_size=8,\n",
    "    per_device_eval_batch_size=8,\n",
    "    gradient_accumulation_steps=2,  # Accumulate gradients over 2 steps\n",
    "    weight_decay=0.01,\n",
    "    save_total_limit=3,\n",
    "    num_train_epochs=4,\n",
    "    predict_with_generate=True,\n",
    "    fp16=True\n",
    ")\n",
    "\n",
    "trainer = Seq2SeqTrainer(\n",
    "    model=model,\n",
    "    args=training_args,\n",
    "    train_dataset=tokenized_billsum[\"train\"],\n",
    "    eval_dataset=tokenized_billsum[\"test\"],\n",
    "    tokenizer=tokenizer,\n",
    "    data_collator=data_collator,\n",
    "    compute_metrics=compute_metrics,\n",
    ")"
   ]
  },
  {
   "cell_type": "code",
   "execution_count": 14,
   "metadata": {},
   "outputs": [
    {
     "name": "stderr",
     "output_type": "stream",
     "text": [
      "c:\\ProgramData\\anaconda3\\Lib\\site-packages\\transformers\\optimization.py:411: FutureWarning: This implementation of AdamW is deprecated and will be removed in a future version. Use the PyTorch implementation torch.optim.AdamW instead, or set `no_deprecation_warning=True` to disable this warning\n",
      "  warnings.warn(\n",
      "c:\\ProgramData\\anaconda3\\Lib\\site-packages\\accelerate\\accelerator.py:1301: FutureWarning: `torch.cuda.amp.autocast(args...)` is deprecated. Please use `torch.amp.autocast('cuda', args...)` instead.\n",
      "  new_forward = torch.cuda.amp.autocast(dtype=torch.float16)(model_forward_func)\n"
     ]
    },
    {
     "data": {
      "application/vnd.jupyter.widget-view+json": {
       "model_id": "5099779e45eb4506b692c932cb869971",
       "version_major": 2,
       "version_minor": 0
      },
      "text/plain": [
       "  0%|          | 0/248 [00:00<?, ?it/s]"
      ]
     },
     "metadata": {},
     "output_type": "display_data"
    },
    {
     "name": "stderr",
     "output_type": "stream",
     "text": [
      "You're using a T5TokenizerFast tokenizer. Please note that with a fast tokenizer, using the `__call__` method is faster than using a method to encode the text followed by a call to the `pad` method to get a padded encoding.\n"
     ]
    },
    {
     "data": {
      "application/vnd.jupyter.widget-view+json": {
       "model_id": "6df46251fe564778a22fddd04465e87b",
       "version_major": 2,
       "version_minor": 0
      },
      "text/plain": [
       "  0%|          | 0/31 [00:00<?, ?it/s]"
      ]
     },
     "metadata": {},
     "output_type": "display_data"
    },
    {
     "name": "stdout",
     "output_type": "stream",
     "text": [
      "{'eval_loss': 2.8542115688323975, 'eval_rouge1': 0.1285, 'eval_rouge2': 0.0353, 'eval_rougeL': 0.1072, 'eval_rougeLsum': 0.1073, 'eval_gen_len': 19.0, 'eval_runtime': 27.4076, 'eval_samples_per_second': 9.049, 'eval_steps_per_second': 1.131, 'epoch': 1.0}\n"
     ]
    },
    {
     "data": {
      "application/vnd.jupyter.widget-view+json": {
       "model_id": "ad77594773894958bb93f40f31c93082",
       "version_major": 2,
       "version_minor": 0
      },
      "text/plain": [
       "  0%|          | 0/31 [00:00<?, ?it/s]"
      ]
     },
     "metadata": {},
     "output_type": "display_data"
    },
    {
     "name": "stdout",
     "output_type": "stream",
     "text": [
      "{'eval_loss': 2.6404521465301514, 'eval_rouge1': 0.1319, 'eval_rouge2': 0.0417, 'eval_rougeL': 0.11, 'eval_rougeLsum': 0.1102, 'eval_gen_len': 19.0, 'eval_runtime': 44.455, 'eval_samples_per_second': 5.579, 'eval_steps_per_second': 0.697, 'epoch': 2.0}\n"
     ]
    },
    {
     "data": {
      "application/vnd.jupyter.widget-view+json": {
       "model_id": "efbd87ac185343e9a3829307ba0e7c29",
       "version_major": 2,
       "version_minor": 0
      },
      "text/plain": [
       "  0%|          | 0/31 [00:00<?, ?it/s]"
      ]
     },
     "metadata": {},
     "output_type": "display_data"
    },
    {
     "name": "stdout",
     "output_type": "stream",
     "text": [
      "{'eval_loss': 2.576711893081665, 'eval_rouge1': 0.1373, 'eval_rouge2': 0.0438, 'eval_rougeL': 0.1116, 'eval_rougeLsum': 0.1118, 'eval_gen_len': 19.0, 'eval_runtime': 43.6867, 'eval_samples_per_second': 5.677, 'eval_steps_per_second': 0.71, 'epoch': 3.0}\n"
     ]
    },
    {
     "data": {
      "application/vnd.jupyter.widget-view+json": {
       "model_id": "74f325d8cfd64e5caec761376426bff5",
       "version_major": 2,
       "version_minor": 0
      },
      "text/plain": [
       "  0%|          | 0/31 [00:00<?, ?it/s]"
      ]
     },
     "metadata": {},
     "output_type": "display_data"
    },
    {
     "name": "stdout",
     "output_type": "stream",
     "text": [
      "{'eval_loss': 2.559274196624756, 'eval_rouge1': 0.138, 'eval_rouge2': 0.0448, 'eval_rougeL': 0.1132, 'eval_rougeLsum': 0.1134, 'eval_gen_len': 19.0, 'eval_runtime': 43.5845, 'eval_samples_per_second': 5.69, 'eval_steps_per_second': 0.711, 'epoch': 4.0}\n",
      "{'train_runtime': 792.0814, 'train_samples_per_second': 4.994, 'train_steps_per_second': 0.313, 'train_loss': 3.021051714497228, 'epoch': 4.0}\n"
     ]
    },
    {
     "data": {
      "text/plain": [
       "TrainOutput(global_step=248, training_loss=3.021051714497228, metrics={'train_runtime': 792.0814, 'train_samples_per_second': 4.994, 'train_steps_per_second': 0.313, 'train_loss': 3.021051714497228, 'epoch': 4.0})"
      ]
     },
     "execution_count": 14,
     "metadata": {},
     "output_type": "execute_result"
    }
   ],
   "source": [
    "trainer.train()"
   ]
  },
  {
   "cell_type": "code",
   "execution_count": 16,
   "metadata": {},
   "outputs": [
    {
     "data": {
      "text/plain": [
       "('billsum_finetune\\\\tokenizer_config.json',\n",
       " 'billsum_finetune\\\\special_tokens_map.json',\n",
       " 'billsum_finetune\\\\spiece.model',\n",
       " 'billsum_finetune\\\\added_tokens.json',\n",
       " 'billsum_finetune\\\\tokenizer.json')"
      ]
     },
     "execution_count": 16,
     "metadata": {},
     "output_type": "execute_result"
    }
   ],
   "source": [
    "# Save the model\n",
    "model.save_pretrained(\"billsum_finetune\")\n",
    "\n",
    "# Save the tokenizer\n",
    "tokenizer.save_pretrained(\"billsum_finetune\")\n"
   ]
  },
  {
   "cell_type": "code",
   "execution_count": 12,
   "metadata": {},
   "outputs": [],
   "source": [
    "import torch\n",
    "torch.cuda.empty_cache()"
   ]
  },
  {
   "cell_type": "code",
   "execution_count": null,
   "metadata": {},
   "outputs": [],
   "source": [
    "'''Followed finetuning from the tutorial at https://huggingface.co/docs/transformers/en/tasks/summarization '''"
   ]
  },
  {
   "cell_type": "markdown",
   "metadata": {},
   "source": [
    "### FineTuning CNN Daily Mail Dataset"
   ]
  },
  {
   "cell_type": "code",
   "execution_count": 23,
   "metadata": {},
   "outputs": [
    {
     "name": "stdout",
     "output_type": "stream",
     "text": [
      "DatasetDict({\n",
      "    train: Dataset({\n",
      "        features: ['article', 'highlights', 'id'],\n",
      "        num_rows: 287113\n",
      "    })\n",
      "    validation: Dataset({\n",
      "        features: ['article', 'highlights', 'id'],\n",
      "        num_rows: 13368\n",
      "    })\n",
      "    test: Dataset({\n",
      "        features: ['article', 'highlights', 'id'],\n",
      "        num_rows: 11490\n",
      "    })\n",
      "})\n"
     ]
    }
   ],
   "source": [
    "cnn_daily_mail = load_dataset(\"cnn_dailymail\",'3.0.0')\n",
    "print(cnn_daily_mail)"
   ]
  },
  {
   "cell_type": "code",
   "execution_count": 24,
   "metadata": {},
   "outputs": [
    {
     "data": {
      "text/plain": [
       "{'article': 'LONDON, England (Reuters) -- Harry Potter star Daniel Radcliffe gains access to a reported £20 million ($41.1 million) fortune as he turns 18 on Monday, but he insists the money won\\'t cast a spell on him. Daniel Radcliffe as Harry Potter in \"Harry Potter and the Order of the Phoenix\" To the disappointment of gossip columnists around the world, the young actor says he has no plans to fritter his cash away on fast cars, drink and celebrity parties. \"I don\\'t plan to be one of those people who, as soon as they turn 18, suddenly buy themselves a massive sports car collection or something similar,\" he told an Australian interviewer earlier this month. \"I don\\'t think I\\'ll be particularly extravagant. \"The things I like buying are things that cost about 10 pounds -- books and CDs and DVDs.\" At 18, Radcliffe will be able to gamble in a casino, buy a drink in a pub or see the horror film \"Hostel: Part II,\" currently six places below his number one movie on the UK box office chart. Details of how he\\'ll mark his landmark birthday are under wraps. His agent and publicist had no comment on his plans. \"I\\'ll definitely have some sort of party,\" he said in an interview. \"Hopefully none of you will be reading about it.\" Radcliffe\\'s earnings from the first five Potter films have been held in a trust fund which he has not been able to touch. Despite his growing fame and riches, the actor says he is keeping his feet firmly on the ground. \"People are always looking to say \\'kid star goes off the rails,\\'\" he told reporters last month. \"But I try very hard not to go that way because it would be too easy for them.\" His latest outing as the boy wizard in \"Harry Potter and the Order of the Phoenix\" is breaking records on both sides of the Atlantic and he will reprise the role in the last two films.  Watch I-Reporter give her review of Potter\\'s latest » . There is life beyond Potter, however. The Londoner has filmed a TV movie called \"My Boy Jack,\" about author Rudyard Kipling and his son, due for release later this year. He will also appear in \"December Boys,\" an Australian film about four boys who escape an orphanage. Earlier this year, he made his stage debut playing a tortured teenager in Peter Shaffer\\'s \"Equus.\" Meanwhile, he is braced for even closer media scrutiny now that he\\'s legally an adult: \"I just think I\\'m going to be more sort of fair game,\" he told Reuters. E-mail to a friend . Copyright 2007 Reuters. All rights reserved.This material may not be published, broadcast, rewritten, or redistributed.',\n",
       " 'highlights': \"Harry Potter star Daniel Radcliffe gets £20M fortune as he turns 18 Monday .\\nYoung actor says he has no plans to fritter his cash away .\\nRadcliffe's earnings from first five Potter films have been held in trust fund .\",\n",
       " 'id': '42c027e4ff9730fbb3de84c1af0d2c506e41c3e4'}"
      ]
     },
     "execution_count": 24,
     "metadata": {},
     "output_type": "execute_result"
    }
   ],
   "source": [
    "cnn_daily_mail['train'][0]\n"
   ]
  },
  {
   "cell_type": "code",
   "execution_count": 29,
   "metadata": {},
   "outputs": [],
   "source": [
    "prefix = \"summarize: \"\n",
    "\n",
    "\n",
    "def preprocess_function(examples):\n",
    "    inputs = [prefix + doc for doc in examples[\"article\"]]\n",
    "    model_inputs = tokenizer(inputs, max_length=1024, truncation=True)\n",
    "\n",
    "    labels = tokenizer(text_target=examples[\"highlights\"], max_length=128, truncation=True)\n",
    "\n",
    "    model_inputs[\"labels\"] = labels[\"input_ids\"]\n",
    "    return model_inputs"
   ]
  },
  {
   "cell_type": "code",
   "execution_count": null,
   "metadata": {},
   "outputs": [],
   "source": [
    "tokenized_daily_mail = cnn_daily_mail.map(preprocess_function, batched=True)"
   ]
  },
  {
   "cell_type": "code",
   "execution_count": 37,
   "metadata": {},
   "outputs": [
    {
     "name": "stderr",
     "output_type": "stream",
     "text": [
      "c:\\ProgramData\\anaconda3\\Lib\\site-packages\\accelerate\\accelerator.py:427: FutureWarning: `torch.cuda.amp.GradScaler(args...)` is deprecated. Please use `torch.amp.GradScaler('cuda', args...)` instead.\n",
      "  self.scaler = torch.cuda.amp.GradScaler(**kwargs)\n"
     ]
    }
   ],
   "source": [
    "training_args = Seq2SeqTrainingArguments(\n",
    "    output_dir=\"billsum_cnndaily_finetune\",\n",
    "    evaluation_strategy=\"epoch\",\n",
    "    learning_rate=2e-5,\n",
    "    per_device_train_batch_size=8,\n",
    "    per_device_eval_batch_size=8,\n",
    "    gradient_accumulation_steps=2,  # Accumulate gradients over 2 steps\n",
    "    weight_decay=0.01,\n",
    "    save_total_limit=3,\n",
    "    num_train_epochs=4,\n",
    "    predict_with_generate=True,\n",
    "    fp16=True\n",
    ")\n",
    "\n",
    "trainer = Seq2SeqTrainer(\n",
    "    model=model,\n",
    "    args=training_args,\n",
    "    train_dataset=tokenized_billsum[\"train\"],\n",
    "    eval_dataset=tokenized_billsum[\"test\"],\n",
    "    tokenizer=tokenizer,\n",
    "    data_collator=data_collator,\n",
    "    compute_metrics=compute_metrics,\n",
    ")"
   ]
  },
  {
   "cell_type": "code",
   "execution_count": 32,
   "metadata": {},
   "outputs": [
    {
     "name": "stderr",
     "output_type": "stream",
     "text": [
      "c:\\ProgramData\\anaconda3\\Lib\\site-packages\\transformers\\optimization.py:411: FutureWarning: This implementation of AdamW is deprecated and will be removed in a future version. Use the PyTorch implementation torch.optim.AdamW instead, or set `no_deprecation_warning=True` to disable this warning\n",
      "  warnings.warn(\n",
      "c:\\ProgramData\\anaconda3\\Lib\\site-packages\\accelerate\\accelerator.py:1301: FutureWarning: `torch.cuda.amp.autocast(args...)` is deprecated. Please use `torch.amp.autocast('cuda', args...)` instead.\n",
      "  new_forward = torch.cuda.amp.autocast(dtype=torch.float16)(model_forward_func)\n"
     ]
    },
    {
     "data": {
      "application/vnd.jupyter.widget-view+json": {
       "model_id": "a0c3e82578dc443a90af0e55606b5ec1",
       "version_major": 2,
       "version_minor": 0
      },
      "text/plain": [
       "  0%|          | 0/248 [00:00<?, ?it/s]"
      ]
     },
     "metadata": {},
     "output_type": "display_data"
    },
    {
     "data": {
      "application/vnd.jupyter.widget-view+json": {
       "model_id": "0660b14a752f486f910250b9ffe52596",
       "version_major": 2,
       "version_minor": 0
      },
      "text/plain": [
       "  0%|          | 0/31 [00:00<?, ?it/s]"
      ]
     },
     "metadata": {},
     "output_type": "display_data"
    },
    {
     "name": "stdout",
     "output_type": "stream",
     "text": [
      "{'eval_loss': 2.4780619144439697, 'eval_rouge1': 0.1536, 'eval_rouge2': 0.0557, 'eval_rougeL': 0.1253, 'eval_rougeLsum': 0.1253, 'eval_gen_len': 19.0, 'eval_runtime': 28.4649, 'eval_samples_per_second': 8.712, 'eval_steps_per_second': 1.089, 'epoch': 1.0}\n"
     ]
    },
    {
     "data": {
      "application/vnd.jupyter.widget-view+json": {
       "model_id": "36eaaa09ab8d4526ad131563e69c635b",
       "version_major": 2,
       "version_minor": 0
      },
      "text/plain": [
       "  0%|          | 0/31 [00:00<?, ?it/s]"
      ]
     },
     "metadata": {},
     "output_type": "display_data"
    },
    {
     "name": "stdout",
     "output_type": "stream",
     "text": [
      "{'eval_loss': 2.435906171798706, 'eval_rouge1': 0.1824, 'eval_rouge2': 0.0797, 'eval_rougeL': 0.151, 'eval_rougeLsum': 0.1509, 'eval_gen_len': 19.0, 'eval_runtime': 28.331, 'eval_samples_per_second': 8.754, 'eval_steps_per_second': 1.094, 'epoch': 2.0}\n"
     ]
    },
    {
     "data": {
      "application/vnd.jupyter.widget-view+json": {
       "model_id": "f23b085fc9184949ad263bf3abea510f",
       "version_major": 2,
       "version_minor": 0
      },
      "text/plain": [
       "  0%|          | 0/31 [00:00<?, ?it/s]"
      ]
     },
     "metadata": {},
     "output_type": "display_data"
    },
    {
     "name": "stdout",
     "output_type": "stream",
     "text": [
      "{'eval_loss': 2.4144439697265625, 'eval_rouge1': 0.1901, 'eval_rouge2': 0.0867, 'eval_rougeL': 0.1593, 'eval_rougeLsum': 0.1589, 'eval_gen_len': 19.0, 'eval_runtime': 28.8856, 'eval_samples_per_second': 8.586, 'eval_steps_per_second': 1.073, 'epoch': 3.0}\n"
     ]
    },
    {
     "data": {
      "application/vnd.jupyter.widget-view+json": {
       "model_id": "835706aeb1124a229d116ea172c7f7a3",
       "version_major": 2,
       "version_minor": 0
      },
      "text/plain": [
       "  0%|          | 0/31 [00:00<?, ?it/s]"
      ]
     },
     "metadata": {},
     "output_type": "display_data"
    },
    {
     "name": "stdout",
     "output_type": "stream",
     "text": [
      "{'eval_loss': 2.407538414001465, 'eval_rouge1': 0.1936, 'eval_rouge2': 0.09, 'eval_rougeL': 0.162, 'eval_rougeLsum': 0.1619, 'eval_gen_len': 19.0, 'eval_runtime': 28.4171, 'eval_samples_per_second': 8.727, 'eval_steps_per_second': 1.091, 'epoch': 4.0}\n",
      "{'train_runtime': 887.1705, 'train_samples_per_second': 4.459, 'train_steps_per_second': 0.28, 'train_loss': 2.604949951171875, 'epoch': 4.0}\n"
     ]
    },
    {
     "data": {
      "text/plain": [
       "TrainOutput(global_step=248, training_loss=2.604949951171875, metrics={'train_runtime': 887.1705, 'train_samples_per_second': 4.459, 'train_steps_per_second': 0.28, 'train_loss': 2.604949951171875, 'epoch': 4.0})"
      ]
     },
     "execution_count": 32,
     "metadata": {},
     "output_type": "execute_result"
    }
   ],
   "source": [
    "trainer.train()"
   ]
  },
  {
   "cell_type": "code",
   "execution_count": 33,
   "metadata": {},
   "outputs": [
    {
     "data": {
      "text/plain": [
       "('billsum_cnndaily_finetune\\\\tokenizer_config.json',\n",
       " 'billsum_cnndaily_finetune\\\\special_tokens_map.json',\n",
       " 'billsum_cnndaily_finetune\\\\spiece.model',\n",
       " 'billsum_cnndaily_finetune\\\\added_tokens.json',\n",
       " 'billsum_cnndaily_finetune\\\\tokenizer.json')"
      ]
     },
     "execution_count": 33,
     "metadata": {},
     "output_type": "execute_result"
    }
   ],
   "source": [
    "# Save the model\n",
    "model.save_pretrained(\"billsum_cnndaily_finetune\")\n",
    "\n",
    "# Save the tokenizer\n",
    "tokenizer.save_pretrained(\"billsum_cnndaily_finetune\")\n"
   ]
  },
  {
   "cell_type": "code",
   "execution_count": 38,
   "metadata": {},
   "outputs": [],
   "source": [
    "from transformers import AutoTokenizer\n",
    "\n",
    "checkpoint = \"google-t5/t5-small\"\n",
    "tokenizer = AutoTokenizer.from_pretrained(checkpoint)"
   ]
  },
  {
   "cell_type": "code",
   "execution_count": 39,
   "metadata": {},
   "outputs": [],
   "source": [
    "from transformers import DataCollatorForSeq2Seq\n",
    "\n",
    "data_collator = DataCollatorForSeq2Seq(tokenizer=tokenizer, model=checkpoint)"
   ]
  },
  {
   "cell_type": "code",
   "execution_count": 40,
   "metadata": {},
   "outputs": [],
   "source": [
    "from transformers import AutoModelForSeq2SeqLM, Seq2SeqTrainingArguments, Seq2SeqTrainer\n",
    "\n",
    "model = AutoModelForSeq2SeqLM.from_pretrained(checkpoint)"
   ]
  },
  {
   "cell_type": "code",
   "execution_count": 41,
   "metadata": {},
   "outputs": [],
   "source": [
    "training_args = Seq2SeqTrainingArguments(\n",
    "    output_dir=\"cnndailymail_finetune\",\n",
    "    evaluation_strategy=\"epoch\",\n",
    "    learning_rate=2e-5,\n",
    "    per_device_train_batch_size=8,\n",
    "    per_device_eval_batch_size=8,\n",
    "    gradient_accumulation_steps=2,  # Accumulate gradients over 2 steps\n",
    "    weight_decay=0.01,\n",
    "    save_total_limit=3,\n",
    "    num_train_epochs=4,\n",
    "    predict_with_generate=True,\n",
    "    fp16=True\n",
    ")\n",
    "\n",
    "trainer = Seq2SeqTrainer(\n",
    "    model=model,\n",
    "    args=training_args,\n",
    "    train_dataset=tokenized_billsum[\"train\"],\n",
    "    eval_dataset=tokenized_billsum[\"test\"],\n",
    "    tokenizer=tokenizer,\n",
    "    data_collator=data_collator,\n",
    "    compute_metrics=compute_metrics,\n",
    ")"
   ]
  },
  {
   "cell_type": "code",
   "execution_count": 42,
   "metadata": {},
   "outputs": [
    {
     "data": {
      "application/vnd.jupyter.widget-view+json": {
       "model_id": "72804c92fd6d4b0bbacc7a298850561c",
       "version_major": 2,
       "version_minor": 0
      },
      "text/plain": [
       "  0%|          | 0/248 [00:00<?, ?it/s]"
      ]
     },
     "metadata": {},
     "output_type": "display_data"
    },
    {
     "name": "stderr",
     "output_type": "stream",
     "text": [
      "You're using a T5TokenizerFast tokenizer. Please note that with a fast tokenizer, using the `__call__` method is faster than using a method to encode the text followed by a call to the `pad` method to get a padded encoding.\n"
     ]
    },
    {
     "data": {
      "application/vnd.jupyter.widget-view+json": {
       "model_id": "05095c83460e4a8ebcf3f071560c9050",
       "version_major": 2,
       "version_minor": 0
      },
      "text/plain": [
       "  0%|          | 0/31 [00:00<?, ?it/s]"
      ]
     },
     "metadata": {},
     "output_type": "display_data"
    },
    {
     "name": "stdout",
     "output_type": "stream",
     "text": [
      "{'eval_loss': 2.8542115688323975, 'eval_rouge1': 0.1285, 'eval_rouge2': 0.0353, 'eval_rougeL': 0.1072, 'eval_rougeLsum': 0.1073, 'eval_gen_len': 19.0, 'eval_runtime': 22.9525, 'eval_samples_per_second': 10.805, 'eval_steps_per_second': 1.351, 'epoch': 1.0}\n"
     ]
    },
    {
     "data": {
      "application/vnd.jupyter.widget-view+json": {
       "model_id": "beb9fe56405446599933043311c6a6cd",
       "version_major": 2,
       "version_minor": 0
      },
      "text/plain": [
       "  0%|          | 0/31 [00:00<?, ?it/s]"
      ]
     },
     "metadata": {},
     "output_type": "display_data"
    },
    {
     "name": "stdout",
     "output_type": "stream",
     "text": [
      "{'eval_loss': 2.6404521465301514, 'eval_rouge1': 0.1319, 'eval_rouge2': 0.0417, 'eval_rougeL': 0.11, 'eval_rougeLsum': 0.1102, 'eval_gen_len': 19.0, 'eval_runtime': 21.731, 'eval_samples_per_second': 11.412, 'eval_steps_per_second': 1.427, 'epoch': 2.0}\n"
     ]
    },
    {
     "data": {
      "application/vnd.jupyter.widget-view+json": {
       "model_id": "d1f60c8ba2584b5c893a250562bb0026",
       "version_major": 2,
       "version_minor": 0
      },
      "text/plain": [
       "  0%|          | 0/31 [00:00<?, ?it/s]"
      ]
     },
     "metadata": {},
     "output_type": "display_data"
    },
    {
     "name": "stdout",
     "output_type": "stream",
     "text": [
      "{'eval_loss': 2.576711893081665, 'eval_rouge1': 0.1373, 'eval_rouge2': 0.0438, 'eval_rougeL': 0.1116, 'eval_rougeLsum': 0.1118, 'eval_gen_len': 19.0, 'eval_runtime': 21.8877, 'eval_samples_per_second': 11.331, 'eval_steps_per_second': 1.416, 'epoch': 3.0}\n"
     ]
    },
    {
     "data": {
      "application/vnd.jupyter.widget-view+json": {
       "model_id": "d5278b762b524b9eb35f1a3c4cc2202c",
       "version_major": 2,
       "version_minor": 0
      },
      "text/plain": [
       "  0%|          | 0/31 [00:00<?, ?it/s]"
      ]
     },
     "metadata": {},
     "output_type": "display_data"
    },
    {
     "name": "stdout",
     "output_type": "stream",
     "text": [
      "{'eval_loss': 2.559274196624756, 'eval_rouge1': 0.138, 'eval_rouge2': 0.0448, 'eval_rougeL': 0.1132, 'eval_rougeLsum': 0.1134, 'eval_gen_len': 19.0, 'eval_runtime': 21.7408, 'eval_samples_per_second': 11.407, 'eval_steps_per_second': 1.426, 'epoch': 4.0}\n",
      "{'train_runtime': 1044.0044, 'train_samples_per_second': 3.789, 'train_steps_per_second': 0.238, 'train_loss': 3.021051714497228, 'epoch': 4.0}\n"
     ]
    },
    {
     "data": {
      "text/plain": [
       "TrainOutput(global_step=248, training_loss=3.021051714497228, metrics={'train_runtime': 1044.0044, 'train_samples_per_second': 3.789, 'train_steps_per_second': 0.238, 'train_loss': 3.021051714497228, 'epoch': 4.0})"
      ]
     },
     "execution_count": 42,
     "metadata": {},
     "output_type": "execute_result"
    }
   ],
   "source": [
    "trainer.train()"
   ]
  },
  {
   "cell_type": "code",
   "execution_count": 43,
   "metadata": {},
   "outputs": [
    {
     "data": {
      "text/plain": [
       "('cnndailymail_finetune\\\\tokenizer_config.json',\n",
       " 'cnndailymail_finetune\\\\special_tokens_map.json',\n",
       " 'cnndailymail_finetune\\\\spiece.model',\n",
       " 'cnndailymail_finetune\\\\added_tokens.json',\n",
       " 'cnndailymail_finetune\\\\tokenizer.json')"
      ]
     },
     "execution_count": 43,
     "metadata": {},
     "output_type": "execute_result"
    }
   ],
   "source": [
    "# Save the model\n",
    "model.save_pretrained(\"cnndailymail_finetune\")\n",
    "\n",
    "# Save the tokenizer\n",
    "tokenizer.save_pretrained(\"cnndailymail_finetune\")\n"
   ]
  },
  {
   "cell_type": "markdown",
   "metadata": {},
   "source": [
    "#### Perform a summarisation task(after finetuning) on the main welfare scheme text"
   ]
  },
  {
   "cell_type": "markdown",
   "metadata": {},
   "source": [
    "#### Using the model Finetuned on BillSum"
   ]
  },
  {
   "cell_type": "code",
   "execution_count": 83,
   "metadata": {},
   "outputs": [
    {
     "name": "stderr",
     "output_type": "stream",
     "text": [
      "c:\\ProgramData\\anaconda3\\Lib\\site-packages\\transformers\\modeling_utils.py:463: FutureWarning: You are using `torch.load` with `weights_only=False` (the current default value), which uses the default pickle module implicitly. It is possible to construct malicious pickle data which will execute arbitrary code during unpickling (See https://github.com/pytorch/pytorch/blob/main/SECURITY.md#untrusted-models for more details). In a future release, the default value for `weights_only` will be flipped to `True`. This limits the functions that could be executed during unpickling. Arbitrary objects will no longer be allowed to be loaded via this mode unless they are explicitly allowlisted by the user via `torch.serialization.add_safe_globals`. We recommend you start setting `weights_only=True` for any use case where you don't have full control of the loaded file. Please open an issue on GitHub for any issues related to this experimental feature.\n",
      "  return torch.load(checkpoint_file, map_location=\"cpu\")\n"
     ]
    }
   ],
   "source": [
    "from transformers import AutoModelForSeq2SeqLM, AutoTokenizer\n",
    "\n",
    "# Load the model\n",
    "model = AutoModelForSeq2SeqLM.from_pretrained(\"billsum_finetune\")\n",
    "\n",
    "# Load the tokenizer\n",
    "tokenizer = AutoTokenizer.from_pretrained(\"billsum_finetune\")"
   ]
  },
  {
   "cell_type": "code",
   "execution_count": 84,
   "metadata": {},
   "outputs": [],
   "source": [
    "from transformers import pipeline\n",
    "summarizer=pipeline(\"summarization\", model=model, tokenizer=tokenizer)\n",
    "summaryBillSum=[]\n",
    "for t in text:\n",
    "    summaryBillSum.append(summarizer(t, max_length=100, min_length=30, do_sample=False)[0]['summary_text'])"
   ]
  },
  {
   "cell_type": "code",
   "execution_count": 85,
   "metadata": {},
   "outputs": [
    {
     "data": {
      "text/plain": [
       "['Mahatma Gandhi NREGA recognizes the importance of strengthening the livelihood resource base of the poor by reaching the most vulnerable sections of rural areas, including Scheduled Castes, Scheduled Tribes, women-headed households, and other marginalized groups . the scheme encourages a sense of community and collective responsibility by strengthening Panchayat Raj institutions .',\n",
       " 'the Agnipath Scheme seeks to reach youth from all regions of India, utilizing online exams, specialized recruitment rallies, and campus interviews at technical institutions like ITIs and NSQF-certified centers to ensure a broad, inclusive selection process.Agniveers are empowered through rigorous training and experience, equipping them with valuable skills applicable both in military and civilian life, providing them an edge in future endeavors. A select 25% of Agnive',\n",
       " 'Ayushman Bharat adopts a continuum of care approach, comprising of two inter-related components, which are - Health and Wellness Centres (HWCs), Pradhan Mantri Jan Arogya Yojana (PM-JAY). The emphasis of health promotion and prevention is designed to bring focus on keeping people healthy by engaging and empowering individuals and communities to choose healthy behaviours and make changes that reduce the risk of developing chronic diseases',\n",
       " \"'Pradhan Mantri Ujjwala Yojana' (PMUY) is a flagship scheme with an objective to make clean cooking fuel such as LPG available to the rural and deprived households which were otherwise using traditional cooking fuels such as firewood, coal, cow-dung cakes etc. The unclean cooking fuel causes deaths which are mostly due to non-communicable diseases including heart disease, stroke, chronic obstructive pulmonary\",\n",
       " 'The Pradhan Mantri fasal bima yojana (PMFBY) is an insurance service for farmers for their yields aims to provide a comprehensive insurance cover against failure of the crop thus helping in stabilising the income of the farmers,Encouraging farmers to adopt innovative and modern agricultural practices. The scheme covers all Food & Oilseeds crops and Annual Commercial/Horticultural Crops for which past',\n",
       " 'Loans for scheduled castes, scheduled tribes and women entrepreneurs for greenfield enterprises can be applied online. launched by the Government of India in 2016 to promote entrepreneurship and facilitate bank loans to Scheduled Caste (SC) / Scheduled Tribe (ST) .',\n",
       " 'the beneficiary family should not own a pucca house (an all-weather dwelling unit) either in his or her name or in the name of any member of his/her family in any part of India. An adult earning member (irrespective of marital status) is treated as a separate household .',\n",
       " 'the scheme was launched by Prime Minister Narendra Modi on 22 January 2015 as part of the Beti Bachao, Beti Padhao campaign. The scheme currently provides an interest rate of 8.2%[3] (For Jan -Mar 2024 quarter) and tax benefits. The account can be opened at any Indian Post office or branch of authorized commercial banks. The minimum deposit is 250, and the maximum is 1.5 lakh per financial year.The account allows 50% withdrawal',\n",
       " 'PMJDY provides universal banking services for every unbanked household, based on the guiding principles of banking the unbaned, securing the unsecured, funding the unfunded and serving unserved and underserved areas. Anyone can open a basic savings bank deposit (BSBD) account at any bank branch or Business Correspondent outlet .',\n",
       " 'the Pradhan Mantri Gram Sadak Yojana (referred to as PMGSY-I hereinafter) was launched on 25th December 2000 to provide all-weather access to eligible unconnected habitations with a population of up to 500(Census 2001) in plain area and 250 and above in Special category States(States of North East, Jammu, and Kashmir, Himachal Pradesh, Uttarakhand), Desert Area as identified']"
      ]
     },
     "execution_count": 85,
     "metadata": {},
     "output_type": "execute_result"
    }
   ],
   "source": [
    "summaryBillSum"
   ]
  },
  {
   "cell_type": "markdown",
   "metadata": {},
   "source": [
    "#### Using the model Finetuned on CNNDailyMail"
   ]
  },
  {
   "cell_type": "code",
   "execution_count": 86,
   "metadata": {},
   "outputs": [],
   "source": [
    "model=AutoModelForSeq2SeqLM.from_pretrained(\"cnndailymail_finetune\")\n",
    "tokenizer=AutoTokenizer.from_pretrained(\"cnndailymail_finetune\")\n",
    "summarizer=pipeline(\"summarization\", model=model, tokenizer=tokenizer)"
   ]
  },
  {
   "cell_type": "code",
   "execution_count": 87,
   "metadata": {},
   "outputs": [],
   "source": [
    "summaryCNN=[]\n",
    "for t in text:\n",
    "    summaryCNN.append(summarizer(t, max_length=100, min_length=30, do_sample=False)[0]['summary_text'])"
   ]
  },
  {
   "cell_type": "code",
   "execution_count": 88,
   "metadata": {},
   "outputs": [
    {
     "data": {
      "text/plain": [
       "['Mahatma Gandhi NREGA recognizes the importance of strengthening the livelihood resource base of the poor by reaching the most vulnerable sections of rural areas, including Scheduled Castes, Scheduled Tribes, women-headed households, and other marginalized groups . the scheme encourages a sense of community and collective responsibility by strengthening Panchayat Raj institutions .',\n",
       " 'the Agnipath Scheme seeks to reach youth from all regions of India, utilizing online exams, specialized recruitment rallies, and campus interviews at technical institutions like ITIs and NSQF-certified centers to ensure a broad, inclusive selection process.Agniveers are empowered through rigorous training and experience, equipping them with valuable skills applicable both in military and civilian life, providing them an edge in future endeavors. A select 25% of Agnive',\n",
       " 'Ayushman Bharat adopts a continuum of care approach, comprising of two inter-related components, which are - Health and Wellness Centres (HWCs), Pradhan Mantri Jan Arogya Yojana (PM-JAY). The emphasis of health promotion and prevention is designed to bring focus on keeping people healthy by engaging and empowering individuals and communities to choose healthy behaviours and make changes that reduce the risk of developing chronic diseases',\n",
       " \"'Pradhan Mantri Ujjwala Yojana' (PMUY) is a flagship scheme with an objective to make clean cooking fuel such as LPG available to the rural and deprived households which were otherwise using traditional cooking fuels such as firewood, coal, cow-dung cakes etc. The unclean cooking fuel causes deaths which are mostly due to non-communicable diseases including heart disease, stroke, chronic obstructive pulmonary\",\n",
       " 'The Pradhan Mantri fasal bima yojana (PMFBY) is an insurance service for farmers for their yields aims to provide a comprehensive insurance cover against failure of the crop thus helping in stabilising the income of the farmers,Encouraging farmers to adopt innovative and modern agricultural practices. The scheme covers all Food & Oilseeds crops and Annual Commercial/Horticultural Crops for which past',\n",
       " 'Loans for scheduled castes, scheduled tribes and women entrepreneurs for greenfield enterprises can be applied online. launched by the Government of India in 2016 to promote entrepreneurship and facilitate bank loans to Scheduled Caste (SC) / Scheduled Tribe (ST) .',\n",
       " 'the beneficiary family should not own a pucca house (an all-weather dwelling unit) either in his or her name or in the name of any member of his/her family in any part of India. An adult earning member (irrespective of marital status) is treated as a separate household .',\n",
       " 'the scheme was launched by Prime Minister Narendra Modi on 22 January 2015 as part of the Beti Bachao, Beti Padhao campaign. The scheme currently provides an interest rate of 8.2%[3] (For Jan -Mar 2024 quarter) and tax benefits. The account can be opened at any Indian Post office or branch of authorized commercial banks. The minimum deposit is 250, and the maximum is 1.5 lakh per financial year.The account allows 50% withdrawal',\n",
       " 'PMJDY provides universal banking services for every unbanked household, based on the guiding principles of banking the unbaned, securing the unsecured, funding the unfunded and serving unserved and underserved areas. Anyone can open a basic savings bank deposit (BSBD) account at any bank branch or Business Correspondent outlet .',\n",
       " 'the Pradhan Mantri Gram Sadak Yojana (referred to as PMGSY-I hereinafter) was launched on 25th December 2000 to provide all-weather access to eligible unconnected habitations with a population of up to 500(Census 2001) in plain area and 250 and above in Special category States(States of North East, Jammu, and Kashmir, Himachal Pradesh, Uttarakhand), Desert Area as identified']"
      ]
     },
     "execution_count": 88,
     "metadata": {},
     "output_type": "execute_result"
    }
   ],
   "source": [
    "summaryCNN"
   ]
  },
  {
   "cell_type": "markdown",
   "metadata": {},
   "source": [
    "#### Using the model Finetuned on both BillSum and CNNDailyMail"
   ]
  },
  {
   "cell_type": "code",
   "execution_count": 89,
   "metadata": {},
   "outputs": [],
   "source": [
    "model=AutoModelForSeq2SeqLM.from_pretrained(\"billsum_cnndaily_finetune\")\n",
    "tokenizer=AutoTokenizer.from_pretrained(\"billsum_cnndaily_finetune\")\n",
    "summarizer=pipeline(\"summarization\", model=model, tokenizer=tokenizer)"
   ]
  },
  {
   "cell_type": "code",
   "execution_count": 90,
   "metadata": {},
   "outputs": [],
   "source": [
    "summaryBillCNN=[]\n",
    "for t in text:\n",
    "    summaryBillCNN.append(summarizer(t, max_length=100, min_length=30, do_sample=False)[0]['summary_text'])"
   ]
  },
  {
   "cell_type": "code",
   "execution_count": 91,
   "metadata": {},
   "outputs": [
    {
     "data": {
      "text/plain": [
       "['Mahatma Gandhi NREGA recognizes the importance of strengthening the livelihood resource base of the poor by reaching the most vulnerable sections of rural areas, including Scheduled Castes, Scheduled Tribes, women-headed households, and other marginalized groups. The scheme promotes a bottom-up approach to planning and execution, empowering local communities to take charge of their development.',\n",
       " 'The Agnipath Scheme seeks to reach youth from all regions of India, utilizing online exams, specialized recruitment rallies, and campus interviews at technical institutions like ITIs and NSQF-certified centers to ensure a broad, inclusive selection process. Agniveers are empowered through rigorous training and experience, equipping them with valuable skills applicable both in military and civilian life, providing them an edge in future endeavors.',\n",
       " 'Ayushman Bharat adopts a continuum of care approach, comprising of two inter-related components, which are - Health and Wellness Centres (HWCs), Pradhan Mantri Jan Arogya Yojana (PM-JAY). This scheme aims to undertake path breaking interventions to holistically address the healthcare system (covering prevention, promotion and ambulatory care) at the primary, secondary and tertiary level',\n",
       " \"'Pradhan Mantri Ujjwala Yojana' (PMUY) is a flagship scheme with an objective to make clean cooking fuel such as LPG available to the rural and deprived households which were otherwise using traditional cooking fuels such as firewood, coal, cow-dung cakes etc.\",\n",
       " 'The Pradhan Mantri fasal bima yojana (PMFBY) is an insurance service for farmers for their yields aims to provide a comprehensive insurance cover against failure of the crop thus helping in stabilising the income of the farmers,Encouraging farmers to adopt innovative and modern agricultural practices. The scheme covers all Food & Oilseeds crops and Annual Commercial/Horticultural Crops for which past',\n",
       " 'Loans for scheduled castes, scheduled tribes and women entrepreneurs for greenfield enterprises can be applied online. The scheme aims to provide loans between Rs.10 lakhs and Rs.1 crore for setting up a greenfield enterprise .',\n",
       " 'a beneficiary family under the Mission should not own a pucca house (an all-weather dwelling unit) either in his/her name or in the name of any member of the family in any part of India. An adult earning member (irrespective of marital status) is treated as a separate household .',\n",
       " 'The scheme was launched by Prime Minister Narendra Modi on 22 January 2015 as a part of the Beti Bachao, Beti Padhao campaign . The scheme currently provides an interest rate of 8.2%[3] and tax benefits. The account can be opened at any Indian Post office or branch of authorized commercial banks. The minimum deposit is 250, and the maximum is 1.5 lakh per financial year.The account allows 50% withdrawal at the age of 18 for higher',\n",
       " 'PMJDY provides universal banking services for every unbanked household, based on the guiding principles of banking the unbaned, securing the unsecured, funding the unfunded and serving unserved and underserved areas.',\n",
       " 'the Pradhan Mantri Gram Sadak Yojana (referred to as PMGSY-I hereinafter) was launched on 25th December 2000 to provide all-weather access to eligible unconnected habitations with a population of up to 500(Census 2001) in plain area and 250 and above in Special category States(States of North East, Jammu, and Kashmir, Himachal Pradesh, Uttarakhand), Desert Area as identified']"
      ]
     },
     "execution_count": 91,
     "metadata": {},
     "output_type": "execute_result"
    }
   ],
   "source": [
    "summaryBillCNN"
   ]
  },
  {
   "cell_type": "markdown",
   "metadata": {},
   "source": [
    "#### Evaluating different summaries against the ground truth"
   ]
  },
  {
   "cell_type": "code",
   "execution_count": 92,
   "metadata": {},
   "outputs": [],
   "source": [
    "import evaluate\n",
    "rouge=evaluate.load(\"rouge\")"
   ]
  },
  {
   "cell_type": "code",
   "execution_count": 93,
   "metadata": {},
   "outputs": [],
   "source": [
    "import numpy as np\n",
    "\n",
    "def compute_metrics(eval_pred):\n",
    "    predictions, labels = eval_pred\n",
    "    decoded_preds = tokenizer.batch_decode(predictions, skip_special_tokens=True)\n",
    "    labels = np.where(labels != -100, labels, tokenizer.pad_token_id)\n",
    "    decoded_labels = tokenizer.batch_decode(labels, skip_special_tokens=True)\n",
    "\n",
    "    result = rouge.compute(predictions=decoded_preds, references=decoded_labels, use_stemmer=True)\n",
    "\n",
    "    prediction_lens = [np.count_nonzero(pred != tokenizer.pad_token_id) for pred in predictions]\n",
    "    result[\"gen_len\"] = np.mean(prediction_lens)\n",
    "    return {k: np.round(v, 4) for k, v in result.items()}"
   ]
  },
  {
   "cell_type": "code",
   "execution_count": 94,
   "metadata": {},
   "outputs": [],
   "source": [
    "df=pd.read_csv(\"WelfareSchemesWriteupAPI.txt\", sep=';')"
   ]
  },
  {
   "cell_type": "code",
   "execution_count": 95,
   "metadata": {},
   "outputs": [
    {
     "data": {
      "text/plain": [
       "['Raju, a rural resident, likely faces financial hardship and needs work. He can benefit from MNREGA by volunteering for unskilled manual labor, guaranteeing him 100 days of paid employment. \\nRaju can apply for MNREGA by contacting his local Gram Panchayat or visiting the official website. If he is approved, he will be guaranteed 100 days of unskilled manual work at a minimum wage, providing him with income and contributing to rural development. \\nRaju, being eligible for MNREGA, can volunteer for unskilled manual work and receive guaranteed wages for up to 100 days a year. This ensures a stable income, improving his livelihood security and potentially lifting him out of poverty. \\n',\n",
       " \"Raju, if eligible for Agnipath, is a young Indian looking for a chance to serve his country. He might be facing unemployment or lack of opportunities and seeks a structured path to gain valuable skills and a future career. \\nRaju can apply for the Agnipath scheme online, through recruitment rallies, or at technical institutes. He'll be tested and if selected, will receive training and four years of service. Upon completion, he'll receive a certificate recognizing his skills. He could also be selected for permanent service. \\nRaju can apply for the Agnipath scheme, which offers a four-year stint in the armed forces. This will provide him with rigorous training and valuable skills, making him more employable after his service. He'll also gain a certificate recognizing his skills, along with a sense of patriotism and discipline.  If he performs exceptionally, he may even get a chance to continue serving in the armed forces permanently. \\n\",\n",
       " \"Raju, being a member of the bottom 40% of the Indian population, is eligible for the Ayushman Bharat scheme. This means he likely faces financial barriers to accessing healthcare, potentially suffering from illnesses that require costly secondary or tertiary care. \\nRaju doesn't need to apply. He automatically qualifies based on his socioeconomic status. He receives free health insurance covering up to Rs. 5 lakhs per year for secondary and tertiary hospitalizations. \\nRaju, being eligible for Ayushman Bharat PM-JAY, can access free healthcare services for secondary and tertiary care hospitalization up to Rs. 5 lakhs per year.  This scheme aims to improve access to quality healthcare, reduce financial burden for treatment, and ultimately improve the overall well-being of beneficiaries like Raju. \\n\",\n",
       " \"Raju, living in a rural household, likely relies on traditional fuels like firewood for cooking. This exposes him and his family to harmful smoke, increasing the risk of respiratory illnesses. He can apply for PM Ujjwala Yojana online to receive an LPG connection, providing cleaner fuel and reducing health risks. \\nRaju can apply for PM Ujjwala Yojana online to get a free LPG connection. This will provide him with clean cooking fuel, reducing health risks from using traditional fuels like firewood. He'll also be contributing to a cleaner environment and women empowerment by reducing cooking time and effort for families. \\nRaju can apply for the PM Ujjwala Yojana online. This scheme will provide him with an LPG connection, which will replace his use of harmful traditional fuels. This will improve his family's health by reducing indoor pollution and the risk of respiratory illnesses.  It will also save time and effort for his family, especially women, who traditionally do most of the cooking. \\n\",\n",
       " 'Raju, a farmer, is eligible for the PM Fasal Bima Yojana.  He can voluntarily enroll in the scheme and receive insurance coverage for his crops.  However, if he experiences crop loss, he needs to report it promptly to the insurance company within 72 hours to receive compensation. \\nRaju can apply for PM Fasal Bima Yojana online through the official portal. He needs to provide details about his crop and location. If his crop suffers damage, he must report it to the insurance company within 72 hours. Upon successful application, Raju receives comprehensive insurance coverage for his crops, ensuring income stability and helping him continue farming.\\nRaju, as an eligible farmer, can voluntarily enroll in PM Fasal Bima Yojana. This insurance protects him against crop failure, stabilizing his income and allowing him to continue farming. If he faces crop loss, he needs to file a claim with the insurance company within 72 hours. This scheme ensures financial security for Raju, allowing him to confidently invest in farming practices and weather unforeseen events. \\n',\n",
       " 'Raju, being a member of a Scheduled Caste or Tribe, is eligible for the Standup India scheme.  However, he must navigate potential challenges like securing the necessary loan amount, finding suitable business opportunities, and accessing support services like training and mentorship. \\nRaju, being eligible for Standup India, needs to apply online for a loan of ₹10 Lakhs to ₹1 Crore for his greenfield enterprise in manufacturing, trading or services.  The scheme provides a composite loan, a Rupay debit card for convenience, and hand-holding support through agencies for training, project report preparation, and more. \\nRaju, being eligible for the Standup India scheme, can apply online for a loan between Rs. 10 lakhs and Rs. 1 crore to set up a new business in manufacturing, trading, or services. The scheme aims to empower entrepreneurs like Raju by providing financial support, training, and mentorship, ultimately helping him establish a successful business and improve his financial standing. \\n',\n",
       " \"Raju likely belongs to the Economically Weaker Section (EWS) or Low Income Group (LIG) and is facing the challenge of not owning a proper house. He may be living in a slum or inadequate housing, lacking security and comfort. This scheme aims to help him secure affordable home ownership. \\nRaju, if you are an adult earning member without a pucca house and your family income is below Rs. 18 lakh, you can apply for PM Awaas Yojana.  You'll need to provide details about your family, income, and housing situation. If approved, you'll get a subsidy on your home loan interest rate, making owning a house more affordable.  \\nRaju, to benefit from PM Awaas Yojana, must be a member of a family without a pucca house and have an annual income below ₹18 lakh.  He may qualify for a subsidized home loan, making homeownership more attainable and improving his family's living conditions. \\n\",\n",
       " \"Raju is the guardian of a girl child and is eligible for the Sukanya Samriddhi Account Scheme. He can open an account to save for her future education. This scheme offers tax benefits and a high interest rate, but Raju must ensure he makes regular deposits to maximize the benefits for his daughter. \\nRaju can open a Sukanya Samriddhi Account for his daughter at any India Post office or authorized bank branch. He needs to provide proof of his daughter's birth and his own identification. The account earns a tax-free interest rate of 8.2% and allows tax deductions. \\nRaju can open a Sukanya Samriddhi Account for his daughter,  saving for her future education. This government-backed scheme offers tax benefits and high interest, helping her pursue her dreams. \\n\",\n",
       " \"Raju, an Indian citizen, likely lacks access to basic financial services like a bank account. This scheme aims to provide him with a zero-balance bank account, allowing him to deposit and withdraw money, access credit, and even receive financial literacy training.  \\nRaju, being an Indian national, can visit the official PMJDY portal to apply. He'll need to provide personal details and, if he's under 18, his guardian's information. Upon successful application, Raju will receive a zero-balance bank account with access to financial services like deposits, withdrawals, remittances, credit, insurance, and pensions. \\nRaju, being an Indian national, can open a zero-balance bank account under PMJDY. This will provide him access to financial services like deposits, withdrawals, and even loans, helping him manage his money, save for the future, and access vital services he may have lacked before. \\n\",\n",
       " 'Raju lives in a rural area and his village lacks proper road access, making it difficult to transport goods and access essential services. He likely benefits from the PMGSY scheme, which aims to connect his village with all-weather roads, improving his quality of life and economic opportunities. \\nRaju needs to contact the District Panchayat to find out about the specific requirements for applying for the Pradhan Mantri Gram Sadak Yojana. The scheme provides all-weather road access to his village, helping improve connectivity and job opportunities. \\nRaju, living in a village with a population under 500, could benefit from PMGSY. This scheme aims to provide all-weather roads connecting his village to the outside world, enabling easier movement of goods and people, potentially leading to better employment opportunities and overall development.  \\n']"
      ]
     },
     "execution_count": 95,
     "metadata": {},
     "output_type": "execute_result"
    }
   ],
   "source": [
    "summarised_ground_truth=(df['Writeup_1']+df['Writeup_2']+df['Writeup_3']).tolist()\n",
    "summarised_ground_truth"
   ]
  },
  {
   "cell_type": "code",
   "execution_count": 96,
   "metadata": {},
   "outputs": [],
   "source": [
    "tokenized_summarised_ground_truth = tokenizer(summarised_ground_truth, padding=True, truncation=True, return_tensors=\"pt\").input_ids\n",
    "summaries=[summaryBillSum,summaryCNN,summaryBillCNN]\n",
    "tokenized_predictions=[]\n",
    "for i in summaries:\n",
    "    tokenized_predictions.append(tokenizer(i, padding=True, truncation=True, return_tensors=\"pt\").input_ids)\n",
    "eval_predictions=[]\n",
    "for i in tokenized_predictions:\n",
    "    eval_predictions.append((i, tokenized_summarised_ground_truth))\n",
    "metrics=[]\n",
    "for i in eval_predictions:\n",
    "    metrics.append(compute_metrics(eval_pred=i))"
   ]
  },
  {
   "cell_type": "code",
   "execution_count": 97,
   "metadata": {},
   "outputs": [
    {
     "data": {
      "text/plain": [
       "[{'rouge1': 0.2475,\n",
       "  'rouge2': 0.0538,\n",
       "  'rougeL': 0.1449,\n",
       "  'rougeLsum': 0.1456,\n",
       "  'gen_len': 88.0},\n",
       " {'rouge1': 0.2475,\n",
       "  'rouge2': 0.0538,\n",
       "  'rougeL': 0.1449,\n",
       "  'rougeLsum': 0.1456,\n",
       "  'gen_len': 88.0},\n",
       " {'rouge1': 0.2537,\n",
       "  'rouge2': 0.073,\n",
       "  'rougeL': 0.1574,\n",
       "  'rougeLsum': 0.1577,\n",
       "  'gen_len': 81.2}]"
      ]
     },
     "execution_count": 97,
     "metadata": {},
     "output_type": "execute_result"
    }
   ],
   "source": [
    "metrics"
   ]
  },
  {
   "cell_type": "code",
   "execution_count": 98,
   "metadata": {},
   "outputs": [
    {
     "data": {
      "text/html": [
       "<div>\n",
       "<style scoped>\n",
       "    .dataframe tbody tr th:only-of-type {\n",
       "        vertical-align: middle;\n",
       "    }\n",
       "\n",
       "    .dataframe tbody tr th {\n",
       "        vertical-align: top;\n",
       "    }\n",
       "\n",
       "    .dataframe thead th {\n",
       "        text-align: right;\n",
       "    }\n",
       "</style>\n",
       "<table border=\"1\" class=\"dataframe\">\n",
       "  <thead>\n",
       "    <tr style=\"text-align: right;\">\n",
       "      <th></th>\n",
       "      <th>rouge1</th>\n",
       "      <th>rouge2</th>\n",
       "      <th>rougeL</th>\n",
       "      <th>rougeLsum</th>\n",
       "      <th>gen_len</th>\n",
       "    </tr>\n",
       "  </thead>\n",
       "  <tbody>\n",
       "    <tr>\n",
       "      <th>BillSum</th>\n",
       "      <td>0.2475</td>\n",
       "      <td>0.0538</td>\n",
       "      <td>0.1449</td>\n",
       "      <td>0.1456</td>\n",
       "      <td>88.0</td>\n",
       "    </tr>\n",
       "    <tr>\n",
       "      <th>CNN</th>\n",
       "      <td>0.2475</td>\n",
       "      <td>0.0538</td>\n",
       "      <td>0.1449</td>\n",
       "      <td>0.1456</td>\n",
       "      <td>88.0</td>\n",
       "    </tr>\n",
       "    <tr>\n",
       "      <th>BillSum_CNN</th>\n",
       "      <td>0.2537</td>\n",
       "      <td>0.0730</td>\n",
       "      <td>0.1574</td>\n",
       "      <td>0.1577</td>\n",
       "      <td>81.2</td>\n",
       "    </tr>\n",
       "  </tbody>\n",
       "</table>\n",
       "</div>"
      ],
      "text/plain": [
       "             rouge1  rouge2  rougeL  rougeLsum  gen_len\n",
       "BillSum      0.2475  0.0538  0.1449     0.1456     88.0\n",
       "CNN          0.2475  0.0538  0.1449     0.1456     88.0\n",
       "BillSum_CNN  0.2537  0.0730  0.1574     0.1577     81.2"
      ]
     },
     "execution_count": 98,
     "metadata": {},
     "output_type": "execute_result"
    }
   ],
   "source": [
    "metrics_df=pd.DataFrame(metrics,index=['BillSum','CNN','BillSum_CNN'])\n",
    "metrics_df"
   ]
  }
 ],
 "metadata": {
  "kernelspec": {
   "display_name": "base",
   "language": "python",
   "name": "python3"
  },
  "language_info": {
   "codemirror_mode": {
    "name": "ipython",
    "version": 3
   },
   "file_extension": ".py",
   "mimetype": "text/x-python",
   "name": "python",
   "nbconvert_exporter": "python",
   "pygments_lexer": "ipython3",
   "version": "3.11.5"
  }
 },
 "nbformat": 4,
 "nbformat_minor": 2
}
